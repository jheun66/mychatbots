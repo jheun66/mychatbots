{
 "cells": [
  {
   "cell_type": "code",
   "execution_count": 1,
   "metadata": {},
   "outputs": [],
   "source": [
    "#@title Licensed under the Apache License, Version 2.0 (the \"License\");\n",
    "# you may not use this file except in compliance with the License.\n",
    "# You may obtain a copy of the License at\n",
    "#\n",
    "# https://www.apache.org/licenses/LICENSE-2.0\n",
    "#\n",
    "# Unless required by applicable law or agreed to in writing, software\n",
    "# distributed under the License is distributed on an \"AS IS\" BASIS,\n",
    "# WITHOUT WARRANTIES OR CONDITIONS OF ANY KIND, either express or implied.\n",
    "# See the License for the specific language governing permissions and\n",
    "# limitations under the License."
   ]
  },
  {
   "cell_type": "markdown",
   "metadata": {},
   "source": [
    "# Transformer Chatbot\n",
    "\n",
    "https://colab.research.google.com/github/tensorflow/examples/blob/master/community/en/transformer_chatbot.ipynb#scrollTo=YcK7-_3RxRvK\n",
    "\n",
    "위 튜토리얼 번역하면서 정리"
   ]
  },
  {
   "cell_type": "markdown",
   "metadata": {},
   "source": [
    "이 튜토리얼은 <a href=\"https://arxiv.org/abs/1706.03762\" class=\"external\">Transformer model</a>을 사용하여 챗봇을 학습시킵니다.\n",
    "이 고급 예제는 [text generation](https://tensorflow.org/alpha/tutorials/text/text_generation), [attention](https://www.tensorflow.org/alpha/tutorials/text/nmt_with_attention) 과 [transformer](https://www.tensorflow.org/alpha/tutorials/text/transformer)에 대한 지식을 전제로 진행됩니다.\n",
    "\n",
    "Transformer 모델의 핵심 아이디어는 *self-attention*—, 입력 시퀀스의 (representation)을 계산하기 위하여 입력 시퀀스의 다른 위치를 참조하는 기술입니다. Transformer는 self-attention 레이어 스택을 생성하며 이는 아래에서 *Scaled dot product attention*  과 *Multi-head attention* 섹션에 설명되어 있습니다.\n",
    "\n",
    "Note: 모델 구조는  [Transformer model for language understanding](https://www.tensorflow.org/alpha/tutorials/text/transformer)와 동일합니다. 그리고 우리는 Subclassing 대신에 Fuctional approach로 같은 모델을 어떻게 구현하는지 설명합니다."
   ]
  },
  {
   "cell_type": "code",
   "execution_count": 2,
   "metadata": {},
   "outputs": [
    {
     "name": "stdout",
     "output_type": "stream",
     "text": [
      "Requirement already satisfied: tensorflow-datasets==1.2.0 in c:\\users\\eun\\anaconda3\\envs\\chatbot\\lib\\site-packages (1.2.0)\n",
      "Requirement already satisfied: requests>=2.19.0 in c:\\users\\eun\\anaconda3\\envs\\chatbot\\lib\\site-packages (from tensorflow-datasets==1.2.0) (2.22.0)\n",
      "Requirement already satisfied: future in c:\\users\\eun\\anaconda3\\envs\\chatbot\\lib\\site-packages (from tensorflow-datasets==1.2.0) (0.18.2)\n",
      "Requirement already satisfied: numpy in c:\\users\\eun\\anaconda3\\envs\\chatbot\\lib\\site-packages (from tensorflow-datasets==1.2.0) (1.16.5)\n",
      "Requirement already satisfied: wrapt in c:\\users\\eun\\anaconda3\\envs\\chatbot\\lib\\site-packages (from tensorflow-datasets==1.2.0) (1.11.2)\n",
      "Requirement already satisfied: dill in c:\\users\\eun\\anaconda3\\envs\\chatbot\\lib\\site-packages (from tensorflow-datasets==1.2.0) (0.3.1.1)\n",
      "Requirement already satisfied: promise in c:\\users\\eun\\anaconda3\\envs\\chatbot\\lib\\site-packages (from tensorflow-datasets==1.2.0) (2.2.1)\n",
      "Requirement already satisfied: protobuf>=3.6.1 in c:\\users\\eun\\anaconda3\\envs\\chatbot\\lib\\site-packages (from tensorflow-datasets==1.2.0) (3.10.0)\n",
      "Requirement already satisfied: absl-py in c:\\users\\eun\\anaconda3\\envs\\chatbot\\lib\\site-packages (from tensorflow-datasets==1.2.0) (0.8.1)\n",
      "Requirement already satisfied: psutil in c:\\users\\eun\\anaconda3\\envs\\chatbot\\lib\\site-packages (from tensorflow-datasets==1.2.0) (5.6.3)\n",
      "Requirement already satisfied: tensorflow-metadata in c:\\users\\eun\\anaconda3\\envs\\chatbot\\lib\\site-packages (from tensorflow-datasets==1.2.0) (0.15.0)\n",
      "Requirement already satisfied: six in c:\\users\\eun\\anaconda3\\envs\\chatbot\\lib\\site-packages (from tensorflow-datasets==1.2.0) (1.12.0)\n",
      "Requirement already satisfied: attrs in c:\\users\\eun\\anaconda3\\envs\\chatbot\\lib\\site-packages (from tensorflow-datasets==1.2.0) (19.2.0)\n",
      "Requirement already satisfied: termcolor in c:\\users\\eun\\anaconda3\\envs\\chatbot\\lib\\site-packages (from tensorflow-datasets==1.2.0) (1.1.0)\n",
      "Requirement already satisfied: tqdm in c:\\users\\eun\\anaconda3\\envs\\chatbot\\lib\\site-packages (from tensorflow-datasets==1.2.0) (4.36.1)\n",
      "Requirement already satisfied: certifi>=2017.4.17 in c:\\users\\eun\\anaconda3\\envs\\chatbot\\lib\\site-packages (from requests>=2.19.0->tensorflow-datasets==1.2.0) (2019.9.11)\n",
      "Requirement already satisfied: idna<2.9,>=2.5 in c:\\users\\eun\\anaconda3\\envs\\chatbot\\lib\\site-packages (from requests>=2.19.0->tensorflow-datasets==1.2.0) (2.8)\n",
      "Requirement already satisfied: urllib3!=1.25.0,!=1.25.1,<1.26,>=1.21.1 in c:\\users\\eun\\anaconda3\\envs\\chatbot\\lib\\site-packages (from requests>=2.19.0->tensorflow-datasets==1.2.0) (1.24.2)\n",
      "Requirement already satisfied: chardet<3.1.0,>=3.0.2 in c:\\users\\eun\\anaconda3\\envs\\chatbot\\lib\\site-packages (from requests>=2.19.0->tensorflow-datasets==1.2.0) (3.0.4)\n",
      "Requirement already satisfied: setuptools in c:\\users\\eun\\anaconda3\\envs\\chatbot\\lib\\site-packages (from protobuf>=3.6.1->tensorflow-datasets==1.2.0) (41.4.0)\n",
      "Requirement already satisfied: googleapis-common-protos in c:\\users\\eun\\anaconda3\\envs\\chatbot\\lib\\site-packages (from tensorflow-metadata->tensorflow-datasets==1.2.0) (1.6.0)\n"
     ]
    }
   ],
   "source": [
    "from __future__ import absolute_import, division, print_function, unicode_literals\n",
    "\n",
    "try:\n",
    "  # The %tensorflow_version magic only works in colab.\n",
    "  %tensorflow_version 2.x\n",
    "except Exception:\n",
    "  pass\n",
    "import tensorflow as tf\n",
    "tf.random.set_seed(1234)\n",
    "\n",
    "!pip install tensorflow-datasets==1.2.0\n",
    "import tensorflow_datasets as tfds\n",
    "\n",
    "import os\n",
    "import re\n",
    "import numpy as np\n",
    "\n",
    "import matplotlib.pyplot as plt"
   ]
  },
  {
   "cell_type": "markdown",
   "metadata": {},
   "source": [
    "## Prepare Dataset"
   ]
  },
  {
   "cell_type": "markdown",
   "metadata": {},
   "source": [
    "We will use the conversations in movies and TV shows provided by [Cornell Movie-Dialogs Corpus](https://www.cs.cornell.edu/~cristian/Cornell_Movie-Dialogs_Corpus.html), which contains more than 220 thousands conversational exchanges between more than 10k pairs of movie characters, as our dataset.\n",
    "\n",
    "`movie_conversations.txt` contains list of the conversation IDs and `movie_lines.text` contains the text of assoicated with each conversation ID. For further  information regarding the dataset, please check the README file in the zip file.\n"
   ]
  },
  {
   "cell_type": "code",
   "execution_count": 3,
   "metadata": {},
   "outputs": [],
   "source": [
    "path_to_zip = tf.keras.utils.get_file(\n",
    "    'cornell_movie_dialogs.zip',\n",
    "    origin=\n",
    "    'http://www.cs.cornell.edu/~cristian/data/cornell_movie_dialogs_corpus.zip',\n",
    "    extract=True)\n",
    "\n",
    "path_to_dataset = os.path.join(\n",
    "    os.path.dirname(path_to_zip), \"cornell movie-dialogs corpus\")\n",
    "\n",
    "path_to_movie_lines = os.path.join(path_to_dataset, 'movie_lines.txt')\n",
    "path_to_movie_conversations = os.path.join(path_to_dataset,\n",
    "                                           'movie_conversations.txt')"
   ]
  },
  {
   "cell_type": "markdown",
   "metadata": {},
   "source": [
    "### Load and preprocess data\n",
    "\n",
    "이 예제를 단순하고 빠르게 하기위해 최대 학습 샘플의 수를 `MAX_SAMPLES=25000`로 최대 문장의 길이를 `MAX_LENGTH=40`로 제한합니다.\n",
    "\n",
    "다음과 같은 순서로 데이터셋의 전처리를 수행합니다:\n",
    "* `MAX_SAMPLES` 대화 쌍을 `questions` 과 `answers` 리스트로 추출합니다.\n",
    "* 각각의 문장에서 특수 문자를 제거하며 전처리를 진행합니다.\n",
    "* [TensorFlow Datasets SubwordTextEncoder](https://www.tensorflow.org/datasets/api_docs/python/tfds/features/text/SubwordTextEncoder)를 사용하여 tokenizer (map text to ID and ID to text)를 빌드합니다.\n",
    "* 각 문장에 문장의 시작과 끝을 알려주는 `START_TOKEN` 와 `END_TOKEN`을 추가하고 토큰화합니다.\n",
    "* `MAX_LENGTH` 토큰보다 많은 토큰을 가진 문장을 제외합니다.\n",
    "* 문장을 `MAX_LENGTH` 크기로 패딩을 추가합니다. "
   ]
  },
  {
   "cell_type": "code",
   "execution_count": 4,
   "metadata": {},
   "outputs": [],
   "source": [
    "# Maximum number of samples to preprocess\n",
    "MAX_SAMPLES = 25000\n",
    "\n",
    "def preprocess_sentence(sentence):\n",
    "  sentence = sentence.lower().strip()\n",
    "  # creating a space between a word and the punctuation following it\n",
    "  # eg: \"he is a boy.\" => \"he is a boy .\"\n",
    "  sentence = re.sub(r\"([?.!,])\", r\" \\1 \", sentence)\n",
    "  sentence = re.sub(r'[\" \"]+', \" \", sentence)\n",
    "  # replacing everything with space except (a-z, A-Z, \".\", \"?\", \"!\", \",\")\n",
    "  sentence = re.sub(r\"[^a-zA-Z?.!,]+\", \" \", sentence)\n",
    "  sentence = sentence.strip()\n",
    "  # adding a start and an end token to the sentence\n",
    "  return sentence\n",
    "\n",
    "\n",
    "def load_conversations():\n",
    "  # dictionary of line id to text\n",
    "  id2line = {}\n",
    "  with open(path_to_movie_lines, errors='ignore') as file:\n",
    "    lines = file.readlines()\n",
    "  for line in lines:\n",
    "    parts = line.replace('\\n', '').split(' +++$+++ ')\n",
    "    id2line[parts[0]] = parts[4]\n",
    "\n",
    "  inputs, outputs = [], []\n",
    "  with open(path_to_movie_conversations, 'r') as file:\n",
    "    lines = file.readlines()\n",
    "  for line in lines:\n",
    "    parts = line.replace('\\n', '').split(' +++$+++ ')\n",
    "    # get conversation in a list of line ID\n",
    "    conversation = [line[1:-1] for line in parts[3][1:-1].split(', ')]\n",
    "    for i in range(len(conversation) - 1):\n",
    "      inputs.append(preprocess_sentence(id2line[conversation[i]]))\n",
    "      outputs.append(preprocess_sentence(id2line[conversation[i + 1]]))\n",
    "      if len(inputs) >= MAX_SAMPLES:\n",
    "        return inputs, outputs\n",
    "  return inputs, outputs\n",
    "\n",
    "\n",
    "questions, answers = load_conversations()"
   ]
  },
  {
   "cell_type": "code",
   "execution_count": 5,
   "metadata": {},
   "outputs": [
    {
     "name": "stdout",
     "output_type": "stream",
     "text": [
      "Sample question: i really , really , really wanna go , but i can t . not unless my sister goes .\n",
      "Sample answer: i m workin on it . but she doesn t seem to be goin for him .\n"
     ]
    }
   ],
   "source": [
    "print('Sample question: {}'.format(questions[20]))\n",
    "print('Sample answer: {}'.format(answers[20]))"
   ]
  },
  {
   "cell_type": "code",
   "execution_count": 6,
   "metadata": {},
   "outputs": [],
   "source": [
    "# Build tokenizer using tfds for both questions and answers\n",
    "tokenizer = tfds.features.text.SubwordTextEncoder.build_from_corpus(\n",
    "    questions + answers, target_vocab_size=2**13)\n",
    "\n",
    "# Define start and end token to indicate the start and end of a sentence\n",
    "START_TOKEN, END_TOKEN = [tokenizer.vocab_size], [tokenizer.vocab_size + 1]\n",
    "\n",
    "# Vocabulary size plus start and end token\n",
    "VOCAB_SIZE = tokenizer.vocab_size + 2"
   ]
  },
  {
   "cell_type": "code",
   "execution_count": 7,
   "metadata": {},
   "outputs": [
    {
     "name": "stdout",
     "output_type": "stream",
     "text": [
      "Tokenized sample question: [4, 253, 3, 253, 3, 150, 430, 168, 3, 41, 4, 39, 8007, 2, 33, 821, 27, 1652, 2843, 1]\n"
     ]
    }
   ],
   "source": [
    "print('Tokenized sample question: {}'.format(tokenizer.encode(questions[20])))"
   ]
  },
  {
   "cell_type": "code",
   "execution_count": 8,
   "metadata": {},
   "outputs": [],
   "source": [
    "# Maximum sentence length\n",
    "MAX_LENGTH = 40\n",
    "\n",
    "\n",
    "# Tokenize, filter and pad sentences\n",
    "def tokenize_and_filter(inputs, outputs):\n",
    "  tokenized_inputs, tokenized_outputs = [], []\n",
    "  \n",
    "  for (sentence1, sentence2) in zip(inputs, outputs):\n",
    "    # tokenize sentence\n",
    "    sentence1 = START_TOKEN + tokenizer.encode(sentence1) + END_TOKEN\n",
    "    sentence2 = START_TOKEN + tokenizer.encode(sentence2) + END_TOKEN\n",
    "    # check tokenized sentence max length\n",
    "    if len(sentence1) <= MAX_LENGTH and len(sentence2) <= MAX_LENGTH:\n",
    "      tokenized_inputs.append(sentence1)\n",
    "      tokenized_outputs.append(sentence2)\n",
    "  \n",
    "  # pad tokenized sentences\n",
    "  tokenized_inputs = tf.keras.preprocessing.sequence.pad_sequences(\n",
    "      tokenized_inputs, maxlen=MAX_LENGTH, padding='post')\n",
    "  tokenized_outputs = tf.keras.preprocessing.sequence.pad_sequences(\n",
    "      tokenized_outputs, maxlen=MAX_LENGTH, padding='post')\n",
    "  \n",
    "  return tokenized_inputs, tokenized_outputs\n",
    "\n",
    "\n",
    "questions, answers = tokenize_and_filter(questions, answers)"
   ]
  },
  {
   "cell_type": "code",
   "execution_count": 9,
   "metadata": {},
   "outputs": [
    {
     "name": "stdout",
     "output_type": "stream",
     "text": [
      "Vocab size: 8149\n",
      "Number of samples: 22073\n"
     ]
    }
   ],
   "source": [
    "print('Vocab size: {}'.format(VOCAB_SIZE))\n",
    "print('Number of samples: {}'.format(len(questions)))"
   ]
  },
  {
   "cell_type": "markdown",
   "metadata": {},
   "source": [
    "### Create `tf.data.Dataset`\n",
    "\n",
    "caching과 prefetching 같은 학습 프로세스를 빠르게 하는 특징들을 활용하기 위한 input pipeline을 구성하기 위해  [tf.data.Dataset API](https://www.tensorflow.org/api_docs/python/tf/data)를 사용합니다.\n",
    "\n",
    "transformer는 auto-regressive model 입니다: 한번에 한 파트씩 예측하고 그 결과를 사용하여 다음에 나올 값을 결정합니다. \n",
    "\n",
    "이 예제에서는 학습하는 동안 teacher-forcing을 사용합니다. teacher forcing은 현재 스텝에서 모델이 예측하는지에 상관없이 실제 출력을 다음 스텝으로 전달합니다.  \n",
    "\n",
    "transformer가 각 단어를 예측할 때, self-attention은 입력 시퀀스에서 이전 단어들을 보고 다음 단어를 더 잘 예측하도록 합니다.\n",
    "\n",
    "모델이 예상 출력에 peaking되는 것을 막기 위해 look-ahead mask를 사용합니다.\n",
    "\n",
    "타겟은 decoder의 input에 패딩을 한 `decoder_inputs`과 loss와 accuracy를 계산하기 위한 `cropped_targets`으로 나뉩니다. "
   ]
  },
  {
   "cell_type": "code",
   "execution_count": 10,
   "metadata": {},
   "outputs": [],
   "source": [
    "BATCH_SIZE = 64\n",
    "BUFFER_SIZE = 20000\n",
    "\n",
    "# decoder inputs use the previous target as input\n",
    "# remove START_TOKEN from targets\n",
    "dataset = tf.data.Dataset.from_tensor_slices((\n",
    "    {\n",
    "        'inputs': questions,\n",
    "        'dec_inputs': answers[:, :-1]\n",
    "    },\n",
    "    {\n",
    "        'outputs': answers[:, 1:]\n",
    "    },\n",
    "))\n",
    "\n",
    "dataset = dataset.cache()\n",
    "dataset = dataset.shuffle(BUFFER_SIZE)\n",
    "dataset = dataset.batch(BATCH_SIZE)\n",
    "dataset = dataset.prefetch(tf.data.experimental.AUTOTUNE)"
   ]
  },
  {
   "cell_type": "code",
   "execution_count": 11,
   "metadata": {},
   "outputs": [
    {
     "name": "stdout",
     "output_type": "stream",
     "text": [
      "<PrefetchDataset shapes: ({inputs: (None, 40), dec_inputs: (None, 39)}, {outputs: (None, 39)}), types: ({inputs: tf.int32, dec_inputs: tf.int32}, {outputs: tf.int32})>\n"
     ]
    }
   ],
   "source": [
    "print(dataset)"
   ]
  },
  {
   "cell_type": "markdown",
   "metadata": {},
   "source": [
    "## Attention"
   ]
  },
  {
   "cell_type": "markdown",
   "metadata": {},
   "source": [
    "### Scaled dot product Attention\n",
    "\n",
    "이 transformer에 사용되는 scaled dot-product attention은 Q (query), K (key), V (value) 세가지 input을 가집니다. attention weights를 계산하기 위새 사용되는 방정식은 다음과 같습니다.\n",
    "\n",
    "$$\\Large{Attention(Q, K, V) = softmax_k(\\frac{QK^T}{\\sqrt{d_k}}) V} $$\n",
    "\n",
    "softmax 정규화가 `key`에 의해 수행될 때, 이 값들은 `query`에 주어진 중요도를 결정합니다.\n",
    "\n",
    "출력물은 attention weights와 `value` 벡터의 곱으로 나타냅니다. 이를 통해 우리가 집중하길 원하는 단어는 그대로 두고 관련없는 단어는 지웁니다.\n",
    "\n",
    "dot-product attention을 key depth의 제곱근으로 스케일링합니다. 이것은 depth가 클수록, dot product의 크기가 더욱 커지기 때문에 기울기가 작은 softmax function을 사용할 때 softmax가 매우 힘들기 때문입니다.\n",
    "\n",
    "예를 들어 `query`와 `key`가 평균이 0이고 분산이 1이라 가정하면 이들의 행렬곱은 평균이 0이고 분산이 `dk`일 것입니다. 그러므로 (다른 숫자가 아닌) *square root of `dk`* 로 스케일링합니다. 왜냐하면 소프트맥스를 더 부드럽게 하기위해서는 `query`와 `key`의 행렬곱이 평균 0과 분산 1을 가져야 하기 때문입니다.\n",
    "\n",
    "mask는 *-1e9 (close to negative infinity)* 로 곱합니다. 이는 마스크가 `query`와 `key`의 스케일된 행렬 곱에 더해지고 softmax 직전에 적용되기 때문입니다. 목표는 이 셀들(마스크한 부분)을 0으로 만드는 것입니다. softmax에 큰 음의 입력을 하면 출력으로 거의 0에 가깝게 나옵니다."
   ]
  },
  {
   "cell_type": "code",
   "execution_count": 12,
   "metadata": {},
   "outputs": [],
   "source": [
    "def scaled_dot_product_attention(query, key, value, mask):\n",
    "  \"\"\"Calculate the attention weights. \"\"\"\n",
    "  matmul_qk = tf.matmul(query, key, transpose_b=True)\n",
    "\n",
    "  # scale matmul_qk\n",
    "  depth = tf.cast(tf.shape(key)[-1], tf.float32)\n",
    "  logits = matmul_qk / tf.math.sqrt(depth)\n",
    "\n",
    "  # add the mask to zero out padding tokens\n",
    "  if mask is not None:\n",
    "    logits += (mask * -1e9)\n",
    "\n",
    "  # softmax is normalized on the last axis (seq_len_k)\n",
    "  attention_weights = tf.nn.softmax(logits, axis=-1)\n",
    "\n",
    "  output = tf.matmul(attention_weights, value)\n",
    "\n",
    "  return output"
   ]
  },
  {
   "cell_type": "markdown",
   "metadata": {},
   "source": [
    "### Multi-head attention\n",
    "\n",
    "<img src=\"https://www.tensorflow.org/images/tutorials/transformer/multi_head_attention.png\" width=\"500\" alt=\"multi-head attention\">\n",
    "\n",
    "\n",
    "Multi-head attention은 네 파트로 구성됩니다:\n",
    "* Linear layers and split into heads.\n",
    "* Scaled dot-product attention.\n",
    "* Concatenation of heads.\n",
    "* Final linear layer.\n",
    "\n",
    "각각의 multi-head attention block은 세개의 입력을 가집니다; Q (query), K (key), V (value). 이들은 linear (Dense) layers를 통해 여러 헤드로 분할됩니다.\n",
    "\n",
    "위에서 정의한 `scaled_dot_product_attention` 각 헤드에 적용됩니다 (broadcasted for efficiency). attention 단계에서 적절한 mask가 사용되어야합니다. 그런 다음 ( `tf.transpose`, and `tf.reshape`를 사용하여) 각 헤드의 attention output이 연결되고 최종 `Dense`를 통해 출력됩니다.\n",
    "\n",
    "모델이 다른 표현 공간으로 부터 다른 위치의 정보들을 함께 참여하기 위해서 single attenion head 대신 `query`, `key`, and `value` 를 multiple heads로 분리합니다. 분할 후 각 헤드의 차원수가 감소하므로 전체 계산 비용은 전체 차원의 single head attention과 동일합니다."
   ]
  },
  {
   "cell_type": "code",
   "execution_count": 13,
   "metadata": {},
   "outputs": [],
   "source": [
    "class MultiHeadAttention(tf.keras.layers.Layer):\n",
    "\n",
    "  def __init__(self, d_model, num_heads, name=\"multi_head_attention\"):\n",
    "    super(MultiHeadAttention, self).__init__(name=name)\n",
    "    self.num_heads = num_heads\n",
    "    self.d_model = d_model\n",
    "\n",
    "    assert d_model % self.num_heads == 0\n",
    "\n",
    "    self.depth = d_model // self.num_heads\n",
    "\n",
    "    self.query_dense = tf.keras.layers.Dense(units=d_model)\n",
    "    self.key_dense = tf.keras.layers.Dense(units=d_model)\n",
    "    self.value_dense = tf.keras.layers.Dense(units=d_model)\n",
    "\n",
    "    self.dense = tf.keras.layers.Dense(units=d_model)\n",
    "\n",
    "  def split_heads(self, inputs, batch_size):\n",
    "    inputs = tf.reshape(\n",
    "        inputs, shape=(batch_size, -1, self.num_heads, self.depth))\n",
    "    return tf.transpose(inputs, perm=[0, 2, 1, 3])\n",
    "\n",
    "  def call(self, inputs):\n",
    "    query, key, value, mask = inputs['query'], inputs['key'], inputs[\n",
    "        'value'], inputs['mask']\n",
    "    batch_size = tf.shape(query)[0]\n",
    "\n",
    "    # linear layers\n",
    "    query = self.query_dense(query)\n",
    "    key = self.key_dense(key)\n",
    "    value = self.value_dense(value)\n",
    "\n",
    "    # split heads\n",
    "    query = self.split_heads(query, batch_size)\n",
    "    key = self.split_heads(key, batch_size)\n",
    "    value = self.split_heads(value, batch_size)\n",
    "\n",
    "    # scaled dot-product attention\n",
    "    scaled_attention = scaled_dot_product_attention(query, key, value, mask)\n",
    "\n",
    "    scaled_attention = tf.transpose(scaled_attention, perm=[0, 2, 1, 3])\n",
    "\n",
    "    # concatenation of heads\n",
    "    concat_attention = tf.reshape(scaled_attention,\n",
    "                                  (batch_size, -1, self.d_model))\n",
    "\n",
    "    # final linear layer\n",
    "    outputs = self.dense(concat_attention)\n",
    "\n",
    "    return outputs"
   ]
  },
  {
   "cell_type": "markdown",
   "metadata": {},
   "source": [
    "## Transformer"
   ]
  },
  {
   "cell_type": "markdown",
   "metadata": {},
   "source": [
    "### Masking"
   ]
  },
  {
   "cell_type": "markdown",
   "metadata": {},
   "source": [
    "`create_padding_mask` and `create_look_ahead` are helper functions to creating masks to mask out padded tokens, we are going to use these helper functions as `tf.keras.layers.Lambda` layers.\n",
    "\n",
    "Mask all the pad tokens (value `0`) in the batch to ensure the model does not treat padding as input."
   ]
  },
  {
   "cell_type": "code",
   "execution_count": 14,
   "metadata": {},
   "outputs": [],
   "source": [
    "def create_padding_mask(x):\n",
    "  mask = tf.cast(tf.math.equal(x, 0), tf.float32)\n",
    "  # (batch_size, 1, 1, sequence length)\n",
    "  return mask[:, tf.newaxis, tf.newaxis, :]"
   ]
  },
  {
   "cell_type": "code",
   "execution_count": 15,
   "metadata": {},
   "outputs": [
    {
     "name": "stdout",
     "output_type": "stream",
     "text": [
      "tf.Tensor(\n",
      "[[[[0. 0. 1. 0. 1.]]]\n",
      "\n",
      "\n",
      " [[[1. 1. 1. 0. 0.]]]], shape=(2, 1, 1, 5), dtype=float32)\n"
     ]
    }
   ],
   "source": [
    "print(create_padding_mask(tf.constant([[1, 2, 0, 3, 0], [0, 0, 0, 4, 5]])))"
   ]
  },
  {
   "cell_type": "markdown",
   "metadata": {},
   "source": [
    "Look-ahead mask to mask the future tokens in a sequence.\n",
    "We also mask out pad tokens.\n",
    "\n",
    "i.e. To predict the third word, only the first and second word will be used\n",
    "\n",
    "* 해당 예제에서는 look ahead mask에 바로 padding mask와 결합하여 결과를 리턴함, [Transformer model for language understanding](https://www.tensorflow.org/alpha/tutorials/text/transformer) 에서의 combined mask와 동일"
   ]
  },
  {
   "cell_type": "code",
   "execution_count": 16,
   "metadata": {},
   "outputs": [],
   "source": [
    "def create_look_ahead_mask(x):\n",
    "  seq_len = tf.shape(x)[1]\n",
    "  look_ahead_mask = 1 - tf.linalg.band_part(tf.ones((seq_len, seq_len)), -1, 0)\n",
    "  padding_mask = create_padding_mask(x)\n",
    "  return tf.maximum(look_ahead_mask, padding_mask)"
   ]
  },
  {
   "cell_type": "code",
   "execution_count": 17,
   "metadata": {},
   "outputs": [
    {
     "name": "stdout",
     "output_type": "stream",
     "text": [
      "tf.Tensor(\n",
      "[[[[0. 1. 1. 1. 1.]\n",
      "   [0. 0. 1. 1. 1.]\n",
      "   [0. 0. 1. 1. 1.]\n",
      "   [0. 0. 1. 0. 1.]\n",
      "   [0. 0. 1. 0. 0.]]]], shape=(1, 1, 5, 5), dtype=float32)\n"
     ]
    }
   ],
   "source": [
    "print(create_look_ahead_mask(tf.constant([[1, 2, 0, 4, 5]])))"
   ]
  },
  {
   "cell_type": "markdown",
   "metadata": {},
   "source": [
    "### Positional encoding\n",
    "\n",
    "이 모델이 어떠한 recurrence 나 convolution 같은 성질을 포함하지 않기 때문에, 이 모델에 문장에서 단어의 상대적 위치에 대한 정보를 주기 위해 positional encoding을 추가하였습니다. \n",
    "\n",
    "embedding vector에 positional encoding vector를 추가합니다. Embeddings은 비슷한 의미를 가진 토큰들끼리 가까이 있는 d-차원 공간의 토큰을 의미합니다. 그러나 embedding은 문장에서 단어의 상대적 위치를 encode 하지 않습니다. 따라서 positional encoding을 추가한하면, 단어들은 *단어들의 의미의 유사성과 그들의 문장내의 위치*를 기반으로 하여 d-차원 공간에서 가까워질 것입니다.\n",
    "\n",
    "See the notebook on [positional encoding](https://github.com/tensorflow/examples/blob/master/community/en/position_encoding.ipynb) to learn more about it. The formula for calculating the positional encoding is as follows:\n",
    "\n",
    "$$\\Large{PE_{(pos, 2i)} = sin(pos / 10000^{2i / d_{model}})} $$\n",
    "$$\\Large{PE_{(pos, 2i+1)} = cos(pos / 10000^{2i / d_{model}})} $$"
   ]
  },
  {
   "cell_type": "code",
   "execution_count": 18,
   "metadata": {},
   "outputs": [],
   "source": [
    "class PositionalEncoding(tf.keras.layers.Layer):\n",
    "\n",
    "  def __init__(self, position, d_model):\n",
    "    super(PositionalEncoding, self).__init__()\n",
    "    self.pos_encoding = self.positional_encoding(position, d_model)\n",
    "\n",
    "  def get_angles(self, position, i, d_model):\n",
    "    angles = 1 / tf.pow(10000, (2 * (i // 2)) / tf.cast(d_model, tf.float32))\n",
    "    return position * angles\n",
    "\n",
    "  def positional_encoding(self, position, d_model):\n",
    "    angle_rads = self.get_angles(\n",
    "        position=tf.range(position, dtype=tf.float32)[:, tf.newaxis],\n",
    "        i=tf.range(d_model, dtype=tf.float32)[tf.newaxis, :],\n",
    "        d_model=d_model)\n",
    "    # apply sin to even index in the array\n",
    "    sines = tf.math.sin(angle_rads[:, 0::2])\n",
    "    # apply cos to odd index in the array\n",
    "    cosines = tf.math.cos(angle_rads[:, 1::2])\n",
    "\n",
    "    pos_encoding = tf.concat([sines, cosines], axis=-1)\n",
    "    pos_encoding = pos_encoding[tf.newaxis, ...]\n",
    "    return tf.cast(pos_encoding, tf.float32)\n",
    "\n",
    "  def call(self, inputs):\n",
    "    return inputs + self.pos_encoding[:, :tf.shape(inputs)[1], :]"
   ]
  },
  {
   "cell_type": "code",
   "execution_count": 19,
   "metadata": {},
   "outputs": [
    {
     "data": {
      "image/png": "[encoded data removed]",
      "text/plain": [
       "<Figure size 432x288 with 2 Axes>"
      ]
     },
     "metadata": {
      "needs_background": "light"
     },
     "output_type": "display_data"
    }
   ],
   "source": [
    "sample_pos_encoding = PositionalEncoding(50, 512)\n",
    "\n",
    "plt.pcolormesh(sample_pos_encoding.pos_encoding.numpy()[0], cmap='RdBu')\n",
    "plt.xlabel('Depth')\n",
    "plt.xlim((0, 512))\n",
    "plt.ylabel('Position')\n",
    "plt.colorbar()\n",
    "plt.show()"
   ]
  },
  {
   "cell_type": "markdown",
   "metadata": {},
   "source": [
    "### Encoder Layer\n",
    "\n",
    "Each encoder layer consists of sublayers:\n",
    "\n",
    "1. Multi-head attention (with padding mask) \n",
    "2. 2 dense layers followed by dropout\n",
    "\n",
    "Each of these sublayers has a residual connection around it followed by a layer normalization. Residual connections help in avoiding the vanishing gradient problem in deep networks.\n",
    "\n",
    "The output of each sublayer is `LayerNorm(x + Sublayer(x))`. The normalization is done on the `d_model` (last) axis."
   ]
  },
  {
   "cell_type": "code",
   "execution_count": 20,
   "metadata": {},
   "outputs": [],
   "source": [
    "def encoder_layer(units, d_model, num_heads, dropout, name=\"encoder_layer\"):\n",
    "  inputs = tf.keras.Input(shape=(None, d_model), name=\"inputs\")\n",
    "  padding_mask = tf.keras.Input(shape=(1, 1, None), name=\"padding_mask\")\n",
    "\n",
    "  attention = MultiHeadAttention(\n",
    "      d_model, num_heads, name=\"attention\")({\n",
    "          'query': inputs,\n",
    "          'key': inputs,\n",
    "          'value': inputs,\n",
    "          'mask': padding_mask\n",
    "      })\n",
    "  attention = tf.keras.layers.Dropout(rate=dropout)(attention)\n",
    "  attention = tf.keras.layers.LayerNormalization(\n",
    "      epsilon=1e-6)(inputs + attention)\n",
    "\n",
    "  outputs = tf.keras.layers.Dense(units=units, activation='relu')(attention)\n",
    "  outputs = tf.keras.layers.Dense(units=d_model)(outputs)\n",
    "  outputs = tf.keras.layers.Dropout(rate=dropout)(outputs)\n",
    "  outputs = tf.keras.layers.LayerNormalization(\n",
    "      epsilon=1e-6)(attention + outputs)\n",
    "\n",
    "  return tf.keras.Model(\n",
    "      inputs=[inputs, padding_mask], outputs=outputs, name=name)"
   ]
  },
  {
   "cell_type": "code",
   "execution_count": null,
   "metadata": {},
   "outputs": [],
   "source": [
    "sample_encoder_layer = encoder_layer(\n",
    "    units=512,\n",
    "    d_model=128,\n",
    "    num_heads=4,\n",
    "    dropout=0.3,\n",
    "    name=\"sample_encoder_layer\")\n",
    "\n",
    "tf.keras.utils.plot_model(\n",
    "    sample_encoder_layer, to_file='encoder_layer.png', show_shapes=True)"
   ]
  },
  {
   "cell_type": "markdown",
   "metadata": {},
   "source": [
    "### Encoder\n",
    "\n",
    "The Encoder consists of:\n",
    "1.   Input Embedding\n",
    "2.   Positional Encoding\n",
    "3.   `num_layers` encoder layers\n",
    "\n",
    "The input is put through an embedding which is summed with the positional encoding. The output of this summation is the input to the encoder layers. The output of the encoder is the input to the decoder."
   ]
  },
  {
   "cell_type": "code",
   "execution_count": 45,
   "metadata": {},
   "outputs": [],
   "source": [
    "def encoder(vocab_size,\n",
    "            num_layers,\n",
    "            units,\n",
    "            d_model,\n",
    "            num_heads,\n",
    "            dropout,\n",
    "            name=\"encoder\"):\n",
    "  inputs = tf.keras.Input(shape=(None,), name=\"inputs\")\n",
    "  padding_mask = tf.keras.Input(shape=(1, 1, None), name=\"padding_mask\")\n",
    "\n",
    "  embeddings = tf.keras.layers.Embedding(vocab_size, d_model)(inputs)\n",
    "  embeddings *= tf.math.sqrt(tf.cast(d_model, tf.float32))\n",
    "  embeddings = PositionalEncoding(vocab_size, d_model)(embeddings)\n",
    "\n",
    "  outputs = tf.keras.layers.Dropout(rate=dropout)(embeddings)\n",
    "\n",
    "  for i in range(num_layers):\n",
    "    outputs = encoder_layer(\n",
    "        units=units,\n",
    "        d_model=d_model,\n",
    "        num_heads=num_heads,\n",
    "        dropout=dropout,\n",
    "        name=\"encoder_layer_{}\".format(i),\n",
    "    )([outputs, padding_mask])\n",
    "\n",
    "  return tf.keras.Model(\n",
    "      inputs=[inputs, padding_mask], outputs=outputs, name=name)"
   ]
  },
  {
   "cell_type": "code",
   "execution_count": 46,
   "metadata": {},
   "outputs": [
    {
     "name": "stdout",
     "output_type": "stream",
     "text": [
      "Failed to import pydot. You must install pydot and graphviz for `pydotprint` to work.\n"
     ]
    }
   ],
   "source": [
    "sample_encoder = encoder(\n",
    "    vocab_size=8192,\n",
    "    num_layers=2,\n",
    "    units=512,\n",
    "    d_model=128,\n",
    "    num_heads=4,\n",
    "    dropout=0.3,\n",
    "    name=\"sample_encoder\")\n",
    "\n",
    "tf.keras.utils.plot_model(\n",
    "   sample_encoder, to_file='encoder.png', show_shapes=True)"
   ]
  },
  {
   "cell_type": "markdown",
   "metadata": {},
   "source": [
    "### Decoder Layer\n",
    "\n",
    "Each decoder layer consists of sublayers:\n",
    "\n",
    "1.   Masked multi-head attention (with look ahead mask and padding mask)\n",
    "2.   Multi-head attention (with padding mask). `value` and `key` receive the *encoder output* as inputs. `query` receives the *output from the masked multi-head attention sublayer.*\n",
    "3.   2 dense layers followed by dropout\n",
    "\n",
    "Each of these sublayers has a residual connection around it followed by a layer normalization. The output of each sublayer is `LayerNorm(x + Sublayer(x))`. The normalization is done on the `d_model` (last) axis.\n",
    "\n",
    "As `query` receives the output from decoder's first attention block, and `key` receives the encoder output, the attention weights represent the importance given to the decoder's input based on the encoder's output. In other words, the decoder predicts the next word by looking at the encoder output and self-attending to its own output. See the demonstration above in the scaled dot product attention section."
   ]
  },
  {
   "cell_type": "code",
   "execution_count": 47,
   "metadata": {},
   "outputs": [],
   "source": [
    "def decoder_layer(units, d_model, num_heads, dropout, name=\"decoder_layer\"):\n",
    "  inputs = tf.keras.Input(shape=(None, d_model), name=\"inputs\")\n",
    "  enc_outputs = tf.keras.Input(shape=(None, d_model), name=\"encoder_outputs\")\n",
    "  look_ahead_mask = tf.keras.Input(\n",
    "      shape=(1, None, None), name=\"look_ahead_mask\")\n",
    "  padding_mask = tf.keras.Input(shape=(1, 1, None), name='padding_mask')\n",
    "\n",
    "  attention1 = MultiHeadAttention(\n",
    "      d_model, num_heads, name=\"attention_1\")(inputs={\n",
    "          'query': inputs,\n",
    "          'key': inputs,\n",
    "          'value': inputs,\n",
    "          'mask': look_ahead_mask\n",
    "      })\n",
    "  attention1 = tf.keras.layers.LayerNormalization(\n",
    "      epsilon=1e-6)(attention1 + inputs)\n",
    "\n",
    "  attention2 = MultiHeadAttention(\n",
    "      d_model, num_heads, name=\"attention_2\")(inputs={\n",
    "          'query': attention1,\n",
    "          'key': enc_outputs,\n",
    "          'value': enc_outputs,\n",
    "          'mask': padding_mask\n",
    "      })\n",
    "  attention2 = tf.keras.layers.Dropout(rate=dropout)(attention2)\n",
    "  attention2 = tf.keras.layers.LayerNormalization(\n",
    "      epsilon=1e-6)(attention2 + attention1)\n",
    "\n",
    "  outputs = tf.keras.layers.Dense(units=units, activation='relu')(attention2)\n",
    "  outputs = tf.keras.layers.Dense(units=d_model)(outputs)\n",
    "  outputs = tf.keras.layers.Dropout(rate=dropout)(outputs)\n",
    "  outputs = tf.keras.layers.LayerNormalization(\n",
    "      epsilon=1e-6)(outputs + attention2)\n",
    "\n",
    "  return tf.keras.Model(\n",
    "      inputs=[inputs, enc_outputs, look_ahead_mask, padding_mask],\n",
    "      outputs=outputs,\n",
    "      name=name)"
   ]
  },
  {
   "cell_type": "code",
   "execution_count": 48,
   "metadata": {},
   "outputs": [
    {
     "name": "stdout",
     "output_type": "stream",
     "text": [
      "Failed to import pydot. You must install pydot and graphviz for `pydotprint` to work.\n"
     ]
    }
   ],
   "source": [
    "sample_decoder_layer = decoder_layer(\n",
    "    units=512,\n",
    "    d_model=128,\n",
    "    num_heads=4,\n",
    "    dropout=0.3,\n",
    "    name=\"sample_decoder_layer\")\n",
    "\n",
    "tf.keras.utils.plot_model(\n",
    "    sample_decoder_layer, to_file='decoder_layer.png', show_shapes=True)"
   ]
  },
  {
   "cell_type": "markdown",
   "metadata": {},
   "source": [
    "### Decoder\n",
    "\n",
    "The Decoder consists of:\n",
    "1.   Output Embedding\n",
    "2.   Positional Encoding\n",
    "3.   N decoder layers\n",
    "\n",
    "The target is put through an embedding which is summed with the positional encoding. The output of this summation is the input to the decoder layers. The output of the decoder is the input to the final linear layer."
   ]
  },
  {
   "cell_type": "code",
   "execution_count": 50,
   "metadata": {},
   "outputs": [],
   "source": [
    "def decoder(vocab_size,\n",
    "            num_layers,\n",
    "            units,\n",
    "            d_model,\n",
    "            num_heads,\n",
    "            dropout,\n",
    "            name='decoder'):\n",
    "  inputs = tf.keras.Input(shape=(None,), name='inputs')\n",
    "  enc_outputs = tf.keras.Input(shape=(None, d_model), name='encoder_outputs')\n",
    "  look_ahead_mask = tf.keras.Input(\n",
    "      shape=(1, None, None), name='look_ahead_mask')\n",
    "  padding_mask = tf.keras.Input(shape=(1, 1, None), name='padding_mask')\n",
    "  \n",
    "  embeddings = tf.keras.layers.Embedding(vocab_size, d_model)(inputs)\n",
    "  embeddings *= tf.math.sqrt(tf.cast(d_model, tf.float32))\n",
    "  embeddings = PositionalEncoding(vocab_size, d_model)(embeddings)\n",
    "\n",
    "  outputs = tf.keras.layers.Dropout(rate=dropout)(embeddings)\n",
    "\n",
    "  for i in range(num_layers):\n",
    "    outputs = decoder_layer(\n",
    "        units=units,\n",
    "        d_model=d_model,\n",
    "        num_heads=num_heads,\n",
    "        dropout=dropout,\n",
    "        name='decoder_layer_{}'.format(i),\n",
    "    )(inputs=[outputs, enc_outputs, look_ahead_mask, padding_mask])\n",
    "\n",
    "  return tf.keras.Model(\n",
    "      inputs=[inputs, enc_outputs, look_ahead_mask, padding_mask],\n",
    "      outputs=outputs,\n",
    "      name=name)"
   ]
  },
  {
   "cell_type": "code",
   "execution_count": 51,
   "metadata": {},
   "outputs": [
    {
     "name": "stdout",
     "output_type": "stream",
     "text": [
      "Failed to import pydot. You must install pydot and graphviz for `pydotprint` to work.\n"
     ]
    }
   ],
   "source": [
    "sample_decoder = decoder(\n",
    "    vocab_size=8192,\n",
    "    num_layers=2,\n",
    "    units=512,\n",
    "    d_model=128,\n",
    "    num_heads=4,\n",
    "    dropout=0.3,\n",
    "    name=\"sample_decoder\")\n",
    "\n",
    "tf.keras.utils.plot_model(\n",
    "    sample_decoder, to_file='decoder.png', show_shapes=True)"
   ]
  },
  {
   "cell_type": "markdown",
   "metadata": {},
   "source": [
    "### Transformer\n",
    "\n",
    "Transformer consists of the encoder, decoder and a final linear layer. The output of the decoder is the input to the linear layer and its output is returned."
   ]
  },
  {
   "cell_type": "code",
   "execution_count": 52,
   "metadata": {},
   "outputs": [],
   "source": [
    "def transformer(vocab_size,\n",
    "                num_layers,\n",
    "                units,\n",
    "                d_model,\n",
    "                num_heads,\n",
    "                dropout,\n",
    "                name=\"transformer\"):\n",
    "  inputs = tf.keras.Input(shape=(None,), name=\"inputs\")\n",
    "  dec_inputs = tf.keras.Input(shape=(None,), name=\"dec_inputs\")\n",
    "\n",
    "  enc_padding_mask = tf.keras.layers.Lambda(\n",
    "      create_padding_mask, output_shape=(1, 1, None),\n",
    "      name='enc_padding_mask')(inputs)\n",
    "  # mask the future tokens for decoder inputs at the 1st attention block\n",
    "  look_ahead_mask = tf.keras.layers.Lambda(\n",
    "      create_look_ahead_mask,\n",
    "      output_shape=(1, None, None),\n",
    "      name='look_ahead_mask')(dec_inputs)\n",
    "  # mask the encoder outputs for the 2nd attention block\n",
    "  dec_padding_mask = tf.keras.layers.Lambda(\n",
    "      create_padding_mask, output_shape=(1, 1, None),\n",
    "      name='dec_padding_mask')(inputs)\n",
    "\n",
    "  enc_outputs = encoder(\n",
    "      vocab_size=vocab_size,\n",
    "      num_layers=num_layers,\n",
    "      units=units,\n",
    "      d_model=d_model,\n",
    "      num_heads=num_heads,\n",
    "      dropout=dropout,\n",
    "  )(inputs=[inputs, enc_padding_mask])\n",
    "\n",
    "  dec_outputs = decoder(\n",
    "      vocab_size=vocab_size,\n",
    "      num_layers=num_layers,\n",
    "      units=units,\n",
    "      d_model=d_model,\n",
    "      num_heads=num_heads,\n",
    "      dropout=dropout,\n",
    "  )(inputs=[dec_inputs, enc_outputs, look_ahead_mask, dec_padding_mask])\n",
    "\n",
    "  outputs = tf.keras.layers.Dense(units=vocab_size, name=\"outputs\")(dec_outputs)\n",
    "\n",
    "  return tf.keras.Model(inputs=[inputs, dec_inputs], outputs=outputs, name=name)"
   ]
  },
  {
   "cell_type": "code",
   "execution_count": 53,
   "metadata": {},
   "outputs": [
    {
     "name": "stdout",
     "output_type": "stream",
     "text": [
      "Failed to import pydot. You must install pydot and graphviz for `pydotprint` to work.\n"
     ]
    }
   ],
   "source": [
    "sample_transformer = transformer(\n",
    "    vocab_size=8192,\n",
    "    num_layers=4,\n",
    "    units=512,\n",
    "    d_model=128,\n",
    "    num_heads=4,\n",
    "    dropout=0.3,\n",
    "    name=\"sample_transformer\")\n",
    "\n",
    "tf.keras.utils.plot_model(\n",
    "    sample_transformer, to_file='transformer.png', show_shapes=True)"
   ]
  },
  {
   "cell_type": "markdown",
   "metadata": {},
   "source": [
    "## Train model"
   ]
  },
  {
   "cell_type": "markdown",
   "metadata": {},
   "source": [
    "### Initialize model\n",
    "\n",
    "To keep this example small and relatively fast, the values for *num_layers, d_model, and units* have been reduced. See the [paper](https://arxiv.org/abs/1706.03762) for all the other versions of the transformer."
   ]
  },
  {
   "cell_type": "code",
   "execution_count": 54,
   "metadata": {},
   "outputs": [],
   "source": [
    "tf.keras.backend.clear_session()\n",
    "\n",
    "# Hyper-parameters\n",
    "NUM_LAYERS = 2\n",
    "D_MODEL = 256\n",
    "NUM_HEADS = 8\n",
    "UNITS = 512\n",
    "DROPOUT = 0.1\n",
    "\n",
    "model = transformer(\n",
    "    vocab_size=VOCAB_SIZE,\n",
    "    num_layers=NUM_LAYERS,\n",
    "    units=UNITS,\n",
    "    d_model=D_MODEL,\n",
    "    num_heads=NUM_HEADS,\n",
    "    dropout=DROPOUT)"
   ]
  },
  {
   "cell_type": "markdown",
   "metadata": {},
   "source": [
    "### Loss function\n",
    "\n",
    "Since the target sequences are padded, it is important to apply a padding mask when calculating the loss."
   ]
  },
  {
   "cell_type": "code",
   "execution_count": 55,
   "metadata": {},
   "outputs": [],
   "source": [
    "def loss_function(y_true, y_pred):\n",
    "  y_true = tf.reshape(y_true, shape=(-1, MAX_LENGTH - 1))\n",
    "  \n",
    "  loss = tf.keras.losses.SparseCategoricalCrossentropy(\n",
    "      from_logits=True, reduction='none')(y_true, y_pred)\n",
    "\n",
    "  mask = tf.cast(tf.not_equal(y_true, 0), tf.float32)\n",
    "  loss = tf.multiply(loss, mask)\n",
    "\n",
    "  return tf.reduce_mean(loss)"
   ]
  },
  {
   "cell_type": "markdown",
   "metadata": {},
   "source": [
    "### Custom learning rate\n",
    "\n",
    "Use the Adam optimizer with a custom learning rate scheduler according to the formula in the [paper](https://arxiv.org/abs/1706.03762).\n",
    "\n",
    "$$\\Large{lrate = d_{model}^{-0.5} * min(step{\\_}num^{-0.5}, step{\\_}num * warmup{\\_}steps^{-1.5})}$$"
   ]
  },
  {
   "cell_type": "code",
   "execution_count": 56,
   "metadata": {},
   "outputs": [],
   "source": [
    "class CustomSchedule(tf.keras.optimizers.schedules.LearningRateSchedule):\n",
    "\n",
    "  def __init__(self, d_model, warmup_steps=4000):\n",
    "    super(CustomSchedule, self).__init__()\n",
    "\n",
    "    self.d_model = d_model\n",
    "    self.d_model = tf.cast(self.d_model, tf.float32)\n",
    "\n",
    "    self.warmup_steps = warmup_steps\n",
    "\n",
    "  def __call__(self, step):\n",
    "    arg1 = tf.math.rsqrt(step)\n",
    "    arg2 = step * (self.warmup_steps**-1.5)\n",
    "\n",
    "    return tf.math.rsqrt(self.d_model) * tf.math.minimum(arg1, arg2)"
   ]
  },
  {
   "cell_type": "code",
   "execution_count": 57,
   "metadata": {},
   "outputs": [
    {
     "data": {
      "text/plain": [
       "Text(0.5, 0, 'Train Step')"
      ]
     },
     "execution_count": 57,
     "metadata": {},
     "output_type": "execute_result"
    },
    {
     "data": {
      "image/png": "[encoded data removed]",
      "text/plain": [
       "<Figure size 432x288 with 1 Axes>"
      ]
     },
     "metadata": {
      "needs_background": "light"
     },
     "output_type": "display_data"
    }
   ],
   "source": [
    "sample_learning_rate = CustomSchedule(d_model=128)\n",
    "\n",
    "plt.plot(sample_learning_rate(tf.range(200000, dtype=tf.float32)))\n",
    "plt.ylabel(\"Learning Rate\")\n",
    "plt.xlabel(\"Train Step\")"
   ]
  },
  {
   "cell_type": "markdown",
   "metadata": {},
   "source": [
    "### Compile Model"
   ]
  },
  {
   "cell_type": "code",
   "execution_count": 58,
   "metadata": {},
   "outputs": [],
   "source": [
    "learning_rate = CustomSchedule(D_MODEL)\n",
    "\n",
    "optimizer = tf.keras.optimizers.Adam(\n",
    "    learning_rate, beta_1=0.9, beta_2=0.98, epsilon=1e-9)\n",
    "\n",
    "def accuracy(y_true, y_pred):\n",
    "  # ensure labels have shape (batch_size, MAX_LENGTH - 1)\n",
    "  y_true = tf.reshape(y_true, shape=(-1, MAX_LENGTH - 1))\n",
    "  return tf.keras.metrics.sparse_categorical_accuracy(y_true, y_pred)\n",
    "\n",
    "model.compile(optimizer=optimizer, loss=loss_function, metrics=[accuracy])"
   ]
  },
  {
   "cell_type": "markdown",
   "metadata": {},
   "source": [
    "### Fit model\n",
    "\n",
    "Train our transformer by simply calling `model.fit()`"
   ]
  },
  {
   "cell_type": "code",
   "execution_count": null,
   "metadata": {},
   "outputs": [
    {
     "name": "stdout",
     "output_type": "stream",
     "text": [
      "Epoch 1/20\n",
      "    170/Unknown - 8s 8s/step - loss: 2.8750 - accuracy: 0.0000e+ - 10s 5s/step - loss: 2.6906 - accuracy: 0.0000e+0 - 11s 4s/step - loss: 2.7842 - accuracy: 0.0000e+0 - 11s 3s/step - loss: 2.7966 - accuracy: 0.0000e+0 - 12s 2s/step - loss: 2.8136 - accuracy: 0.0000e+0 - 13s 2s/step - loss: 2.8211 - accuracy: 0.0000e+0 - 14s 2s/step - loss: 2.8468 - accuracy: 0.0000e+0 - 15s 2s/step - loss: 2.8504 - accuracy: 0.0000e+0 - 16s 2s/step - loss: 2.8568 - accuracy: 0.0000e+0 - 17s 2s/step - loss: 2.8216 - accuracy: 0.0000e+0 - 18s 2s/step - loss: 2.8486 - accuracy: 0.0000e+0 - 19s 2s/step - loss: 2.8967 - accuracy: 0.0000e+0 - 20s 2s/step - loss: 2.9139 - accuracy: 0.0000e+0 - 21s 2s/step - loss: 2.9219 - accuracy: 0.0000e+0 - 22s 1s/step - loss: 2.9436 - accuracy: 0.0000e+0 - 23s 1s/step - loss: 2.9206 - accuracy: 0.0000e+0 - 24s 1s/step - loss: 2.9063 - accuracy: 0.0000e+0 - 26s 1s/step - loss: 2.8982 - accuracy: 0.0000e+0 - 27s 1s/step - loss: 2.8905 - accuracy: 0.0000e+0 - 28s 1s/step - loss: 2.8919 - accuracy: 0.0000e+0 - 29s 1s/step - loss: 2.8823 - accuracy: 0.0000e+0 - 30s 1s/step - loss: 2.8623 - accuracy: 0.0000e+0 - 31s 1s/step - loss: 2.8523 - accuracy: 0.0000e+0 - 32s 1s/step - loss: 2.8742 - accuracy: 0.0000e+0 - 33s 1s/step - loss: 2.8741 - accuracy: 0.0000e+0 - 34s 1s/step - loss: 2.8680 - accuracy: 0.0000e+0 - 35s 1s/step - loss: 2.8646 - accuracy: 0.0000e+0 - 36s 1s/step - loss: 2.8758 - accuracy: 0.0000e+0 - 37s 1s/step - loss: 2.8809 - accuracy: 0.0000e+0 - 38s 1s/step - loss: 2.8638 - accuracy: 0.0000e+0 - 39s 1s/step - loss: 2.8694 - accuracy: 0.0000e+0 - 40s 1s/step - loss: 2.8685 - accuracy: 0.0000e+0 - 41s 1s/step - loss: 2.8764 - accuracy: 0.0000e+0 - 41s 1s/step - loss: 2.8689 - accuracy: 1.1784e-0 - 42s 1s/step - loss: 2.8711 - accuracy: 1.1447e-0 - 43s 1s/step - loss: 2.8686 - accuracy: 1.1129e-0 - 44s 1s/step - loss: 2.8693 - accuracy: 2.1656e-0 - 45s 1s/step - loss: 2.8630 - accuracy: 2.1086e-0 - 46s 1s/step - loss: 2.8685 - accuracy: 2.0546e-0 - 47s 1s/step - loss: 2.8738 - accuracy: 2.0032e-0 - 48s 1s/step - loss: 2.8793 - accuracy: 7.8174e-0 - 49s 1s/step - loss: 2.8780 - accuracy: 1.2401e-0 - 50s 1s/step - loss: 2.8689 - accuracy: 1.9566e-0 - 51s 1s/step - loss: 2.8679 - accuracy: 3.1869e-0 - 52s 1s/step - loss: 2.8691 - accuracy: 4.8967e-0 - 53s 1s/step - loss: 2.8632 - accuracy: 6.7064e-0 - 54s 1s/step - loss: 2.8572 - accuracy: 9.2915e-0 - 55s 1s/step - loss: 2.8601 - accuracy: 0.0013    - 56s 1s/step - loss: 2.8639 - accuracy: 0.001 - 57s 1s/step - loss: 2.8684 - accuracy: 0.002 - 58s 1s/step - loss: 2.8734 - accuracy: 0.002 - 59s 1s/step - loss: 2.8699 - accuracy: 0.002 - 60s 1s/step - loss: 2.8705 - accuracy: 0.003 - 61s 1s/step - loss: 2.8758 - accuracy: 0.003 - 62s 1s/step - loss: 2.8730 - accuracy: 0.004 - 63s 1s/step - loss: 2.8742 - accuracy: 0.004 - 64s 1s/step - loss: 2.8747 - accuracy: 0.004 - 65s 1s/step - loss: 2.8681 - accuracy: 0.005 - 66s 1s/step - loss: 2.8701 - accuracy: 0.005 - 67s 1s/step - loss: 2.8687 - accuracy: 0.005 - 68s 1s/step - loss: 2.8632 - accuracy: 0.006 - 69s 1s/step - loss: 2.8659 - accuracy: 0.006 - 70s 1s/step - loss: 2.8632 - accuracy: 0.006 - 71s 1s/step - loss: 2.8673 - accuracy: 0.007 - 72s 1s/step - loss: 2.8702 - accuracy: 0.007 - 73s 1s/step - loss: 2.8707 - accuracy: 0.007 - 74s 1s/step - loss: 2.8707 - accuracy: 0.008 - 75s 1s/step - loss: 2.8714 - accuracy: 0.008 - 76s 1s/step - loss: 2.8684 - accuracy: 0.008 - 77s 1s/step - loss: 2.8693 - accuracy: 0.008 - 78s 1s/step - loss: 2.8685 - accuracy: 0.009 - 79s 1s/step - loss: 2.8671 - accuracy: 0.009 - 80s 1s/step - loss: 2.8725 - accuracy: 0.009 - 81s 1s/step - loss: 2.8707 - accuracy: 0.009 - 82s 1s/step - loss: 2.8673 - accuracy: 0.009 - 83s 1s/step - loss: 2.8655 - accuracy: 0.010 - 84s 1s/step - loss: 2.8619 - accuracy: 0.010 - 85s 1s/step - loss: 2.8577 - accuracy: 0.010 - 86s 1s/step - loss: 2.8604 - accuracy: 0.010 - 87s 1s/step - loss: 2.8570 - accuracy: 0.010 - 88s 1s/step - loss: 2.8530 - accuracy: 0.011 - 89s 1s/step - loss: 2.8553 - accuracy: 0.011 - 90s 1s/step - loss: 2.8564 - accuracy: 0.011 - 91s 1s/step - loss: 2.8587 - accuracy: 0.011 - 92s 1s/step - loss: 2.8582 - accuracy: 0.011 - 93s 1s/step - loss: 2.8553 - accuracy: 0.011 - 94s 1s/step - loss: 2.8525 - accuracy: 0.012 - 95s 1s/step - loss: 2.8541 - accuracy: 0.012 - 96s 1s/step - loss: 2.8516 - accuracy: 0.012 - 97s 1s/step - loss: 2.8520 - accuracy: 0.012 - 98s 1s/step - loss: 2.8468 - accuracy: 0.012 - 99s 1s/step - loss: 2.8433 - accuracy: 0.012 - 100s 1s/step - loss: 2.8431 - accuracy: 0.01 - 101s 1s/step - loss: 2.8404 - accuracy: 0.01 - 102s 1s/step - loss: 2.8447 - accuracy: 0.01 - 103s 1s/step - loss: 2.8440 - accuracy: 0.01 - 104s 1s/step - loss: 2.8404 - accuracy: 0.01 - 105s 1s/step - loss: 2.8408 - accuracy: 0.01 - 106s 1s/step - loss: 2.8366 - accuracy: 0.01 - 107s 1s/step - loss: 2.8335 - accuracy: 0.01 - 108s 1s/step - loss: 2.8293 - accuracy: 0.01 - 109s 1s/step - loss: 2.8291 - accuracy: 0.01 - 110s 1s/step - loss: 2.8291 - accuracy: 0.01 - 111s 1s/step - loss: 2.8265 - accuracy: 0.01 - 112s 1s/step - loss: 2.8248 - accuracy: 0.01 - 113s 1s/step - loss: 2.8262 - accuracy: 0.01 - 114s 1s/step - loss: 2.8253 - accuracy: 0.01 - 115s 1s/step - loss: 2.8216 - accuracy: 0.01 - 116s 1s/step - loss: 2.8183 - accuracy: 0.01 - 117s 1s/step - loss: 2.8156 - accuracy: 0.01 - 118s 1s/step - loss: 2.8148 - accuracy: 0.01 - 119s 1s/step - loss: 2.8189 - accuracy: 0.01 - 120s 1s/step - loss: 2.8163 - accuracy: 0.01 - 121s 1s/step - loss: 2.8163 - accuracy: 0.01 - 122s 1s/step - loss: 2.8183 - accuracy: 0.01 - 123s 1s/step - loss: 2.8180 - accuracy: 0.01 - 124s 1s/step - loss: 2.8187 - accuracy: 0.01 - 125s 1s/step - loss: 2.8165 - accuracy: 0.01 - 126s 1s/step - loss: 2.8133 - accuracy: 0.01 - 127s 1s/step - loss: 2.8143 - accuracy: 0.01 - 128s 1s/step - loss: 2.8108 - accuracy: 0.01 - 129s 1s/step - loss: 2.8079 - accuracy: 0.01 - 130s 1s/step - loss: 2.8037 - accuracy: 0.01 - 131s 1s/step - loss: 2.8034 - accuracy: 0.01 - 132s 1s/step - loss: 2.8022 - accuracy: 0.01 - 133s 1s/step - loss: 2.8010 - accuracy: 0.01 - 134s 1s/step - loss: 2.8007 - accuracy: 0.01 - 135s 1s/step - loss: 2.8013 - accuracy: 0.01 - 136s 1s/step - loss: 2.8016 - accuracy: 0.01 - 137s 1s/step - loss: 2.7996 - accuracy: 0.01 - 138s 1s/step - loss: 2.7979 - accuracy: 0.01 - 139s 1s/step - loss: 2.7981 - accuracy: 0.01 - 140s 1s/step - loss: 2.8002 - accuracy: 0.01 - 141s 1s/step - loss: 2.8008 - accuracy: 0.01 - 142s 1s/step - loss: 2.7992 - accuracy: 0.01 - 143s 1s/step - loss: 2.7962 - accuracy: 0.01 - 144s 1s/step - loss: 2.7932 - accuracy: 0.01 - 145s 1s/step - loss: 2.7908 - accuracy: 0.01 - 146s 1s/step - loss: 2.7887 - accuracy: 0.01 - 147s 1s/step - loss: 2.7879 - accuracy: 0.01 - 148s 1s/step - loss: 2.7862 - accuracy: 0.01 - 149s 1s/step - loss: 2.7837 - accuracy: 0.01 - 150s 1s/step - loss: 2.7850 - accuracy: 0.01 - 151s 1s/step - loss: 2.7821 - accuracy: 0.01 - 152s 1s/step - loss: 2.7809 - accuracy: 0.01 - 153s 1s/step - loss: 2.7792 - accuracy: 0.01 - 154s 1s/step - loss: 2.7778 - accuracy: 0.01 - 155s 1s/step - loss: 2.7767 - accuracy: 0.01 - 156s 1s/step - loss: 2.7708 - accuracy: 0.01 - 157s 1s/step - loss: 2.7685 - accuracy: 0.01 - 158s 1s/step - loss: 2.7666 - accuracy: 0.01 - 159s 1s/step - loss: 2.7662 - accuracy: 0.01 - 160s 1s/step - loss: 2.7669 - accuracy: 0.01 - 161s 1s/step - loss: 2.7631 - accuracy: 0.01 - 162s 1s/step - loss: 2.7603 - accuracy: 0.01 - 163s 1s/step - loss: 2.7583 - accuracy: 0.01 - 164s 1s/step - loss: 2.7576 - accuracy: 0.01 - 165s 1s/step - loss: 2.7550 - accuracy: 0.01 - 166s 1s/step - loss: 2.7557 - accuracy: 0.01 - 167s 1s/step - loss: 2.7540 - accuracy: 0.01 - 168s 1s/step - loss: 2.7527 - accuracy: 0.01 - 169s 1s/step - loss: 2.7519 - accuracy: 0.01 - 170s 1s/step - loss: 2.7507 - accuracy: 0.01 - 171s 1s/step - loss: 2.7500 - accuracy: 0.01 - 172s 1s/step - loss: 2.7474 - accuracy: 0.01 - 173s 1s/step - loss: 2.7469 - accuracy: 0.01 - 174s 1s/step - loss: 2.7455 - accuracy: 0.01 - 175s 1s/step - loss: 2.7483 - accuracy: 0.01 - 176s 1s/step - loss: 2.7438 - accuracy: 0.01 - 177s 1s/step - loss: 2.7434 - accuracy: 0.01    342/Unknown - 178s 1s/step - loss: 2.7444 - accuracy: 0.01 - 179s 1s/step - loss: 2.7428 - accuracy: 0.01 - 180s 1s/step - loss: 2.7391 - accuracy: 0.01 - 181s 1s/step - loss: 2.7377 - accuracy: 0.01 - 182s 1s/step - loss: 2.7387 - accuracy: 0.01 - 182s 1s/step - loss: 2.7382 - accuracy: 0.01 - 183s 1s/step - loss: 2.7356 - accuracy: 0.01 - 184s 1s/step - loss: 2.7311 - accuracy: 0.01 - 185s 1s/step - loss: 2.7293 - accuracy: 0.01 - 186s 1s/step - loss: 2.7292 - accuracy: 0.01 - 187s 1s/step - loss: 2.7263 - accuracy: 0.01 - 188s 1s/step - loss: 2.7271 - accuracy: 0.01 - 189s 1s/step - loss: 2.7238 - accuracy: 0.01 - 190s 1s/step - loss: 2.7218 - accuracy: 0.01 - 191s 1s/step - loss: 2.7205 - accuracy: 0.01 - 192s 1s/step - loss: 2.7207 - accuracy: 0.01 - 193s 1s/step - loss: 2.7203 - accuracy: 0.01 - 193s 1s/step - loss: 2.7184 - accuracy: 0.01 - 194s 1s/step - loss: 2.7157 - accuracy: 0.01 - 195s 1s/step - loss: 2.7149 - accuracy: 0.01 - 196s 1s/step - loss: 2.7129 - accuracy: 0.01 - 197s 1s/step - loss: 2.7107 - accuracy: 0.01 - 198s 1s/step - loss: 2.7117 - accuracy: 0.01 - 199s 1s/step - loss: 2.7086 - accuracy: 0.01 - 200s 1s/step - loss: 2.7064 - accuracy: 0.01 - 201s 1s/step - loss: 2.7043 - accuracy: 0.01 - 202s 1s/step - loss: 2.7035 - accuracy: 0.01 - 202s 1s/step - loss: 2.7050 - accuracy: 0.01 - 203s 1s/step - loss: 2.7046 - accuracy: 0.01 - 204s 1s/step - loss: 2.7022 - accuracy: 0.01 - 205s 1s/step - loss: 2.7014 - accuracy: 0.01 - 206s 1s/step - loss: 2.7011 - accuracy: 0.01 - 207s 1s/step - loss: 2.7003 - accuracy: 0.01 - 208s 1s/step - loss: 2.6987 - accuracy: 0.01 - 209s 1s/step - loss: 2.6988 - accuracy: 0.01 - 210s 1s/step - loss: 2.6959 - accuracy: 0.01 - 211s 1s/step - loss: 2.6938 - accuracy: 0.01 - 212s 1s/step - loss: 2.6929 - accuracy: 0.01 - 213s 1s/step - loss: 2.6926 - accuracy: 0.02 - 214s 1s/step - loss: 2.6921 - accuracy: 0.02 - 215s 1s/step - loss: 2.6903 - accuracy: 0.02 - 216s 1s/step - loss: 2.6891 - accuracy: 0.02 - 217s 1s/step - loss: 2.6867 - accuracy: 0.02 - 218s 1s/step - loss: 2.6835 - accuracy: 0.02 - 219s 1s/step - loss: 2.6810 - accuracy: 0.02 - 220s 1s/step - loss: 2.6800 - accuracy: 0.02 - 221s 1s/step - loss: 2.6795 - accuracy: 0.02 - 221s 1s/step - loss: 2.6766 - accuracy: 0.02 - 222s 1s/step - loss: 2.6767 - accuracy: 0.02 - 223s 1s/step - loss: 2.6754 - accuracy: 0.02 - 224s 1s/step - loss: 2.6737 - accuracy: 0.02 - 225s 1s/step - loss: 2.6745 - accuracy: 0.02 - 226s 1s/step - loss: 2.6721 - accuracy: 0.02 - 227s 1s/step - loss: 2.6713 - accuracy: 0.02 - 228s 1s/step - loss: 2.6694 - accuracy: 0.02 - 229s 1s/step - loss: 2.6672 - accuracy: 0.02 - 230s 1s/step - loss: 2.6651 - accuracy: 0.02 - 230s 1s/step - loss: 2.6627 - accuracy: 0.02 - 231s 1s/step - loss: 2.6613 - accuracy: 0.02 - 232s 1s/step - loss: 2.6586 - accuracy: 0.02 - 233s 1s/step - loss: 2.6584 - accuracy: 0.02 - 234s 1s/step - loss: 2.6565 - accuracy: 0.02 - 235s 1s/step - loss: 2.6545 - accuracy: 0.02 - 236s 1s/step - loss: 2.6530 - accuracy: 0.02 - 237s 1s/step - loss: 2.6521 - accuracy: 0.02 - 238s 1s/step - loss: 2.6504 - accuracy: 0.02 - 239s 1s/step - loss: 2.6482 - accuracy: 0.02 - 240s 1s/step - loss: 2.6452 - accuracy: 0.02 - 241s 1s/step - loss: 2.6445 - accuracy: 0.02 - 242s 1s/step - loss: 2.6427 - accuracy: 0.02 - 243s 1s/step - loss: 2.6406 - accuracy: 0.02 - 244s 1s/step - loss: 2.6380 - accuracy: 0.02 - 245s 1s/step - loss: 2.6357 - accuracy: 0.02 - 246s 1s/step - loss: 2.6342 - accuracy: 0.02 - 247s 1s/step - loss: 2.6339 - accuracy: 0.02 - 247s 1s/step - loss: 2.6316 - accuracy: 0.02 - 249s 1s/step - loss: 2.6310 - accuracy: 0.02 - 250s 1s/step - loss: 2.6295 - accuracy: 0.02 - 251s 1s/step - loss: 2.6271 - accuracy: 0.02 - 252s 1s/step - loss: 2.6255 - accuracy: 0.02 - 253s 1s/step - loss: 2.6238 - accuracy: 0.02 - 254s 1s/step - loss: 2.6219 - accuracy: 0.02 - 255s 1s/step - loss: 2.6199 - accuracy: 0.02 - 255s 1s/step - loss: 2.6195 - accuracy: 0.02 - 256s 1s/step - loss: 2.6169 - accuracy: 0.02 - 257s 1s/step - loss: 2.6160 - accuracy: 0.02 - 258s 1s/step - loss: 2.6139 - accuracy: 0.02 - 259s 1s/step - loss: 2.6118 - accuracy: 0.02 - 260s 1s/step - loss: 2.6102 - accuracy: 0.02 - 261s 1s/step - loss: 2.6086 - accuracy: 0.02 - 262s 1s/step - loss: 2.6071 - accuracy: 0.02 - 263s 1s/step - loss: 2.6049 - accuracy: 0.02 - 264s 1s/step - loss: 2.6032 - accuracy: 0.02 - 265s 1s/step - loss: 2.6019 - accuracy: 0.02 - 266s 1s/step - loss: 2.5992 - accuracy: 0.02 - 267s 1s/step - loss: 2.5966 - accuracy: 0.02 - 268s 1s/step - loss: 2.5940 - accuracy: 0.02 - 269s 1s/step - loss: 2.5911 - accuracy: 0.02 - 270s 1s/step - loss: 2.5894 - accuracy: 0.02 - 271s 1s/step - loss: 2.5884 - accuracy: 0.02 - 272s 1s/step - loss: 2.5876 - accuracy: 0.02 - 273s 1s/step - loss: 2.5857 - accuracy: 0.02 - 274s 1s/step - loss: 2.5849 - accuracy: 0.02 - 275s 1s/step - loss: 2.5846 - accuracy: 0.02 - 276s 1s/step - loss: 2.5820 - accuracy: 0.02 - 277s 1s/step - loss: 2.5808 - accuracy: 0.02 - 278s 1s/step - loss: 2.5793 - accuracy: 0.02 - 279s 1s/step - loss: 2.5788 - accuracy: 0.02 - 280s 1s/step - loss: 2.5781 - accuracy: 0.02 - 281s 1s/step - loss: 2.5766 - accuracy: 0.02 - 282s 1s/step - loss: 2.5744 - accuracy: 0.02 - 283s 1s/step - loss: 2.5737 - accuracy: 0.02 - 284s 1s/step - loss: 2.5722 - accuracy: 0.02 - 285s 1s/step - loss: 2.5704 - accuracy: 0.02 - 286s 1s/step - loss: 2.5694 - accuracy: 0.02 - 287s 1s/step - loss: 2.5671 - accuracy: 0.02 - 288s 1s/step - loss: 2.5653 - accuracy: 0.02 - 289s 1s/step - loss: 2.5640 - accuracy: 0.02 - 290s 1s/step - loss: 2.5633 - accuracy: 0.02 - 291s 1s/step - loss: 2.5623 - accuracy: 0.02 - 292s 1s/step - loss: 2.5602 - accuracy: 0.02 - 293s 1s/step - loss: 2.5588 - accuracy: 0.02 - 293s 1s/step - loss: 2.5577 - accuracy: 0.02 - 294s 1s/step - loss: 2.5567 - accuracy: 0.02 - 295s 1s/step - loss: 2.5556 - accuracy: 0.02 - 296s 1s/step - loss: 2.5553 - accuracy: 0.02 - 297s 1s/step - loss: 2.5537 - accuracy: 0.02 - 298s 1s/step - loss: 2.5508 - accuracy: 0.02 - 299s 1s/step - loss: 2.5493 - accuracy: 0.02 - 300s 1s/step - loss: 2.5480 - accuracy: 0.02 - 301s 1s/step - loss: 2.5457 - accuracy: 0.02 - 302s 1s/step - loss: 2.5438 - accuracy: 0.02 - 303s 1s/step - loss: 2.5425 - accuracy: 0.02 - 304s 1s/step - loss: 2.5400 - accuracy: 0.02 - 305s 1s/step - loss: 2.5381 - accuracy: 0.02 - 306s 1s/step - loss: 2.5377 - accuracy: 0.02 - 307s 1s/step - loss: 2.5365 - accuracy: 0.02 - 308s 1s/step - loss: 2.5345 - accuracy: 0.02 - 309s 1s/step - loss: 2.5326 - accuracy: 0.02 - 310s 1s/step - loss: 2.5317 - accuracy: 0.02 - 311s 1s/step - loss: 2.5302 - accuracy: 0.02 - 312s 1s/step - loss: 2.5286 - accuracy: 0.02 - 313s 1s/step - loss: 2.5267 - accuracy: 0.02 - 314s 1000ms/step - loss: 2.5257 - accuracy: 0.02 - 315s 1000ms/step - loss: 2.5234 - accuracy: 0.02 - 316s 1000ms/step - loss: 2.5222 - accuracy: 0.02 - 317s 1000ms/step - loss: 2.5190 - accuracy: 0.02 - 318s 1000ms/step - loss: 2.5185 - accuracy: 0.02 - 319s 1000ms/step - loss: 2.5175 - accuracy: 0.02 - 320s 999ms/step - loss: 2.5147 - accuracy: 0.0228 - 321s 1000ms/step - loss: 2.5129 - accuracy: 0.02 - 322s 1000ms/step - loss: 2.5117 - accuracy: 0.02 - 323s 999ms/step - loss: 2.5098 - accuracy: 0.0229 - 324s 999ms/step - loss: 2.5082 - accuracy: 0.023 - 325s 999ms/step - loss: 2.5076 - accuracy: 0.023 - 326s 999ms/step - loss: 2.5063 - accuracy: 0.023 - 327s 999ms/step - loss: 2.5051 - accuracy: 0.023 - 328s 999ms/step - loss: 2.5037 - accuracy: 0.023 - 329s 999ms/step - loss: 2.5023 - accuracy: 0.023 - 330s 999ms/step - loss: 2.5016 - accuracy: 0.023 - 331s 999ms/step - loss: 2.4998 - accuracy: 0.023 - 332s 999ms/step - loss: 2.4977 - accuracy: 0.023 - 332s 998ms/step - loss: 2.4956 - accuracy: 0.023 - 334s 999ms/step - loss: 2.4938 - accuracy: 0.023 - 335s 999ms/step - loss: 2.4933 - accuracy: 0.023 - 336s 999ms/step - loss: 2.4917 - accuracy: 0.023 - 337s 999ms/step - loss: 2.4899 - accuracy: 0.023 - 338s 999ms/step - loss: 2.4876 - accuracy: 0.023 - 338s 999ms/step - loss: 2.4863 - accuracy: 0.023 - 340s 999ms/step - loss: 2.4847 - accuracy: 0.023 - 340s 999ms/step - loss: 2.4833 - accuracy: 0.023 - 341s 998ms/step - loss: 2.4814 - accuracy: 0.0240345/345 [==============================]: 2.4791 - accuracy: 0.024 - 343s 998ms/step - loss: 2.4765 - accuracy: 0.024 - 344s 998ms/step - loss: 2.4754 - accuracy: 0.024 - 344s 998ms/step - loss: 2.4754 - accuracy: 0.0241\n",
      "Epoch 2/20\n"
     ]
    },
    {
     "name": "stdout",
     "output_type": "stream",
     "text": [
      "186/345 [===============>..............] - ETA: 5:35 - loss: 1.9808 - accuracy: 0.04 - ETA: 5:35 - loss: 1.8036 - accuracy: 0.04 - ETA: 5:34 - loss: 1.9615 - accuracy: 0.04 - ETA: 5:32 - loss: 1.9597 - accuracy: 0.04 - ETA: 5:33 - loss: 2.0431 - accuracy: 0.04 - ETA: 5:31 - loss: 2.0073 - accuracy: 0.04 - ETA: 5:29 - loss: 1.9823 - accuracy: 0.04 - ETA: 5:26 - loss: 2.0021 - accuracy: 0.04 - ETA: 5:27 - loss: 2.0054 - accuracy: 0.04 - ETA: 5:25 - loss: 1.9903 - accuracy: 0.04 - ETA: 5:25 - loss: 2.0005 - accuracy: 0.04 - ETA: 5:25 - loss: 2.0015 - accuracy: 0.04 - ETA: 5:22 - loss: 1.9874 - accuracy: 0.04 - ETA: 5:20 - loss: 1.9886 - accuracy: 0.04 - ETA: 5:18 - loss: 1.9635 - accuracy: 0.04 - ETA: 5:19 - loss: 1.9389 - accuracy: 0.04 - ETA: 5:18 - loss: 1.9402 - accuracy: 0.04 - ETA: 5:17 - loss: 1.9491 - accuracy: 0.04 - ETA: 5:16 - loss: 1.9547 - accuracy: 0.04 - ETA: 5:15 - loss: 1.9610 - accuracy: 0.04 - ETA: 5:14 - loss: 1.9508 - accuracy: 0.04 - ETA: 5:13 - loss: 1.9503 - accuracy: 0.04 - ETA: 5:13 - loss: 1.9410 - accuracy: 0.04 - ETA: 5:11 - loss: 1.9395 - accuracy: 0.04 - ETA: 5:11 - loss: 1.9366 - accuracy: 0.04 - ETA: 5:09 - loss: 1.9346 - accuracy: 0.04 - ETA: 5:08 - loss: 1.9364 - accuracy: 0.04 - ETA: 5:07 - loss: 1.9370 - accuracy: 0.04 - ETA: 5:07 - loss: 1.9309 - accuracy: 0.04 - ETA: 5:06 - loss: 1.9296 - accuracy: 0.04 - ETA: 5:05 - loss: 1.9319 - accuracy: 0.04 - ETA: 5:04 - loss: 1.9334 - accuracy: 0.04 - ETA: 5:02 - loss: 1.9303 - accuracy: 0.04 - ETA: 5:01 - loss: 1.9288 - accuracy: 0.04 - ETA: 5:00 - loss: 1.9369 - accuracy: 0.04 - ETA: 5:00 - loss: 1.9332 - accuracy: 0.04 - ETA: 4:59 - loss: 1.9234 - accuracy: 0.04 - ETA: 4:58 - loss: 1.9260 - accuracy: 0.04 - ETA: 4:57 - loss: 1.9304 - accuracy: 0.04 - ETA: 4:56 - loss: 1.9342 - accuracy: 0.04 - ETA: 4:55 - loss: 1.9287 - accuracy: 0.04 - ETA: 4:54 - loss: 1.9232 - accuracy: 0.04 - ETA: 4:53 - loss: 1.9203 - accuracy: 0.04 - ETA: 4:52 - loss: 1.9158 - accuracy: 0.04 - ETA: 4:51 - loss: 1.9146 - accuracy: 0.04 - ETA: 4:50 - loss: 1.9156 - accuracy: 0.04 - ETA: 4:48 - loss: 1.9137 - accuracy: 0.04 - ETA: 4:48 - loss: 1.9157 - accuracy: 0.04 - ETA: 4:47 - loss: 1.9137 - accuracy: 0.04 - ETA: 4:46 - loss: 1.9148 - accuracy: 0.04 - ETA: 4:45 - loss: 1.9156 - accuracy: 0.04 - ETA: 4:44 - loss: 1.9057 - accuracy: 0.04 - ETA: 4:42 - loss: 1.8997 - accuracy: 0.04 - ETA: 4:41 - loss: 1.8995 - accuracy: 0.04 - ETA: 4:41 - loss: 1.9035 - accuracy: 0.04 - ETA: 4:40 - loss: 1.9076 - accuracy: 0.04 - ETA: 4:39 - loss: 1.9102 - accuracy: 0.04 - ETA: 4:38 - loss: 1.9117 - accuracy: 0.04 - ETA: 4:37 - loss: 1.9146 - accuracy: 0.04 - ETA: 4:36 - loss: 1.9101 - accuracy: 0.04 - ETA: 4:35 - loss: 1.9075 - accuracy: 0.04 - ETA: 4:34 - loss: 1.9060 - accuracy: 0.04 - ETA: 4:33 - loss: 1.9103 - accuracy: 0.04 - ETA: 4:32 - loss: 1.9122 - accuracy: 0.04 - ETA: 4:31 - loss: 1.9082 - accuracy: 0.04 - ETA: 4:30 - loss: 1.9067 - accuracy: 0.04 - ETA: 4:29 - loss: 1.9053 - accuracy: 0.04 - ETA: 4:28 - loss: 1.9028 - accuracy: 0.04 - ETA: 4:28 - loss: 1.9105 - accuracy: 0.04 - ETA: 4:26 - loss: 1.9076 - accuracy: 0.04 - ETA: 4:26 - loss: 1.9088 - accuracy: 0.04 - ETA: 4:25 - loss: 1.9075 - accuracy: 0.04 - ETA: 4:24 - loss: 1.9089 - accuracy: 0.04 - ETA: 4:23 - loss: 1.9086 - accuracy: 0.04 - ETA: 4:22 - loss: 1.9069 - accuracy: 0.04 - ETA: 4:21 - loss: 1.9102 - accuracy: 0.04 - ETA: 4:20 - loss: 1.9101 - accuracy: 0.04 - ETA: 4:19 - loss: 1.9101 - accuracy: 0.04 - ETA: 4:18 - loss: 1.9070 - accuracy: 0.04 - ETA: 4:17 - loss: 1.9048 - accuracy: 0.04 - ETA: 4:16 - loss: 1.9022 - accuracy: 0.04 - ETA: 4:15 - loss: 1.9057 - accuracy: 0.04 - ETA: 4:14 - loss: 1.9067 - accuracy: 0.04 - ETA: 4:14 - loss: 1.9079 - accuracy: 0.04 - ETA: 4:12 - loss: 1.9066 - accuracy: 0.04 - ETA: 4:11 - loss: 1.9051 - accuracy: 0.04 - ETA: 4:10 - loss: 1.9065 - accuracy: 0.04 - ETA: 4:09 - loss: 1.9078 - accuracy: 0.04 - ETA: 4:08 - loss: 1.9074 - accuracy: 0.04 - ETA: 4:07 - loss: 1.9015 - accuracy: 0.04 - ETA: 4:07 - loss: 1.8966 - accuracy: 0.04 - ETA: 4:06 - loss: 1.8935 - accuracy: 0.04 - ETA: 4:05 - loss: 1.8897 - accuracy: 0.04 - ETA: 4:04 - loss: 1.8873 - accuracy: 0.04 - ETA: 4:03 - loss: 1.8907 - accuracy: 0.04 - ETA: 4:02 - loss: 1.8976 - accuracy: 0.04 - ETA: 4:01 - loss: 1.8954 - accuracy: 0.04 - ETA: 4:00 - loss: 1.8956 - accuracy: 0.04 - ETA: 3:59 - loss: 1.8956 - accuracy: 0.04 - ETA: 3:58 - loss: 1.8965 - accuracy: 0.04 - ETA: 3:57 - loss: 1.8950 - accuracy: 0.04 - ETA: 3:56 - loss: 1.8947 - accuracy: 0.04 - ETA: 3:55 - loss: 1.8922 - accuracy: 0.04 - ETA: 3:54 - loss: 1.8928 - accuracy: 0.04 - ETA: 3:53 - loss: 1.8910 - accuracy: 0.04 - ETA: 3:52 - loss: 1.8910 - accuracy: 0.04 - ETA: 3:51 - loss: 1.8902 - accuracy: 0.04 - ETA: 3:50 - loss: 1.8889 - accuracy: 0.04 - ETA: 3:49 - loss: 1.8891 - accuracy: 0.04 - ETA: 3:48 - loss: 1.8867 - accuracy: 0.04 - ETA: 3:47 - loss: 1.8837 - accuracy: 0.04 - ETA: 3:46 - loss: 1.8831 - accuracy: 0.04 - ETA: 3:45 - loss: 1.8809 - accuracy: 0.04 - ETA: 3:44 - loss: 1.8793 - accuracy: 0.04 - ETA: 3:43 - loss: 1.8790 - accuracy: 0.04 - ETA: 3:42 - loss: 1.8783 - accuracy: 0.04 - ETA: 3:41 - loss: 1.8776 - accuracy: 0.04 - ETA: 3:40 - loss: 1.8782 - accuracy: 0.04 - ETA: 3:39 - loss: 1.8774 - accuracy: 0.04 - ETA: 3:38 - loss: 1.8763 - accuracy: 0.04 - ETA: 3:37 - loss: 1.8754 - accuracy: 0.04 - ETA: 3:36 - loss: 1.8735 - accuracy: 0.04 - ETA: 3:35 - loss: 1.8707 - accuracy: 0.04 - ETA: 3:34 - loss: 1.8728 - accuracy: 0.04 - ETA: 3:33 - loss: 1.8724 - accuracy: 0.04 - ETA: 3:32 - loss: 1.8726 - accuracy: 0.04 - ETA: 3:31 - loss: 1.8708 - accuracy: 0.04 - ETA: 3:30 - loss: 1.8720 - accuracy: 0.04 - ETA: 3:29 - loss: 1.8727 - accuracy: 0.04 - ETA: 3:28 - loss: 1.8706 - accuracy: 0.04 - ETA: 3:27 - loss: 1.8710 - accuracy: 0.04 - ETA: 3:26 - loss: 1.8708 - accuracy: 0.04 - ETA: 3:25 - loss: 1.8708 - accuracy: 0.04 - ETA: 3:24 - loss: 1.8702 - accuracy: 0.05 - ETA: 3:23 - loss: 1.8683 - accuracy: 0.05 - ETA: 3:23 - loss: 1.8681 - accuracy: 0.05 - ETA: 3:22 - loss: 1.8686 - accuracy: 0.05 - ETA: 3:21 - loss: 1.8691 - accuracy: 0.05 - ETA: 3:20 - loss: 1.8671 - accuracy: 0.05 - ETA: 3:19 - loss: 1.8665 - accuracy: 0.05 - ETA: 3:18 - loss: 1.8640 - accuracy: 0.05 - ETA: 3:17 - loss: 1.8643 - accuracy: 0.05 - ETA: 3:16 - loss: 1.8650 - accuracy: 0.05 - ETA: 3:15 - loss: 1.8635 - accuracy: 0.05 - ETA: 3:14 - loss: 1.8635 - accuracy: 0.05 - ETA: 3:13 - loss: 1.8638 - accuracy: 0.05 - ETA: 3:12 - loss: 1.8640 - accuracy: 0.05 - ETA: 3:11 - loss: 1.8633 - accuracy: 0.05 - ETA: 3:10 - loss: 1.8636 - accuracy: 0.05 - ETA: 3:09 - loss: 1.8647 - accuracy: 0.05 - ETA: 3:08 - loss: 1.8632 - accuracy: 0.05 - ETA: 3:07 - loss: 1.8652 - accuracy: 0.05 - ETA: 3:06 - loss: 1.8637 - accuracy: 0.05 - ETA: 3:05 - loss: 1.8636 - accuracy: 0.05 - ETA: 3:04 - loss: 1.8629 - accuracy: 0.05 - ETA: 3:03 - loss: 1.8613 - accuracy: 0.05 - ETA: 3:02 - loss: 1.8607 - accuracy: 0.05 - ETA: 3:01 - loss: 1.8621 - accuracy: 0.05 - ETA: 3:00 - loss: 1.8600 - accuracy: 0.05 - ETA: 2:59 - loss: 1.8587 - accuracy: 0.05 - ETA: 2:58 - loss: 1.8592 - accuracy: 0.05 - ETA: 2:57 - loss: 1.8587 - accuracy: 0.05 - ETA: 2:56 - loss: 1.8585 - accuracy: 0.05 - ETA: 2:55 - loss: 1.8579 - accuracy: 0.05 - ETA: 2:54 - loss: 1.8564 - accuracy: 0.05 - ETA: 2:53 - loss: 1.8564 - accuracy: 0.05 - ETA: 2:52 - loss: 1.8537 - accuracy: 0.05 - ETA: 2:51 - loss: 1.8531 - accuracy: 0.05 - ETA: 2:50 - loss: 1.8535 - accuracy: 0.05 - ETA: 2:49 - loss: 1.8529 - accuracy: 0.05 - ETA: 2:48 - loss: 1.8509 - accuracy: 0.05 - ETA: 2:47 - loss: 1.8512 - accuracy: 0.05 - ETA: 2:46 - loss: 1.8510 - accuracy: 0.05 - ETA: 2:45 - loss: 1.8500 - accuracy: 0.05 - ETA: 2:45 - loss: 1.8506 - accuracy: 0.05 - ETA: 2:44 - loss: 1.8501 - accuracy: 0.05 - ETA: 2:43 - loss: 1.8492 - accuracy: 0.05 - ETA: 2:42 - loss: 1.8488 - accuracy: 0.05 - ETA: 2:41 - loss: 1.8467 - accuracy: 0.05 - ETA: 2:40 - loss: 1.8466 - accuracy: 0.05 - ETA: 2:39 - loss: 1.8457 - accuracy: 0.05 - ETA: 2:38 - loss: 1.8440 - accuracy: 0.05 - ETA: 2:37 - loss: 1.8438 - accuracy: 0.05 - ETA: 2:36 - loss: 1.8438 - accuracy: 0.05 - ETA: 2:35 - loss: 1.8426 - accuracy: 0.05 - ETA: 2:34 - loss: 1.8409 - accuracy: 0.0538345/345 [==============================] - ETA: 2:33 - loss: 1.8389 - accuracy: 0.05 - ETA: 2:32 - loss: 1.8369 - accuracy: 0.05 - ETA: 2:31 - loss: 1.8352 - accuracy: 0.05 - ETA: 2:30 - loss: 1.8338 - accuracy: 0.05 - ETA: 2:29 - loss: 1.8305 - accuracy: 0.05 - ETA: 2:28 - loss: 1.8297 - accuracy: 0.05 - ETA: 2:27 - loss: 1.8282 - accuracy: 0.05 - ETA: 2:26 - loss: 1.8266 - accuracy: 0.05 - ETA: 2:25 - loss: 1.8249 - accuracy: 0.05 - ETA: 2:24 - loss: 1.8251 - accuracy: 0.05 - ETA: 2:23 - loss: 1.8233 - accuracy: 0.05 - ETA: 2:22 - loss: 1.8233 - accuracy: 0.05 - ETA: 2:21 - loss: 1.8240 - accuracy: 0.05 - ETA: 2:20 - loss: 1.8225 - accuracy: 0.05 - ETA: 2:19 - loss: 1.8211 - accuracy: 0.05 - ETA: 2:18 - loss: 1.8207 - accuracy: 0.05 - ETA: 2:17 - loss: 1.8194 - accuracy: 0.05 - ETA: 2:17 - loss: 1.8188 - accuracy: 0.05 - ETA: 2:16 - loss: 1.8179 - accuracy: 0.05 - ETA: 2:15 - loss: 1.8181 - accuracy: 0.05 - ETA: 2:14 - loss: 1.8179 - accuracy: 0.05 - ETA: 2:13 - loss: 1.8167 - accuracy: 0.05 - ETA: 2:12 - loss: 1.8165 - accuracy: 0.05 - ETA: 2:11 - loss: 1.8148 - accuracy: 0.05 - ETA: 2:10 - loss: 1.8148 - accuracy: 0.05 - ETA: 2:09 - loss: 1.8129 - accuracy: 0.05 - ETA: 2:08 - loss: 1.8114 - accuracy: 0.05 - ETA: 2:07 - loss: 1.8112 - accuracy: 0.05 - ETA: 2:06 - loss: 1.8097 - accuracy: 0.05 - ETA: 2:05 - loss: 1.8087 - accuracy: 0.05 - ETA: 2:04 - loss: 1.8071 - accuracy: 0.05 - ETA: 2:03 - loss: 1.8083 - accuracy: 0.05 - ETA: 2:02 - loss: 1.8081 - accuracy: 0.05 - ETA: 2:01 - loss: 1.8071 - accuracy: 0.05 - ETA: 2:00 - loss: 1.8067 - accuracy: 0.05 - ETA: 1:59 - loss: 1.8060 - accuracy: 0.05 - ETA: 1:58 - loss: 1.8052 - accuracy: 0.05 - ETA: 1:57 - loss: 1.8045 - accuracy: 0.05 - ETA: 1:56 - loss: 1.8053 - accuracy: 0.05 - ETA: 1:55 - loss: 1.8046 - accuracy: 0.05 - ETA: 1:54 - loss: 1.8037 - accuracy: 0.05 - ETA: 1:53 - loss: 1.8035 - accuracy: 0.05 - ETA: 1:52 - loss: 1.8043 - accuracy: 0.05 - ETA: 1:51 - loss: 1.8056 - accuracy: 0.05 - ETA: 1:50 - loss: 1.8048 - accuracy: 0.05 - ETA: 1:49 - loss: 1.8035 - accuracy: 0.05 - ETA: 1:48 - loss: 1.8036 - accuracy: 0.05 - ETA: 1:47 - loss: 1.8029 - accuracy: 0.05 - ETA: 1:46 - loss: 1.8021 - accuracy: 0.05 - ETA: 1:45 - loss: 1.8023 - accuracy: 0.05 - ETA: 1:44 - loss: 1.8025 - accuracy: 0.05 - ETA: 1:43 - loss: 1.8028 - accuracy: 0.05 - ETA: 1:42 - loss: 1.8033 - accuracy: 0.05 - ETA: 1:41 - loss: 1.8032 - accuracy: 0.05 - ETA: 1:40 - loss: 1.8030 - accuracy: 0.05 - ETA: 1:39 - loss: 1.8027 - accuracy: 0.05 - ETA: 1:38 - loss: 1.8032 - accuracy: 0.05 - ETA: 1:37 - loss: 1.8030 - accuracy: 0.05 - ETA: 1:36 - loss: 1.8031 - accuracy: 0.05 - ETA: 1:35 - loss: 1.8032 - accuracy: 0.05 - ETA: 1:34 - loss: 1.8036 - accuracy: 0.05 - ETA: 1:33 - loss: 1.8022 - accuracy: 0.05 - ETA: 1:32 - loss: 1.8013 - accuracy: 0.05 - ETA: 1:31 - loss: 1.8006 - accuracy: 0.05 - ETA: 1:30 - loss: 1.7997 - accuracy: 0.05 - ETA: 1:29 - loss: 1.7993 - accuracy: 0.05 - ETA: 1:28 - loss: 1.7993 - accuracy: 0.05 - ETA: 1:27 - loss: 1.7992 - accuracy: 0.05 - ETA: 1:26 - loss: 1.7987 - accuracy: 0.05 - ETA: 1:25 - loss: 1.7981 - accuracy: 0.05 - ETA: 1:24 - loss: 1.7977 - accuracy: 0.05 - ETA: 1:23 - loss: 1.7980 - accuracy: 0.05 - ETA: 1:22 - loss: 1.7984 - accuracy: 0.05 - ETA: 1:21 - loss: 1.7984 - accuracy: 0.05 - ETA: 1:20 - loss: 1.7987 - accuracy: 0.05 - ETA: 1:19 - loss: 1.7979 - accuracy: 0.05 - ETA: 1:18 - loss: 1.7983 - accuracy: 0.05 - ETA: 1:17 - loss: 1.7987 - accuracy: 0.05 - ETA: 1:16 - loss: 1.7977 - accuracy: 0.05 - ETA: 1:15 - loss: 1.7970 - accuracy: 0.05 - ETA: 1:14 - loss: 1.7971 - accuracy: 0.05 - ETA: 1:13 - loss: 1.7959 - accuracy: 0.05 - ETA: 1:12 - loss: 1.7955 - accuracy: 0.05 - ETA: 1:11 - loss: 1.7948 - accuracy: 0.05 - ETA: 1:11 - loss: 1.7937 - accuracy: 0.05 - ETA: 1:10 - loss: 1.7931 - accuracy: 0.05 - ETA: 1:09 - loss: 1.7923 - accuracy: 0.05 - ETA: 1:08 - loss: 1.7913 - accuracy: 0.05 - ETA: 1:07 - loss: 1.7912 - accuracy: 0.05 - ETA: 1:06 - loss: 1.7912 - accuracy: 0.05 - ETA: 1:05 - loss: 1.7903 - accuracy: 0.05 - ETA: 1:04 - loss: 1.7903 - accuracy: 0.05 - ETA: 1:03 - loss: 1.7901 - accuracy: 0.05 - ETA: 1:02 - loss: 1.7887 - accuracy: 0.05 - ETA: 1:01 - loss: 1.7882 - accuracy: 0.05 - ETA: 1:00 - loss: 1.7875 - accuracy: 0.05 - ETA: 59s - loss: 1.7865 - accuracy: 0.0592 - ETA: 58s - loss: 1.7855 - accuracy: 0.059 - ETA: 57s - loss: 1.7851 - accuracy: 0.059 - ETA: 56s - loss: 1.7844 - accuracy: 0.059 - ETA: 55s - loss: 1.7835 - accuracy: 0.059 - ETA: 54s - loss: 1.7840 - accuracy: 0.059 - ETA: 53s - loss: 1.7831 - accuracy: 0.059 - ETA: 52s - loss: 1.7831 - accuracy: 0.059 - ETA: 52s - loss: 1.7829 - accuracy: 0.059 - ETA: 51s - loss: 1.7830 - accuracy: 0.059 - ETA: 50s - loss: 1.7829 - accuracy: 0.059 - ETA: 49s - loss: 1.7826 - accuracy: 0.059 - ETA: 48s - loss: 1.7827 - accuracy: 0.059 - ETA: 47s - loss: 1.7823 - accuracy: 0.059 - ETA: 46s - loss: 1.7817 - accuracy: 0.059 - ETA: 45s - loss: 1.7819 - accuracy: 0.059 - ETA: 44s - loss: 1.7806 - accuracy: 0.059 - ETA: 43s - loss: 1.7796 - accuracy: 0.059 - ETA: 42s - loss: 1.7786 - accuracy: 0.059 - ETA: 41s - loss: 1.7780 - accuracy: 0.059 - ETA: 40s - loss: 1.7781 - accuracy: 0.059 - ETA: 39s - loss: 1.7765 - accuracy: 0.059 - ETA: 38s - loss: 1.7754 - accuracy: 0.059 - ETA: 37s - loss: 1.7751 - accuracy: 0.060 - ETA: 36s - loss: 1.7755 - accuracy: 0.060 - ETA: 35s - loss: 1.7750 - accuracy: 0.060 - ETA: 34s - loss: 1.7746 - accuracy: 0.060 - ETA: 33s - loss: 1.7732 - accuracy: 0.060 - ETA: 32s - loss: 1.7723 - accuracy: 0.060 - ETA: 31s - loss: 1.7716 - accuracy: 0.060 - ETA: 30s - loss: 1.7707 - accuracy: 0.060 - ETA: 29s - loss: 1.7708 - accuracy: 0.060 - ETA: 29s - loss: 1.7708 - accuracy: 0.060 - ETA: 28s - loss: 1.7695 - accuracy: 0.060 - ETA: 27s - loss: 1.7692 - accuracy: 0.060 - ETA: 26s - loss: 1.7694 - accuracy: 0.060 - ETA: 25s - loss: 1.7684 - accuracy: 0.060 - ETA: 24s - loss: 1.7692 - accuracy: 0.060 - ETA: 23s - loss: 1.7685 - accuracy: 0.060 - ETA: 22s - loss: 1.7674 - accuracy: 0.060 - ETA: 21s - loss: 1.7671 - accuracy: 0.060 - ETA: 20s - loss: 1.7669 - accuracy: 0.060 - ETA: 19s - loss: 1.7668 - accuracy: 0.060 - ETA: 18s - loss: 1.7662 - accuracy: 0.060 - ETA: 17s - loss: 1.7657 - accuracy: 0.060 - ETA: 16s - loss: 1.7648 - accuracy: 0.060 - ETA: 15s - loss: 1.7648 - accuracy: 0.060 - ETA: 14s - loss: 1.7642 - accuracy: 0.060 - ETA: 13s - loss: 1.7645 - accuracy: 0.060 - ETA: 12s - loss: 1.7640 - accuracy: 0.060 - ETA: 11s - loss: 1.7643 - accuracy: 0.060 - ETA: 10s - loss: 1.7642 - accuracy: 0.061 - ETA: 9s - loss: 1.7639 - accuracy: 0.061 - ETA: 8s - loss: 1.7637 - accuracy: 0.06 - ETA: 7s - loss: 1.7642 - accuracy: 0.06 - ETA: 6s - loss: 1.7647 - accuracy: 0.06 - ETA: 5s - loss: 1.7651 - accuracy: 0.06 - ETA: 4s - loss: 1.7648 - accuracy: 0.06 - ETA: 3s - loss: 1.7656 - accuracy: 0.06 - ETA: 2s - loss: 1.7642 - accuracy: 0.06 - ETA: 1s - loss: 1.7645 - accuracy: 0.06 - ETA: 0s - loss: 1.7638 - accuracy: 0.06 - 334s 969ms/step - loss: 1.7638 - accuracy: 0.0614\n",
      "Epoch 3/20\n"
     ]
    },
    {
     "name": "stdout",
     "output_type": "stream",
     "text": [
      "186/345 [===============>..............] - ETA: 5:41 - loss: 1.8109 - accuracy: 0.07 - ETA: 5:44 - loss: 1.7009 - accuracy: 0.07 - ETA: 5:38 - loss: 1.6280 - accuracy: 0.07 - ETA: 5:37 - loss: 1.5886 - accuracy: 0.07 - ETA: 5:37 - loss: 1.5937 - accuracy: 0.07 - ETA: 5:40 - loss: 1.5968 - accuracy: 0.07 - ETA: 5:39 - loss: 1.5662 - accuracy: 0.07 - ETA: 5:36 - loss: 1.5586 - accuracy: 0.07 - ETA: 5:35 - loss: 1.5634 - accuracy: 0.07 - ETA: 5:35 - loss: 1.5906 - accuracy: 0.07 - ETA: 5:35 - loss: 1.6024 - accuracy: 0.07 - ETA: 5:48 - loss: 1.6040 - accuracy: 0.07 - ETA: 6:02 - loss: 1.5915 - accuracy: 0.07 - ETA: 6:07 - loss: 1.5907 - accuracy: 0.07 - ETA: 6:00 - loss: 1.5898 - accuracy: 0.07 - ETA: 5:55 - loss: 1.6093 - accuracy: 0.07 - ETA: 5:50 - loss: 1.6012 - accuracy: 0.07 - ETA: 5:45 - loss: 1.6020 - accuracy: 0.07 - ETA: 5:41 - loss: 1.6002 - accuracy: 0.07 - ETA: 5:37 - loss: 1.6065 - accuracy: 0.07 - ETA: 5:35 - loss: 1.6021 - accuracy: 0.07 - ETA: 5:33 - loss: 1.6106 - accuracy: 0.07 - ETA: 5:36 - loss: 1.6116 - accuracy: 0.07 - ETA: 5:33 - loss: 1.6212 - accuracy: 0.07 - ETA: 5:31 - loss: 1.6240 - accuracy: 0.07 - ETA: 5:28 - loss: 1.6244 - accuracy: 0.07 - ETA: 5:25 - loss: 1.6222 - accuracy: 0.07 - ETA: 5:29 - loss: 1.6209 - accuracy: 0.07 - ETA: 5:29 - loss: 1.6273 - accuracy: 0.07 - ETA: 5:26 - loss: 1.6261 - accuracy: 0.07 - ETA: 5:23 - loss: 1.6280 - accuracy: 0.07 - ETA: 5:22 - loss: 1.6279 - accuracy: 0.07 - ETA: 5:19 - loss: 1.6140 - accuracy: 0.07 - ETA: 5:16 - loss: 1.6192 - accuracy: 0.07 - ETA: 5:15 - loss: 1.6193 - accuracy: 0.07 - ETA: 5:13 - loss: 1.6147 - accuracy: 0.07 - ETA: 5:14 - loss: 1.6215 - accuracy: 0.07 - ETA: 5:15 - loss: 1.6159 - accuracy: 0.07 - ETA: 5:14 - loss: 1.6109 - accuracy: 0.07 - ETA: 5:20 - loss: 1.6070 - accuracy: 0.07 - ETA: 5:22 - loss: 1.6049 - accuracy: 0.07 - ETA: 5:21 - loss: 1.6049 - accuracy: 0.07 - ETA: 5:19 - loss: 1.6063 - accuracy: 0.07 - ETA: 5:18 - loss: 1.6048 - accuracy: 0.07 - ETA: 5:16 - loss: 1.6018 - accuracy: 0.07 - ETA: 5:15 - loss: 1.6085 - accuracy: 0.07 - ETA: 5:13 - loss: 1.6092 - accuracy: 0.07 - ETA: 5:12 - loss: 1.6142 - accuracy: 0.07 - ETA: 5:11 - loss: 1.6131 - accuracy: 0.07 - ETA: 5:10 - loss: 1.6140 - accuracy: 0.07 - ETA: 5:09 - loss: 1.6141 - accuracy: 0.07 - ETA: 5:07 - loss: 1.6158 - accuracy: 0.07 - ETA: 5:06 - loss: 1.6161 - accuracy: 0.07 - ETA: 5:04 - loss: 1.6161 - accuracy: 0.07 - ETA: 5:02 - loss: 1.6143 - accuracy: 0.07 - ETA: 5:00 - loss: 1.6139 - accuracy: 0.07 - ETA: 4:58 - loss: 1.6155 - accuracy: 0.07 - ETA: 4:57 - loss: 1.6163 - accuracy: 0.07 - ETA: 4:55 - loss: 1.6190 - accuracy: 0.07 - ETA: 4:53 - loss: 1.6200 - accuracy: 0.07 - ETA: 4:52 - loss: 1.6164 - accuracy: 0.07 - ETA: 4:50 - loss: 1.6132 - accuracy: 0.07 - ETA: 4:49 - loss: 1.6176 - accuracy: 0.07 - ETA: 4:47 - loss: 1.6170 - accuracy: 0.07 - ETA: 4:46 - loss: 1.6158 - accuracy: 0.07 - ETA: 4:45 - loss: 1.6144 - accuracy: 0.07 - ETA: 4:43 - loss: 1.6146 - accuracy: 0.07 - ETA: 4:42 - loss: 1.6155 - accuracy: 0.07 - ETA: 4:40 - loss: 1.6167 - accuracy: 0.07 - ETA: 4:40 - loss: 1.6131 - accuracy: 0.07 - ETA: 4:38 - loss: 1.6085 - accuracy: 0.07 - ETA: 4:37 - loss: 1.6087 - accuracy: 0.07 - ETA: 4:36 - loss: 1.6101 - accuracy: 0.07 - ETA: 4:35 - loss: 1.6120 - accuracy: 0.07 - ETA: 4:34 - loss: 1.6103 - accuracy: 0.07 - ETA: 4:32 - loss: 1.6103 - accuracy: 0.07 - ETA: 4:31 - loss: 1.6111 - accuracy: 0.07 - ETA: 4:30 - loss: 1.6109 - accuracy: 0.07 - ETA: 4:29 - loss: 1.6095 - accuracy: 0.07 - ETA: 4:28 - loss: 1.6065 - accuracy: 0.07 - ETA: 4:26 - loss: 1.6094 - accuracy: 0.07 - ETA: 4:25 - loss: 1.6089 - accuracy: 0.07 - ETA: 4:24 - loss: 1.6094 - accuracy: 0.07 - ETA: 4:23 - loss: 1.6064 - accuracy: 0.07 - ETA: 4:21 - loss: 1.6054 - accuracy: 0.07 - ETA: 4:20 - loss: 1.6060 - accuracy: 0.07 - ETA: 4:19 - loss: 1.6082 - accuracy: 0.07 - ETA: 4:18 - loss: 1.6079 - accuracy: 0.07 - ETA: 4:17 - loss: 1.6083 - accuracy: 0.07 - ETA: 4:15 - loss: 1.6090 - accuracy: 0.07 - ETA: 4:14 - loss: 1.6086 - accuracy: 0.07 - ETA: 4:13 - loss: 1.6069 - accuracy: 0.07 - ETA: 4:11 - loss: 1.6071 - accuracy: 0.07 - ETA: 4:10 - loss: 1.6040 - accuracy: 0.07 - ETA: 4:09 - loss: 1.6030 - accuracy: 0.07 - ETA: 4:08 - loss: 1.6026 - accuracy: 0.07 - ETA: 4:07 - loss: 1.6007 - accuracy: 0.07 - ETA: 4:05 - loss: 1.6007 - accuracy: 0.07 - ETA: 4:04 - loss: 1.6015 - accuracy: 0.07 - ETA: 4:03 - loss: 1.5987 - accuracy: 0.07 - ETA: 4:02 - loss: 1.5970 - accuracy: 0.07 - ETA: 4:01 - loss: 1.5978 - accuracy: 0.07 - ETA: 4:00 - loss: 1.5966 - accuracy: 0.07 - ETA: 3:58 - loss: 1.5957 - accuracy: 0.07 - ETA: 3:57 - loss: 1.5971 - accuracy: 0.07 - ETA: 3:56 - loss: 1.5956 - accuracy: 0.07 - ETA: 3:55 - loss: 1.5961 - accuracy: 0.07 - ETA: 3:54 - loss: 1.5977 - accuracy: 0.07 - ETA: 3:52 - loss: 1.5959 - accuracy: 0.07 - ETA: 3:51 - loss: 1.5943 - accuracy: 0.07 - ETA: 3:50 - loss: 1.5953 - accuracy: 0.07 - ETA: 3:49 - loss: 1.5933 - accuracy: 0.07 - ETA: 3:48 - loss: 1.5930 - accuracy: 0.07 - ETA: 3:47 - loss: 1.5945 - accuracy: 0.07 - ETA: 3:45 - loss: 1.5929 - accuracy: 0.07 - ETA: 3:44 - loss: 1.5937 - accuracy: 0.07 - ETA: 3:43 - loss: 1.5914 - accuracy: 0.07 - ETA: 3:42 - loss: 1.5905 - accuracy: 0.07 - ETA: 3:41 - loss: 1.5900 - accuracy: 0.07 - ETA: 3:40 - loss: 1.5870 - accuracy: 0.07 - ETA: 3:39 - loss: 1.5850 - accuracy: 0.07 - ETA: 3:38 - loss: 1.5830 - accuracy: 0.07 - ETA: 3:37 - loss: 1.5836 - accuracy: 0.07 - ETA: 3:36 - loss: 1.5818 - accuracy: 0.07 - ETA: 3:35 - loss: 1.5793 - accuracy: 0.07 - ETA: 3:34 - loss: 1.5791 - accuracy: 0.07 - ETA: 3:32 - loss: 1.5802 - accuracy: 0.07 - ETA: 3:31 - loss: 1.5808 - accuracy: 0.07 - ETA: 3:30 - loss: 1.5798 - accuracy: 0.07 - ETA: 3:29 - loss: 1.5779 - accuracy: 0.07 - ETA: 3:28 - loss: 1.5786 - accuracy: 0.07 - ETA: 3:27 - loss: 1.5769 - accuracy: 0.07 - ETA: 3:26 - loss: 1.5773 - accuracy: 0.07 - ETA: 3:25 - loss: 1.5782 - accuracy: 0.07 - ETA: 3:24 - loss: 1.5781 - accuracy: 0.07 - ETA: 3:23 - loss: 1.5771 - accuracy: 0.07 - ETA: 3:22 - loss: 1.5781 - accuracy: 0.07 - ETA: 3:21 - loss: 1.5794 - accuracy: 0.07 - ETA: 3:20 - loss: 1.5794 - accuracy: 0.07 - ETA: 3:19 - loss: 1.5780 - accuracy: 0.07 - ETA: 3:18 - loss: 1.5771 - accuracy: 0.07 - ETA: 3:17 - loss: 1.5760 - accuracy: 0.07 - ETA: 3:16 - loss: 1.5757 - accuracy: 0.07 - ETA: 3:15 - loss: 1.5754 - accuracy: 0.07 - ETA: 3:14 - loss: 1.5735 - accuracy: 0.07 - ETA: 3:13 - loss: 1.5740 - accuracy: 0.07 - ETA: 3:12 - loss: 1.5730 - accuracy: 0.07 - ETA: 3:11 - loss: 1.5743 - accuracy: 0.07 - ETA: 3:10 - loss: 1.5740 - accuracy: 0.07 - ETA: 3:09 - loss: 1.5719 - accuracy: 0.07 - ETA: 3:08 - loss: 1.5703 - accuracy: 0.07 - ETA: 3:06 - loss: 1.5714 - accuracy: 0.07 - ETA: 3:05 - loss: 1.5723 - accuracy: 0.07 - ETA: 3:04 - loss: 1.5721 - accuracy: 0.07 - ETA: 3:03 - loss: 1.5730 - accuracy: 0.07 - ETA: 3:02 - loss: 1.5745 - accuracy: 0.07 - ETA: 3:01 - loss: 1.5729 - accuracy: 0.07 - ETA: 3:00 - loss: 1.5713 - accuracy: 0.07 - ETA: 2:59 - loss: 1.5710 - accuracy: 0.07 - ETA: 2:58 - loss: 1.5709 - accuracy: 0.07 - ETA: 2:57 - loss: 1.5705 - accuracy: 0.07 - ETA: 2:56 - loss: 1.5703 - accuracy: 0.07 - ETA: 2:55 - loss: 1.5700 - accuracy: 0.07 - ETA: 2:54 - loss: 1.5696 - accuracy: 0.07 - ETA: 2:53 - loss: 1.5682 - accuracy: 0.07 - ETA: 2:52 - loss: 1.5673 - accuracy: 0.07 - ETA: 2:51 - loss: 1.5670 - accuracy: 0.07 - ETA: 2:50 - loss: 1.5673 - accuracy: 0.07 - ETA: 2:49 - loss: 1.5651 - accuracy: 0.07 - ETA: 2:48 - loss: 1.5656 - accuracy: 0.07 - ETA: 2:47 - loss: 1.5654 - accuracy: 0.07 - ETA: 2:46 - loss: 1.5664 - accuracy: 0.07 - ETA: 2:45 - loss: 1.5676 - accuracy: 0.07 - ETA: 2:44 - loss: 1.5676 - accuracy: 0.07 - ETA: 2:43 - loss: 1.5677 - accuracy: 0.07 - ETA: 2:42 - loss: 1.5669 - accuracy: 0.07 - ETA: 2:41 - loss: 1.5666 - accuracy: 0.07 - ETA: 2:40 - loss: 1.5661 - accuracy: 0.07 - ETA: 2:39 - loss: 1.5661 - accuracy: 0.07 - ETA: 2:38 - loss: 1.5658 - accuracy: 0.07 - ETA: 2:37 - loss: 1.5647 - accuracy: 0.07 - ETA: 2:36 - loss: 1.5656 - accuracy: 0.07 - ETA: 2:35 - loss: 1.5651 - accuracy: 0.07 - ETA: 2:34 - loss: 1.5652 - accuracy: 0.07 - ETA: 2:33 - loss: 1.5657 - accuracy: 0.07 - ETA: 2:32 - loss: 1.5652 - accuracy: 0.0750"
     ]
    },
    {
     "name": "stdout",
     "output_type": "stream",
     "text": [
      "345/345 [==============================] - ETA: 2:31 - loss: 1.5649 - accuracy: 0.07 - ETA: 2:30 - loss: 1.5637 - accuracy: 0.07 - ETA: 2:29 - loss: 1.5642 - accuracy: 0.07 - ETA: 2:28 - loss: 1.5637 - accuracy: 0.07 - ETA: 2:27 - loss: 1.5654 - accuracy: 0.07 - ETA: 2:26 - loss: 1.5649 - accuracy: 0.07 - ETA: 2:25 - loss: 1.5655 - accuracy: 0.07 - ETA: 2:24 - loss: 1.5656 - accuracy: 0.07 - ETA: 2:23 - loss: 1.5648 - accuracy: 0.07 - ETA: 2:22 - loss: 1.5646 - accuracy: 0.07 - ETA: 2:21 - loss: 1.5627 - accuracy: 0.07 - ETA: 2:20 - loss: 1.5622 - accuracy: 0.07 - ETA: 2:19 - loss: 1.5627 - accuracy: 0.07 - ETA: 2:18 - loss: 1.5634 - accuracy: 0.07 - ETA: 2:17 - loss: 1.5633 - accuracy: 0.07 - ETA: 2:16 - loss: 1.5632 - accuracy: 0.07 - ETA: 2:15 - loss: 1.5634 - accuracy: 0.07 - ETA: 2:14 - loss: 1.5624 - accuracy: 0.07 - ETA: 2:13 - loss: 1.5635 - accuracy: 0.07 - ETA: 2:12 - loss: 1.5648 - accuracy: 0.07 - ETA: 2:11 - loss: 1.5654 - accuracy: 0.07 - ETA: 2:10 - loss: 1.5656 - accuracy: 0.07 - ETA: 2:09 - loss: 1.5648 - accuracy: 0.07 - ETA: 2:08 - loss: 1.5653 - accuracy: 0.07 - ETA: 2:07 - loss: 1.5650 - accuracy: 0.07 - ETA: 2:06 - loss: 1.5651 - accuracy: 0.07 - ETA: 2:05 - loss: 1.5656 - accuracy: 0.07 - ETA: 2:04 - loss: 1.5657 - accuracy: 0.07 - ETA: 2:03 - loss: 1.5668 - accuracy: 0.07 - ETA: 2:02 - loss: 1.5664 - accuracy: 0.07 - ETA: 2:01 - loss: 1.5659 - accuracy: 0.07 - ETA: 2:00 - loss: 1.5652 - accuracy: 0.07 - ETA: 1:59 - loss: 1.5656 - accuracy: 0.07 - ETA: 1:58 - loss: 1.5652 - accuracy: 0.07 - ETA: 1:57 - loss: 1.5648 - accuracy: 0.07 - ETA: 1:56 - loss: 1.5648 - accuracy: 0.07 - ETA: 1:55 - loss: 1.5639 - accuracy: 0.07 - ETA: 1:54 - loss: 1.5636 - accuracy: 0.07 - ETA: 1:53 - loss: 1.5623 - accuracy: 0.07 - ETA: 1:52 - loss: 1.5617 - accuracy: 0.07 - ETA: 1:51 - loss: 1.5606 - accuracy: 0.07 - ETA: 1:50 - loss: 1.5596 - accuracy: 0.07 - ETA: 1:49 - loss: 1.5584 - accuracy: 0.07 - ETA: 1:48 - loss: 1.5578 - accuracy: 0.07 - ETA: 1:47 - loss: 1.5572 - accuracy: 0.07 - ETA: 1:46 - loss: 1.5561 - accuracy: 0.07 - ETA: 1:45 - loss: 1.5562 - accuracy: 0.07 - ETA: 1:44 - loss: 1.5560 - accuracy: 0.07 - ETA: 1:43 - loss: 1.5567 - accuracy: 0.07 - ETA: 1:42 - loss: 1.5573 - accuracy: 0.07 - ETA: 1:41 - loss: 1.5560 - accuracy: 0.07 - ETA: 1:41 - loss: 1.5552 - accuracy: 0.07 - ETA: 1:40 - loss: 1.5544 - accuracy: 0.07 - ETA: 1:39 - loss: 1.5541 - accuracy: 0.07 - ETA: 1:38 - loss: 1.5544 - accuracy: 0.07 - ETA: 1:37 - loss: 1.5543 - accuracy: 0.07 - ETA: 1:36 - loss: 1.5541 - accuracy: 0.07 - ETA: 1:35 - loss: 1.5529 - accuracy: 0.07 - ETA: 1:34 - loss: 1.5536 - accuracy: 0.07 - ETA: 1:33 - loss: 1.5527 - accuracy: 0.07 - ETA: 1:32 - loss: 1.5527 - accuracy: 0.07 - ETA: 1:31 - loss: 1.5518 - accuracy: 0.07 - ETA: 1:30 - loss: 1.5511 - accuracy: 0.07 - ETA: 1:29 - loss: 1.5502 - accuracy: 0.07 - ETA: 1:28 - loss: 1.5509 - accuracy: 0.07 - ETA: 1:27 - loss: 1.5501 - accuracy: 0.07 - ETA: 1:26 - loss: 1.5502 - accuracy: 0.07 - ETA: 1:25 - loss: 1.5506 - accuracy: 0.07 - ETA: 1:24 - loss: 1.5512 - accuracy: 0.07 - ETA: 1:23 - loss: 1.5511 - accuracy: 0.07 - ETA: 1:22 - loss: 1.5518 - accuracy: 0.07 - ETA: 1:21 - loss: 1.5515 - accuracy: 0.07 - ETA: 1:20 - loss: 1.5517 - accuracy: 0.07 - ETA: 1:19 - loss: 1.5514 - accuracy: 0.07 - ETA: 1:18 - loss: 1.5516 - accuracy: 0.07 - ETA: 1:18 - loss: 1.5516 - accuracy: 0.07 - ETA: 1:17 - loss: 1.5510 - accuracy: 0.07 - ETA: 1:16 - loss: 1.5508 - accuracy: 0.07 - ETA: 1:15 - loss: 1.5515 - accuracy: 0.07 - ETA: 1:14 - loss: 1.5503 - accuracy: 0.07 - ETA: 1:13 - loss: 1.5490 - accuracy: 0.07 - ETA: 1:12 - loss: 1.5480 - accuracy: 0.07 - ETA: 1:11 - loss: 1.5488 - accuracy: 0.07 - ETA: 1:10 - loss: 1.5477 - accuracy: 0.07 - ETA: 1:09 - loss: 1.5480 - accuracy: 0.07 - ETA: 1:08 - loss: 1.5484 - accuracy: 0.07 - ETA: 1:07 - loss: 1.5472 - accuracy: 0.07 - ETA: 1:06 - loss: 1.5470 - accuracy: 0.07 - ETA: 1:05 - loss: 1.5474 - accuracy: 0.07 - ETA: 1:04 - loss: 1.5483 - accuracy: 0.07 - ETA: 1:03 - loss: 1.5484 - accuracy: 0.07 - ETA: 1:02 - loss: 1.5488 - accuracy: 0.07 - ETA: 1:01 - loss: 1.5497 - accuracy: 0.07 - ETA: 1:00 - loss: 1.5487 - accuracy: 0.07 - ETA: 59s - loss: 1.5491 - accuracy: 0.0763 - ETA: 59s - loss: 1.5485 - accuracy: 0.076 - ETA: 58s - loss: 1.5490 - accuracy: 0.076 - ETA: 57s - loss: 1.5489 - accuracy: 0.076 - ETA: 56s - loss: 1.5490 - accuracy: 0.076 - ETA: 55s - loss: 1.5490 - accuracy: 0.076 - ETA: 54s - loss: 1.5489 - accuracy: 0.076 - ETA: 53s - loss: 1.5487 - accuracy: 0.076 - ETA: 52s - loss: 1.5491 - accuracy: 0.076 - ETA: 51s - loss: 1.5484 - accuracy: 0.076 - ETA: 50s - loss: 1.5487 - accuracy: 0.076 - ETA: 49s - loss: 1.5489 - accuracy: 0.076 - ETA: 48s - loss: 1.5508 - accuracy: 0.076 - ETA: 47s - loss: 1.5515 - accuracy: 0.076 - ETA: 46s - loss: 1.5503 - accuracy: 0.076 - ETA: 45s - loss: 1.5503 - accuracy: 0.076 - ETA: 44s - loss: 1.5493 - accuracy: 0.076 - ETA: 43s - loss: 1.5493 - accuracy: 0.076 - ETA: 43s - loss: 1.5491 - accuracy: 0.076 - ETA: 42s - loss: 1.5490 - accuracy: 0.076 - ETA: 41s - loss: 1.5492 - accuracy: 0.076 - ETA: 40s - loss: 1.5497 - accuracy: 0.076 - ETA: 39s - loss: 1.5486 - accuracy: 0.076 - ETA: 38s - loss: 1.5484 - accuracy: 0.076 - ETA: 37s - loss: 1.5473 - accuracy: 0.076 - ETA: 36s - loss: 1.5468 - accuracy: 0.076 - ETA: 35s - loss: 1.5465 - accuracy: 0.076 - ETA: 34s - loss: 1.5472 - accuracy: 0.076 - ETA: 33s - loss: 1.5475 - accuracy: 0.076 - ETA: 32s - loss: 1.5470 - accuracy: 0.076 - ETA: 31s - loss: 1.5473 - accuracy: 0.076 - ETA: 30s - loss: 1.5480 - accuracy: 0.076 - ETA: 29s - loss: 1.5483 - accuracy: 0.076 - ETA: 28s - loss: 1.5483 - accuracy: 0.076 - ETA: 27s - loss: 1.5489 - accuracy: 0.076 - ETA: 27s - loss: 1.5494 - accuracy: 0.076 - ETA: 26s - loss: 1.5487 - accuracy: 0.076 - ETA: 25s - loss: 1.5491 - accuracy: 0.076 - ETA: 24s - loss: 1.5487 - accuracy: 0.076 - ETA: 23s - loss: 1.5485 - accuracy: 0.076 - ETA: 22s - loss: 1.5478 - accuracy: 0.076 - ETA: 21s - loss: 1.5469 - accuracy: 0.076 - ETA: 20s - loss: 1.5469 - accuracy: 0.076 - ETA: 19s - loss: 1.5466 - accuracy: 0.076 - ETA: 18s - loss: 1.5466 - accuracy: 0.076 - ETA: 17s - loss: 1.5466 - accuracy: 0.076 - ETA: 16s - loss: 1.5459 - accuracy: 0.076 - ETA: 15s - loss: 1.5452 - accuracy: 0.076 - ETA: 14s - loss: 1.5443 - accuracy: 0.076 - ETA: 13s - loss: 1.5436 - accuracy: 0.076 - ETA: 13s - loss: 1.5436 - accuracy: 0.076 - ETA: 12s - loss: 1.5432 - accuracy: 0.076 - ETA: 11s - loss: 1.5432 - accuracy: 0.076 - ETA: 10s - loss: 1.5440 - accuracy: 0.076 - ETA: 9s - loss: 1.5434 - accuracy: 0.076 - ETA: 8s - loss: 1.5429 - accuracy: 0.07 - ETA: 7s - loss: 1.5436 - accuracy: 0.07 - ETA: 6s - loss: 1.5431 - accuracy: 0.07 - ETA: 5s - loss: 1.5431 - accuracy: 0.07 - ETA: 4s - loss: 1.5431 - accuracy: 0.07 - ETA: 3s - loss: 1.5439 - accuracy: 0.07 - ETA: 2s - loss: 1.5440 - accuracy: 0.07 - ETA: 1s - loss: 1.5438 - accuracy: 0.07 - ETA: 0s - loss: 1.5439 - accuracy: 0.07 - 320s 929ms/step - loss: 1.5439 - accuracy: 0.0768\n",
      "Epoch 4/20\n",
      "186/345 [===============>..............] - ETA: 4:57 - loss: 1.6482 - accuracy: 0.09 - ETA: 4:58 - loss: 1.4579 - accuracy: 0.08 - ETA: 4:58 - loss: 1.4197 - accuracy: 0.08 - ETA: 5:03 - loss: 1.4145 - accuracy: 0.08 - ETA: 5:04 - loss: 1.4742 - accuracy: 0.08 - ETA: 5:02 - loss: 1.5049 - accuracy: 0.08 - ETA: 5:00 - loss: 1.5157 - accuracy: 0.08 - ETA: 4:58 - loss: 1.4997 - accuracy: 0.08 - ETA: 4:56 - loss: 1.4842 - accuracy: 0.08 - ETA: 4:57 - loss: 1.4746 - accuracy: 0.08 - ETA: 4:57 - loss: 1.4601 - accuracy: 0.08 - ETA: 4:55 - loss: 1.4640 - accuracy: 0.08 - ETA: 4:54 - loss: 1.4758 - accuracy: 0.08 - ETA: 4:54 - loss: 1.4790 - accuracy: 0.08 - ETA: 4:54 - loss: 1.4783 - accuracy: 0.08 - ETA: 4:53 - loss: 1.4828 - accuracy: 0.08 - ETA: 4:52 - loss: 1.4774 - accuracy: 0.08 - ETA: 4:51 - loss: 1.4686 - accuracy: 0.08 - ETA: 4:49 - loss: 1.4734 - accuracy: 0.08 - ETA: 4:48 - loss: 1.4610 - accuracy: 0.08 - ETA: 4:48 - loss: 1.4642 - accuracy: 0.08 - ETA: 4:48 - loss: 1.4618 - accuracy: 0.08 - ETA: 4:46 - loss: 1.4710 - accuracy: 0.08 - ETA: 4:46 - loss: 1.4660 - accuracy: 0.08 - ETA: 4:45 - loss: 1.4743 - accuracy: 0.08 - ETA: 4:44 - loss: 1.4762 - accuracy: 0.08 - ETA: 4:43 - loss: 1.4870 - accuracy: 0.08 - ETA: 4:43 - loss: 1.4890 - accuracy: 0.08 - ETA: 4:42 - loss: 1.4838 - accuracy: 0.08 - ETA: 4:41 - loss: 1.4910 - accuracy: 0.08 - ETA: 4:41 - loss: 1.4945 - accuracy: 0.08 - ETA: 4:39 - loss: 1.4913 - accuracy: 0.08 - ETA: 4:38 - loss: 1.4923 - accuracy: 0.08 - ETA: 4:37 - loss: 1.4934 - accuracy: 0.08 - ETA: 4:36 - loss: 1.4947 - accuracy: 0.08 - ETA: 4:36 - loss: 1.4963 - accuracy: 0.08 - ETA: 4:35 - loss: 1.4925 - accuracy: 0.08 - ETA: 4:34 - loss: 1.4937 - accuracy: 0.08 - ETA: 4:32 - loss: 1.4949 - accuracy: 0.08 - ETA: 4:32 - loss: 1.4940 - accuracy: 0.08 - ETA: 4:31 - loss: 1.4964 - accuracy: 0.08 - ETA: 4:30 - loss: 1.4952 - accuracy: 0.08 - ETA: 4:29 - loss: 1.4974 - accuracy: 0.08 - ETA: 4:28 - loss: 1.4962 - accuracy: 0.08 - ETA: 4:27 - loss: 1.4959 - accuracy: 0.08 - ETA: 4:27 - loss: 1.5008 - accuracy: 0.08 - ETA: 4:26 - loss: 1.5076 - accuracy: 0.08 - ETA: 4:25 - loss: 1.5139 - accuracy: 0.08 - ETA: 4:24 - loss: 1.5088 - accuracy: 0.08 - ETA: 4:23 - loss: 1.5090 - accuracy: 0.08 - ETA: 4:22 - loss: 1.5088 - accuracy: 0.08 - ETA: 4:21 - loss: 1.5090 - accuracy: 0.08 - ETA: 4:20 - loss: 1.5121 - accuracy: 0.08 - ETA: 4:19 - loss: 1.5098 - accuracy: 0.08 - ETA: 4:18 - loss: 1.5070 - accuracy: 0.08 - ETA: 4:18 - loss: 1.5102 - accuracy: 0.08 - ETA: 4:17 - loss: 1.5093 - accuracy: 0.08 - ETA: 4:16 - loss: 1.5040 - accuracy: 0.08 - ETA: 4:15 - loss: 1.5046 - accuracy: 0.08 - ETA: 4:14 - loss: 1.5036 - accuracy: 0.08 - ETA: 4:13 - loss: 1.5049 - accuracy: 0.08 - ETA: 4:12 - loss: 1.5053 - accuracy: 0.08 - ETA: 4:11 - loss: 1.5063 - accuracy: 0.08 - ETA: 4:11 - loss: 1.5058 - accuracy: 0.08 - ETA: 4:10 - loss: 1.5061 - accuracy: 0.08 - ETA: 4:09 - loss: 1.5056 - accuracy: 0.08 - ETA: 4:08 - loss: 1.5037 - accuracy: 0.08 - ETA: 4:07 - loss: 1.5035 - accuracy: 0.08 - ETA: 4:06 - loss: 1.5027 - accuracy: 0.08 - ETA: 4:05 - loss: 1.5000 - accuracy: 0.08 - ETA: 4:04 - loss: 1.4981 - accuracy: 0.08 - ETA: 4:04 - loss: 1.4979 - accuracy: 0.08 - ETA: 4:03 - loss: 1.4961 - accuracy: 0.08 - ETA: 4:02 - loss: 1.4948 - accuracy: 0.08 - ETA: 4:01 - loss: 1.4925 - accuracy: 0.08 - ETA: 4:00 - loss: 1.4932 - accuracy: 0.08 - ETA: 3:59 - loss: 1.4913 - accuracy: 0.08 - ETA: 3:58 - loss: 1.4927 - accuracy: 0.08 - ETA: 3:57 - loss: 1.4909 - accuracy: 0.08 - ETA: 3:56 - loss: 1.4887 - accuracy: 0.08 - ETA: 3:56 - loss: 1.4891 - accuracy: 0.08 - ETA: 3:55 - loss: 1.4880 - accuracy: 0.08 - ETA: 3:54 - loss: 1.4878 - accuracy: 0.08 - ETA: 3:53 - loss: 1.4859 - accuracy: 0.08 - ETA: 3:52 - loss: 1.4855 - accuracy: 0.08 - ETA: 3:51 - loss: 1.4869 - accuracy: 0.08 - ETA: 3:50 - loss: 1.4841 - accuracy: 0.08 - ETA: 3:49 - loss: 1.4827 - accuracy: 0.08 - ETA: 3:48 - loss: 1.4863 - accuracy: 0.08 - ETA: 3:47 - loss: 1.4863 - accuracy: 0.08 - ETA: 3:46 - loss: 1.4872 - accuracy: 0.08 - ETA: 3:46 - loss: 1.4887 - accuracy: 0.08 - ETA: 3:45 - loss: 1.4879 - accuracy: 0.08 - ETA: 3:44 - loss: 1.4857 - accuracy: 0.08 - ETA: 3:43 - loss: 1.4842 - accuracy: 0.08 - ETA: 3:42 - loss: 1.4829 - accuracy: 0.08 - ETA: 3:41 - loss: 1.4823 - accuracy: 0.08 - ETA: 3:40 - loss: 1.4813 - accuracy: 0.08 - ETA: 3:39 - loss: 1.4809 - accuracy: 0.08 - ETA: 3:38 - loss: 1.4809 - accuracy: 0.08 - ETA: 3:37 - loss: 1.4809 - accuracy: 0.08 - ETA: 3:37 - loss: 1.4810 - accuracy: 0.08 - ETA: 3:36 - loss: 1.4808 - accuracy: 0.08 - ETA: 3:35 - loss: 1.4767 - accuracy: 0.08 - ETA: 3:34 - loss: 1.4755 - accuracy: 0.08 - ETA: 3:33 - loss: 1.4754 - accuracy: 0.08 - ETA: 3:32 - loss: 1.4771 - accuracy: 0.08 - ETA: 3:31 - loss: 1.4769 - accuracy: 0.08 - ETA: 3:30 - loss: 1.4765 - accuracy: 0.08 - ETA: 3:29 - loss: 1.4774 - accuracy: 0.08 - ETA: 3:29 - loss: 1.4749 - accuracy: 0.08 - ETA: 3:28 - loss: 1.4773 - accuracy: 0.08 - ETA: 3:27 - loss: 1.4813 - accuracy: 0.08 - ETA: 3:26 - loss: 1.4797 - accuracy: 0.08 - ETA: 3:25 - loss: 1.4788 - accuracy: 0.08 - ETA: 3:24 - loss: 1.4793 - accuracy: 0.08 - ETA: 3:23 - loss: 1.4781 - accuracy: 0.08 - ETA: 3:22 - loss: 1.4761 - accuracy: 0.08 - ETA: 3:21 - loss: 1.4775 - accuracy: 0.08 - ETA: 3:20 - loss: 1.4761 - accuracy: 0.08 - ETA: 3:19 - loss: 1.4767 - accuracy: 0.08 - ETA: 3:18 - loss: 1.4757 - accuracy: 0.08 - ETA: 3:18 - loss: 1.4753 - accuracy: 0.08 - ETA: 3:17 - loss: 1.4774 - accuracy: 0.08 - ETA: 3:16 - loss: 1.4781 - accuracy: 0.08 - ETA: 3:15 - loss: 1.4776 - accuracy: 0.08 - ETA: 3:14 - loss: 1.4766 - accuracy: 0.08 - ETA: 3:13 - loss: 1.4764 - accuracy: 0.08 - ETA: 3:12 - loss: 1.4752 - accuracy: 0.08 - ETA: 3:11 - loss: 1.4749 - accuracy: 0.08 - ETA: 3:10 - loss: 1.4724 - accuracy: 0.08 - ETA: 3:10 - loss: 1.4739 - accuracy: 0.08 - ETA: 3:09 - loss: 1.4757 - accuracy: 0.08 - ETA: 3:08 - loss: 1.4757 - accuracy: 0.08 - ETA: 3:07 - loss: 1.4758 - accuracy: 0.08 - ETA: 3:06 - loss: 1.4749 - accuracy: 0.08 - ETA: 3:05 - loss: 1.4743 - accuracy: 0.08 - ETA: 3:04 - loss: 1.4751 - accuracy: 0.08 - ETA: 3:03 - loss: 1.4745 - accuracy: 0.08 - ETA: 3:02 - loss: 1.4737 - accuracy: 0.08 - ETA: 3:01 - loss: 1.4745 - accuracy: 0.08 - ETA: 3:01 - loss: 1.4749 - accuracy: 0.08 - ETA: 3:00 - loss: 1.4742 - accuracy: 0.08 - ETA: 2:59 - loss: 1.4740 - accuracy: 0.08 - ETA: 2:58 - loss: 1.4748 - accuracy: 0.08 - ETA: 2:57 - loss: 1.4759 - accuracy: 0.08 - ETA: 2:56 - loss: 1.4766 - accuracy: 0.08 - ETA: 2:55 - loss: 1.4765 - accuracy: 0.08 - ETA: 2:54 - loss: 1.4762 - accuracy: 0.08 - ETA: 2:54 - loss: 1.4759 - accuracy: 0.08 - ETA: 2:53 - loss: 1.4752 - accuracy: 0.08 - ETA: 2:52 - loss: 1.4753 - accuracy: 0.08 - ETA: 2:51 - loss: 1.4756 - accuracy: 0.08 - ETA: 2:50 - loss: 1.4740 - accuracy: 0.08 - ETA: 2:49 - loss: 1.4734 - accuracy: 0.08 - ETA: 2:48 - loss: 1.4745 - accuracy: 0.08 - ETA: 2:47 - loss: 1.4737 - accuracy: 0.08 - ETA: 2:46 - loss: 1.4735 - accuracy: 0.08 - ETA: 2:45 - loss: 1.4743 - accuracy: 0.08 - ETA: 2:45 - loss: 1.4739 - accuracy: 0.08 - ETA: 2:44 - loss: 1.4759 - accuracy: 0.08 - ETA: 2:43 - loss: 1.4749 - accuracy: 0.08 - ETA: 2:42 - loss: 1.4758 - accuracy: 0.08 - ETA: 2:41 - loss: 1.4745 - accuracy: 0.08 - ETA: 2:40 - loss: 1.4742 - accuracy: 0.08 - ETA: 2:39 - loss: 1.4734 - accuracy: 0.08 - ETA: 2:38 - loss: 1.4726 - accuracy: 0.08 - ETA: 2:37 - loss: 1.4714 - accuracy: 0.08 - ETA: 2:37 - loss: 1.4702 - accuracy: 0.08 - ETA: 2:36 - loss: 1.4708 - accuracy: 0.08 - ETA: 2:35 - loss: 1.4721 - accuracy: 0.08 - ETA: 2:34 - loss: 1.4717 - accuracy: 0.08 - ETA: 2:33 - loss: 1.4724 - accuracy: 0.08 - ETA: 2:32 - loss: 1.4725 - accuracy: 0.08 - ETA: 2:31 - loss: 1.4720 - accuracy: 0.08 - ETA: 2:30 - loss: 1.4727 - accuracy: 0.08 - ETA: 2:30 - loss: 1.4722 - accuracy: 0.08 - ETA: 2:29 - loss: 1.4718 - accuracy: 0.08 - ETA: 2:28 - loss: 1.4731 - accuracy: 0.08 - ETA: 2:27 - loss: 1.4722 - accuracy: 0.08 - ETA: 2:26 - loss: 1.4722 - accuracy: 0.08 - ETA: 2:25 - loss: 1.4725 - accuracy: 0.08 - ETA: 2:24 - loss: 1.4732 - accuracy: 0.08 - ETA: 2:23 - loss: 1.4730 - accuracy: 0.08 - ETA: 2:23 - loss: 1.4726 - accuracy: 0.08 - ETA: 2:22 - loss: 1.4721 - accuracy: 0.0823345/345 [==============================] - ETA: 2:21 - loss: 1.4733 - accuracy: 0.08 - ETA: 2:20 - loss: 1.4723 - accuracy: 0.08 - ETA: 2:19 - loss: 1.4732 - accuracy: 0.08 - ETA: 2:18 - loss: 1.4734 - accuracy: 0.08 - ETA: 2:17 - loss: 1.4746 - accuracy: 0.08 - ETA: 2:16 - loss: 1.4742 - accuracy: 0.08 - ETA: 2:15 - loss: 1.4740 - accuracy: 0.08 - ETA: 2:14 - loss: 1.4727 - accuracy: 0.08 - ETA: 2:14 - loss: 1.4726 - accuracy: 0.08 - ETA: 2:13 - loss: 1.4737 - accuracy: 0.08 - ETA: 2:12 - loss: 1.4725 - accuracy: 0.08 - ETA: 2:11 - loss: 1.4727 - accuracy: 0.08 - ETA: 2:10 - loss: 1.4719 - accuracy: 0.08 - ETA: 2:09 - loss: 1.4720 - accuracy: 0.08 - ETA: 2:08 - loss: 1.4716 - accuracy: 0.08 - ETA: 2:07 - loss: 1.4704 - accuracy: 0.08 - ETA: 2:06 - loss: 1.4700 - accuracy: 0.08 - ETA: 2:06 - loss: 1.4698 - accuracy: 0.08 - ETA: 2:05 - loss: 1.4697 - accuracy: 0.08 - ETA: 2:04 - loss: 1.4684 - accuracy: 0.08 - ETA: 2:03 - loss: 1.4689 - accuracy: 0.08 - ETA: 2:02 - loss: 1.4692 - accuracy: 0.08 - ETA: 2:01 - loss: 1.4687 - accuracy: 0.08 - ETA: 2:00 - loss: 1.4696 - accuracy: 0.08 - ETA: 1:59 - loss: 1.4692 - accuracy: 0.08 - ETA: 1:58 - loss: 1.4697 - accuracy: 0.08 - ETA: 1:57 - loss: 1.4696 - accuracy: 0.08 - ETA: 1:57 - loss: 1.4691 - accuracy: 0.08 - ETA: 1:56 - loss: 1.4688 - accuracy: 0.08 - ETA: 1:55 - loss: 1.4689 - accuracy: 0.08 - ETA: 1:54 - loss: 1.4698 - accuracy: 0.08 - ETA: 1:53 - loss: 1.4685 - accuracy: 0.08 - ETA: 1:52 - loss: 1.4680 - accuracy: 0.08 - ETA: 1:51 - loss: 1.4681 - accuracy: 0.08 - ETA: 1:50 - loss: 1.4680 - accuracy: 0.08 - ETA: 1:49 - loss: 1.4676 - accuracy: 0.08 - ETA: 1:49 - loss: 1.4690 - accuracy: 0.08 - ETA: 1:48 - loss: 1.4692 - accuracy: 0.08 - ETA: 1:47 - loss: 1.4692 - accuracy: 0.08 - ETA: 1:46 - loss: 1.4689 - accuracy: 0.08 - ETA: 1:45 - loss: 1.4698 - accuracy: 0.08 - ETA: 1:44 - loss: 1.4707 - accuracy: 0.08 - ETA: 1:43 - loss: 1.4704 - accuracy: 0.08 - ETA: 1:42 - loss: 1.4693 - accuracy: 0.08 - ETA: 1:41 - loss: 1.4690 - accuracy: 0.08 - ETA: 1:41 - loss: 1.4682 - accuracy: 0.08 - ETA: 1:40 - loss: 1.4675 - accuracy: 0.08 - ETA: 1:39 - loss: 1.4684 - accuracy: 0.08 - ETA: 1:38 - loss: 1.4681 - accuracy: 0.08 - ETA: 1:37 - loss: 1.4671 - accuracy: 0.08 - ETA: 1:36 - loss: 1.4680 - accuracy: 0.08 - ETA: 1:35 - loss: 1.4694 - accuracy: 0.08 - ETA: 1:34 - loss: 1.4695 - accuracy: 0.08 - ETA: 1:33 - loss: 1.4681 - accuracy: 0.08 - ETA: 1:33 - loss: 1.4679 - accuracy: 0.08 - ETA: 1:32 - loss: 1.4691 - accuracy: 0.08 - ETA: 1:31 - loss: 1.4701 - accuracy: 0.08 - ETA: 1:30 - loss: 1.4700 - accuracy: 0.08 - ETA: 1:29 - loss: 1.4694 - accuracy: 0.08 - ETA: 1:28 - loss: 1.4689 - accuracy: 0.08 - ETA: 1:27 - loss: 1.4680 - accuracy: 0.08 - ETA: 1:26 - loss: 1.4698 - accuracy: 0.08 - ETA: 1:25 - loss: 1.4702 - accuracy: 0.08 - ETA: 1:24 - loss: 1.4695 - accuracy: 0.08 - ETA: 1:24 - loss: 1.4696 - accuracy: 0.08 - ETA: 1:23 - loss: 1.4690 - accuracy: 0.08 - ETA: 1:22 - loss: 1.4693 - accuracy: 0.08 - ETA: 1:21 - loss: 1.4686 - accuracy: 0.08 - ETA: 1:20 - loss: 1.4682 - accuracy: 0.08 - ETA: 1:19 - loss: 1.4679 - accuracy: 0.08 - ETA: 1:18 - loss: 1.4671 - accuracy: 0.08 - ETA: 1:17 - loss: 1.4669 - accuracy: 0.08 - ETA: 1:16 - loss: 1.4674 - accuracy: 0.08 - ETA: 1:16 - loss: 1.4672 - accuracy: 0.08 - ETA: 1:15 - loss: 1.4664 - accuracy: 0.08 - ETA: 1:14 - loss: 1.4674 - accuracy: 0.08 - ETA: 1:13 - loss: 1.4668 - accuracy: 0.08 - ETA: 1:12 - loss: 1.4667 - accuracy: 0.08 - ETA: 1:11 - loss: 1.4672 - accuracy: 0.08 - ETA: 1:10 - loss: 1.4669 - accuracy: 0.08 - ETA: 1:09 - loss: 1.4661 - accuracy: 0.08 - ETA: 1:08 - loss: 1.4662 - accuracy: 0.08 - ETA: 1:08 - loss: 1.4654 - accuracy: 0.08 - ETA: 1:07 - loss: 1.4653 - accuracy: 0.08 - ETA: 1:06 - loss: 1.4655 - accuracy: 0.08 - ETA: 1:05 - loss: 1.4649 - accuracy: 0.08 - ETA: 1:04 - loss: 1.4656 - accuracy: 0.08 - ETA: 1:03 - loss: 1.4657 - accuracy: 0.08 - ETA: 1:02 - loss: 1.4661 - accuracy: 0.08 - ETA: 1:01 - loss: 1.4656 - accuracy: 0.08 - ETA: 1:00 - loss: 1.4650 - accuracy: 0.08 - ETA: 59s - loss: 1.4646 - accuracy: 0.0825 - ETA: 59s - loss: 1.4651 - accuracy: 0.082 - ETA: 58s - loss: 1.4652 - accuracy: 0.082 - ETA: 57s - loss: 1.4649 - accuracy: 0.082 - ETA: 56s - loss: 1.4647 - accuracy: 0.082 - ETA: 55s - loss: 1.4640 - accuracy: 0.082 - ETA: 54s - loss: 1.4634 - accuracy: 0.082 - ETA: 53s - loss: 1.4636 - accuracy: 0.082 - ETA: 52s - loss: 1.4632 - accuracy: 0.082 - ETA: 51s - loss: 1.4635 - accuracy: 0.082 - ETA: 51s - loss: 1.4636 - accuracy: 0.082 - ETA: 50s - loss: 1.4632 - accuracy: 0.082 - ETA: 49s - loss: 1.4633 - accuracy: 0.082 - ETA: 48s - loss: 1.4637 - accuracy: 0.082 - ETA: 47s - loss: 1.4642 - accuracy: 0.082 - ETA: 46s - loss: 1.4637 - accuracy: 0.082 - ETA: 45s - loss: 1.4634 - accuracy: 0.082 - ETA: 44s - loss: 1.4623 - accuracy: 0.082 - ETA: 43s - loss: 1.4621 - accuracy: 0.082 - ETA: 42s - loss: 1.4625 - accuracy: 0.082 - ETA: 42s - loss: 1.4620 - accuracy: 0.082 - ETA: 41s - loss: 1.4618 - accuracy: 0.082 - ETA: 40s - loss: 1.4625 - accuracy: 0.082 - ETA: 39s - loss: 1.4629 - accuracy: 0.082 - ETA: 38s - loss: 1.4617 - accuracy: 0.082 - ETA: 37s - loss: 1.4611 - accuracy: 0.082 - ETA: 36s - loss: 1.4621 - accuracy: 0.082 - ETA: 35s - loss: 1.4617 - accuracy: 0.082 - ETA: 34s - loss: 1.4617 - accuracy: 0.082 - ETA: 33s - loss: 1.4621 - accuracy: 0.082 - ETA: 33s - loss: 1.4618 - accuracy: 0.082 - ETA: 32s - loss: 1.4622 - accuracy: 0.082 - ETA: 31s - loss: 1.4627 - accuracy: 0.082 - ETA: 30s - loss: 1.4621 - accuracy: 0.082 - ETA: 29s - loss: 1.4618 - accuracy: 0.082 - ETA: 28s - loss: 1.4615 - accuracy: 0.082 - ETA: 27s - loss: 1.4609 - accuracy: 0.082 - ETA: 26s - loss: 1.4606 - accuracy: 0.082 - ETA: 25s - loss: 1.4598 - accuracy: 0.082 - ETA: 25s - loss: 1.4598 - accuracy: 0.082 - ETA: 24s - loss: 1.4591 - accuracy: 0.082 - ETA: 23s - loss: 1.4593 - accuracy: 0.082 - ETA: 22s - loss: 1.4594 - accuracy: 0.082 - ETA: 21s - loss: 1.4583 - accuracy: 0.082 - ETA: 20s - loss: 1.4585 - accuracy: 0.082 - ETA: 19s - loss: 1.4591 - accuracy: 0.082 - ETA: 18s - loss: 1.4604 - accuracy: 0.082 - ETA: 17s - loss: 1.4610 - accuracy: 0.082 - ETA: 17s - loss: 1.4607 - accuracy: 0.082 - ETA: 16s - loss: 1.4605 - accuracy: 0.082 - ETA: 15s - loss: 1.4610 - accuracy: 0.082 - ETA: 14s - loss: 1.4605 - accuracy: 0.082 - ETA: 13s - loss: 1.4598 - accuracy: 0.082 - ETA: 12s - loss: 1.4596 - accuracy: 0.082 - ETA: 11s - loss: 1.4599 - accuracy: 0.082 - ETA: 10s - loss: 1.4595 - accuracy: 0.082 - ETA: 9s - loss: 1.4597 - accuracy: 0.082 - ETA: 8s - loss: 1.4595 - accuracy: 0.08 - ETA: 8s - loss: 1.4587 - accuracy: 0.08 - ETA: 7s - loss: 1.4598 - accuracy: 0.08 - ETA: 6s - loss: 1.4600 - accuracy: 0.08 - ETA: 5s - loss: 1.4589 - accuracy: 0.08 - ETA: 4s - loss: 1.4579 - accuracy: 0.08 - ETA: 3s - loss: 1.4580 - accuracy: 0.08 - ETA: 2s - loss: 1.4574 - accuracy: 0.08 - ETA: 1s - loss: 1.4573 - accuracy: 0.08 - ETA: 0s - loss: 1.4565 - accuracy: 0.08 - 309s 895ms/step - loss: 1.4565 - accuracy: 0.0825\n",
      "Epoch 5/20\n"
     ]
    },
    {
     "name": "stdout",
     "output_type": "stream",
     "text": [
      "186/345 [===============>..............] - ETA: 5:05 - loss: 1.3726 - accuracy: 0.08 - ETA: 5:02 - loss: 1.5365 - accuracy: 0.09 - ETA: 5:04 - loss: 1.4576 - accuracy: 0.08 - ETA: 5:07 - loss: 1.4209 - accuracy: 0.08 - ETA: 5:10 - loss: 1.4184 - accuracy: 0.08 - ETA: 5:08 - loss: 1.4066 - accuracy: 0.08 - ETA: 5:04 - loss: 1.3807 - accuracy: 0.08 - ETA: 5:01 - loss: 1.3906 - accuracy: 0.08 - ETA: 5:03 - loss: 1.3788 - accuracy: 0.08 - ETA: 5:03 - loss: 1.3758 - accuracy: 0.08 - ETA: 5:00 - loss: 1.3407 - accuracy: 0.08 - ETA: 4:58 - loss: 1.3422 - accuracy: 0.08 - ETA: 4:57 - loss: 1.3440 - accuracy: 0.08 - ETA: 4:57 - loss: 1.3517 - accuracy: 0.08 - ETA: 4:56 - loss: 1.3568 - accuracy: 0.08 - ETA: 4:54 - loss: 1.3536 - accuracy: 0.08 - ETA: 4:53 - loss: 1.3550 - accuracy: 0.08 - ETA: 4:52 - loss: 1.3591 - accuracy: 0.08 - ETA: 4:52 - loss: 1.3665 - accuracy: 0.08 - ETA: 4:50 - loss: 1.3688 - accuracy: 0.08 - ETA: 4:50 - loss: 1.3650 - accuracy: 0.08 - ETA: 4:49 - loss: 1.3707 - accuracy: 0.08 - ETA: 4:48 - loss: 1.3742 - accuracy: 0.08 - ETA: 4:47 - loss: 1.3798 - accuracy: 0.08 - ETA: 4:46 - loss: 1.3771 - accuracy: 0.08 - ETA: 4:44 - loss: 1.3751 - accuracy: 0.08 - ETA: 4:43 - loss: 1.3743 - accuracy: 0.08 - ETA: 4:43 - loss: 1.3792 - accuracy: 0.08 - ETA: 4:42 - loss: 1.3743 - accuracy: 0.08 - ETA: 4:41 - loss: 1.3809 - accuracy: 0.08 - ETA: 4:40 - loss: 1.3734 - accuracy: 0.08 - ETA: 4:39 - loss: 1.3733 - accuracy: 0.08 - ETA: 4:38 - loss: 1.3803 - accuracy: 0.08 - ETA: 4:38 - loss: 1.3751 - accuracy: 0.08 - ETA: 4:37 - loss: 1.3724 - accuracy: 0.08 - ETA: 4:36 - loss: 1.3791 - accuracy: 0.08 - ETA: 4:34 - loss: 1.3823 - accuracy: 0.08 - ETA: 4:34 - loss: 1.3868 - accuracy: 0.08 - ETA: 4:33 - loss: 1.3907 - accuracy: 0.08 - ETA: 4:32 - loss: 1.3876 - accuracy: 0.08 - ETA: 4:31 - loss: 1.3853 - accuracy: 0.08 - ETA: 4:30 - loss: 1.3829 - accuracy: 0.08 - ETA: 4:30 - loss: 1.3830 - accuracy: 0.08 - ETA: 4:29 - loss: 1.3848 - accuracy: 0.08 - ETA: 4:28 - loss: 1.3872 - accuracy: 0.08 - ETA: 4:26 - loss: 1.3842 - accuracy: 0.08 - ETA: 4:26 - loss: 1.3818 - accuracy: 0.08 - ETA: 4:25 - loss: 1.3853 - accuracy: 0.08 - ETA: 4:24 - loss: 1.3843 - accuracy: 0.08 - ETA: 4:23 - loss: 1.3872 - accuracy: 0.08 - ETA: 4:22 - loss: 1.3921 - accuracy: 0.08 - ETA: 4:22 - loss: 1.3909 - accuracy: 0.08 - ETA: 4:21 - loss: 1.3886 - accuracy: 0.08 - ETA: 4:20 - loss: 1.3909 - accuracy: 0.08 - ETA: 4:19 - loss: 1.3886 - accuracy: 0.08 - ETA: 4:18 - loss: 1.3876 - accuracy: 0.08 - ETA: 4:17 - loss: 1.3892 - accuracy: 0.08 - ETA: 4:16 - loss: 1.3924 - accuracy: 0.08 - ETA: 4:15 - loss: 1.3936 - accuracy: 0.08 - ETA: 4:14 - loss: 1.3932 - accuracy: 0.08 - ETA: 4:13 - loss: 1.3930 - accuracy: 0.08 - ETA: 4:12 - loss: 1.3941 - accuracy: 0.08 - ETA: 4:12 - loss: 1.3948 - accuracy: 0.08 - ETA: 4:11 - loss: 1.3975 - accuracy: 0.08 - ETA: 4:10 - loss: 1.3972 - accuracy: 0.08 - ETA: 4:09 - loss: 1.4002 - accuracy: 0.08 - ETA: 4:08 - loss: 1.4016 - accuracy: 0.08 - ETA: 4:07 - loss: 1.3982 - accuracy: 0.08 - ETA: 4:07 - loss: 1.3990 - accuracy: 0.08 - ETA: 4:06 - loss: 1.3980 - accuracy: 0.08 - ETA: 4:05 - loss: 1.3983 - accuracy: 0.08 - ETA: 4:04 - loss: 1.3953 - accuracy: 0.08 - ETA: 4:03 - loss: 1.3932 - accuracy: 0.08 - ETA: 4:02 - loss: 1.3926 - accuracy: 0.08 - ETA: 4:01 - loss: 1.3950 - accuracy: 0.08 - ETA: 4:00 - loss: 1.3946 - accuracy: 0.08 - ETA: 3:59 - loss: 1.3930 - accuracy: 0.08 - ETA: 3:58 - loss: 1.3926 - accuracy: 0.08 - ETA: 3:57 - loss: 1.3912 - accuracy: 0.08 - ETA: 3:56 - loss: 1.3895 - accuracy: 0.08 - ETA: 3:55 - loss: 1.3941 - accuracy: 0.08 - ETA: 3:54 - loss: 1.3924 - accuracy: 0.08 - ETA: 3:54 - loss: 1.3918 - accuracy: 0.08 - ETA: 3:53 - loss: 1.3891 - accuracy: 0.08 - ETA: 3:52 - loss: 1.3916 - accuracy: 0.08 - ETA: 3:51 - loss: 1.3928 - accuracy: 0.08 - ETA: 3:50 - loss: 1.3955 - accuracy: 0.08 - ETA: 3:49 - loss: 1.3953 - accuracy: 0.08 - ETA: 3:48 - loss: 1.3983 - accuracy: 0.08 - ETA: 3:47 - loss: 1.3980 - accuracy: 0.08 - ETA: 3:47 - loss: 1.3990 - accuracy: 0.08 - ETA: 3:46 - loss: 1.3981 - accuracy: 0.08 - ETA: 3:45 - loss: 1.3965 - accuracy: 0.08 - ETA: 3:44 - loss: 1.3979 - accuracy: 0.08 - ETA: 3:43 - loss: 1.3995 - accuracy: 0.08 - ETA: 3:42 - loss: 1.3995 - accuracy: 0.08 - ETA: 3:41 - loss: 1.3994 - accuracy: 0.08 - ETA: 3:40 - loss: 1.4006 - accuracy: 0.08 - ETA: 3:39 - loss: 1.3999 - accuracy: 0.08 - ETA: 3:39 - loss: 1.3995 - accuracy: 0.08 - ETA: 3:38 - loss: 1.4011 - accuracy: 0.08 - ETA: 3:37 - loss: 1.3994 - accuracy: 0.08 - ETA: 3:36 - loss: 1.3984 - accuracy: 0.08 - ETA: 3:35 - loss: 1.3971 - accuracy: 0.08 - ETA: 3:34 - loss: 1.3961 - accuracy: 0.08 - ETA: 3:33 - loss: 1.3939 - accuracy: 0.08 - ETA: 3:32 - loss: 1.3940 - accuracy: 0.08 - ETA: 3:32 - loss: 1.3955 - accuracy: 0.08 - ETA: 3:31 - loss: 1.3944 - accuracy: 0.08 - ETA: 3:30 - loss: 1.3935 - accuracy: 0.08 - ETA: 3:29 - loss: 1.3916 - accuracy: 0.08 - ETA: 3:28 - loss: 1.3904 - accuracy: 0.08 - ETA: 3:27 - loss: 1.3911 - accuracy: 0.08 - ETA: 3:26 - loss: 1.3929 - accuracy: 0.08 - ETA: 3:25 - loss: 1.3915 - accuracy: 0.08 - ETA: 3:25 - loss: 1.3912 - accuracy: 0.08 - ETA: 3:24 - loss: 1.3918 - accuracy: 0.08 - ETA: 3:23 - loss: 1.3922 - accuracy: 0.08 - ETA: 3:22 - loss: 1.3923 - accuracy: 0.08 - ETA: 3:21 - loss: 1.3930 - accuracy: 0.08 - ETA: 3:20 - loss: 1.3914 - accuracy: 0.08 - ETA: 3:19 - loss: 1.3909 - accuracy: 0.08 - ETA: 3:18 - loss: 1.3919 - accuracy: 0.08 - ETA: 3:17 - loss: 1.3901 - accuracy: 0.08 - ETA: 3:17 - loss: 1.3909 - accuracy: 0.08 - ETA: 3:16 - loss: 1.3902 - accuracy: 0.08 - ETA: 3:15 - loss: 1.3902 - accuracy: 0.08 - ETA: 3:14 - loss: 1.3895 - accuracy: 0.08 - ETA: 3:13 - loss: 1.3897 - accuracy: 0.08 - ETA: 3:12 - loss: 1.3901 - accuracy: 0.08 - ETA: 3:11 - loss: 1.3897 - accuracy: 0.08 - ETA: 3:10 - loss: 1.3901 - accuracy: 0.08 - ETA: 3:09 - loss: 1.3903 - accuracy: 0.08 - ETA: 3:08 - loss: 1.3898 - accuracy: 0.08 - ETA: 3:08 - loss: 1.3899 - accuracy: 0.08 - ETA: 3:07 - loss: 1.3893 - accuracy: 0.08 - ETA: 3:06 - loss: 1.3904 - accuracy: 0.08 - ETA: 3:05 - loss: 1.3906 - accuracy: 0.08 - ETA: 3:04 - loss: 1.3908 - accuracy: 0.08 - ETA: 3:03 - loss: 1.3903 - accuracy: 0.08 - ETA: 3:02 - loss: 1.3913 - accuracy: 0.08 - ETA: 3:01 - loss: 1.3902 - accuracy: 0.08 - ETA: 3:01 - loss: 1.3898 - accuracy: 0.08 - ETA: 3:00 - loss: 1.3886 - accuracy: 0.08 - ETA: 2:59 - loss: 1.3894 - accuracy: 0.08 - ETA: 2:58 - loss: 1.3891 - accuracy: 0.08 - ETA: 2:57 - loss: 1.3886 - accuracy: 0.08 - ETA: 2:56 - loss: 1.3884 - accuracy: 0.08 - ETA: 2:55 - loss: 1.3876 - accuracy: 0.08 - ETA: 2:54 - loss: 1.3888 - accuracy: 0.08 - ETA: 2:53 - loss: 1.3884 - accuracy: 0.08 - ETA: 2:52 - loss: 1.3883 - accuracy: 0.08 - ETA: 2:52 - loss: 1.3875 - accuracy: 0.08 - ETA: 2:51 - loss: 1.3876 - accuracy: 0.08 - ETA: 2:50 - loss: 1.3866 - accuracy: 0.08 - ETA: 2:49 - loss: 1.3866 - accuracy: 0.08 - ETA: 2:48 - loss: 1.3860 - accuracy: 0.08 - ETA: 2:47 - loss: 1.3872 - accuracy: 0.08 - ETA: 2:46 - loss: 1.3868 - accuracy: 0.08 - ETA: 2:45 - loss: 1.3871 - accuracy: 0.08 - ETA: 2:44 - loss: 1.3865 - accuracy: 0.08 - ETA: 2:44 - loss: 1.3869 - accuracy: 0.08 - ETA: 2:43 - loss: 1.3872 - accuracy: 0.08 - ETA: 2:42 - loss: 1.3878 - accuracy: 0.08 - ETA: 2:41 - loss: 1.3885 - accuracy: 0.08 - ETA: 2:40 - loss: 1.3892 - accuracy: 0.08 - ETA: 2:39 - loss: 1.3894 - accuracy: 0.08 - ETA: 2:38 - loss: 1.3891 - accuracy: 0.08 - ETA: 2:37 - loss: 1.3887 - accuracy: 0.08 - ETA: 2:36 - loss: 1.3886 - accuracy: 0.08 - ETA: 2:35 - loss: 1.3877 - accuracy: 0.08 - ETA: 2:35 - loss: 1.3886 - accuracy: 0.08 - ETA: 2:34 - loss: 1.3866 - accuracy: 0.08 - ETA: 2:33 - loss: 1.3862 - accuracy: 0.08 - ETA: 2:32 - loss: 1.3858 - accuracy: 0.08 - ETA: 2:31 - loss: 1.3848 - accuracy: 0.08 - ETA: 2:30 - loss: 1.3852 - accuracy: 0.08 - ETA: 2:29 - loss: 1.3840 - accuracy: 0.08 - ETA: 2:28 - loss: 1.3836 - accuracy: 0.08 - ETA: 2:27 - loss: 1.3835 - accuracy: 0.08 - ETA: 2:26 - loss: 1.3848 - accuracy: 0.08 - ETA: 2:26 - loss: 1.3862 - accuracy: 0.08 - ETA: 2:25 - loss: 1.3863 - accuracy: 0.08 - ETA: 2:24 - loss: 1.3864 - accuracy: 0.08 - ETA: 2:23 - loss: 1.3860 - accuracy: 0.08 - ETA: 2:22 - loss: 1.3866 - accuracy: 0.0867"
     ]
    },
    {
     "name": "stdout",
     "output_type": "stream",
     "text": [
      "345/345 [==============================] - ETA: 2:21 - loss: 1.3861 - accuracy: 0.08 - ETA: 2:20 - loss: 1.3855 - accuracy: 0.08 - ETA: 2:19 - loss: 1.3850 - accuracy: 0.08 - ETA: 2:18 - loss: 1.3859 - accuracy: 0.08 - ETA: 2:17 - loss: 1.3863 - accuracy: 0.08 - ETA: 2:17 - loss: 1.3848 - accuracy: 0.08 - ETA: 2:16 - loss: 1.3856 - accuracy: 0.08 - ETA: 2:15 - loss: 1.3854 - accuracy: 0.08 - ETA: 2:14 - loss: 1.3844 - accuracy: 0.08 - ETA: 2:13 - loss: 1.3850 - accuracy: 0.08 - ETA: 2:12 - loss: 1.3845 - accuracy: 0.08 - ETA: 2:11 - loss: 1.3846 - accuracy: 0.08 - ETA: 2:10 - loss: 1.3834 - accuracy: 0.08 - ETA: 2:09 - loss: 1.3842 - accuracy: 0.08 - ETA: 2:09 - loss: 1.3831 - accuracy: 0.08 - ETA: 2:08 - loss: 1.3827 - accuracy: 0.08 - ETA: 2:07 - loss: 1.3834 - accuracy: 0.08 - ETA: 2:06 - loss: 1.3835 - accuracy: 0.08 - ETA: 2:05 - loss: 1.3837 - accuracy: 0.08 - ETA: 2:04 - loss: 1.3849 - accuracy: 0.08 - ETA: 2:03 - loss: 1.3845 - accuracy: 0.08 - ETA: 2:02 - loss: 1.3849 - accuracy: 0.08 - ETA: 2:01 - loss: 1.3859 - accuracy: 0.08 - ETA: 2:00 - loss: 1.3863 - accuracy: 0.08 - ETA: 2:00 - loss: 1.3866 - accuracy: 0.08 - ETA: 1:59 - loss: 1.3869 - accuracy: 0.08 - ETA: 1:58 - loss: 1.3862 - accuracy: 0.08 - ETA: 1:57 - loss: 1.3864 - accuracy: 0.08 - ETA: 1:56 - loss: 1.3868 - accuracy: 0.08 - ETA: 1:55 - loss: 1.3866 - accuracy: 0.08 - ETA: 1:54 - loss: 1.3864 - accuracy: 0.08 - ETA: 1:53 - loss: 1.3863 - accuracy: 0.08 - ETA: 1:52 - loss: 1.3864 - accuracy: 0.08 - ETA: 1:51 - loss: 1.3861 - accuracy: 0.08 - ETA: 1:51 - loss: 1.3863 - accuracy: 0.08 - ETA: 1:50 - loss: 1.3859 - accuracy: 0.08 - ETA: 1:49 - loss: 1.3858 - accuracy: 0.08 - ETA: 1:48 - loss: 1.3854 - accuracy: 0.08 - ETA: 1:47 - loss: 1.3857 - accuracy: 0.08 - ETA: 1:46 - loss: 1.3852 - accuracy: 0.08 - ETA: 1:45 - loss: 1.3847 - accuracy: 0.08 - ETA: 1:44 - loss: 1.3858 - accuracy: 0.08 - ETA: 1:43 - loss: 1.3861 - accuracy: 0.08 - ETA: 1:43 - loss: 1.3872 - accuracy: 0.08 - ETA: 1:42 - loss: 1.3861 - accuracy: 0.08 - ETA: 1:41 - loss: 1.3865 - accuracy: 0.08 - ETA: 1:40 - loss: 1.3871 - accuracy: 0.08 - ETA: 1:39 - loss: 1.3866 - accuracy: 0.08 - ETA: 1:38 - loss: 1.3861 - accuracy: 0.08 - ETA: 1:37 - loss: 1.3868 - accuracy: 0.08 - ETA: 1:36 - loss: 1.3871 - accuracy: 0.08 - ETA: 1:35 - loss: 1.3862 - accuracy: 0.08 - ETA: 1:34 - loss: 1.3863 - accuracy: 0.08 - ETA: 1:34 - loss: 1.3859 - accuracy: 0.08 - ETA: 1:33 - loss: 1.3857 - accuracy: 0.08 - ETA: 1:32 - loss: 1.3851 - accuracy: 0.08 - ETA: 1:31 - loss: 1.3845 - accuracy: 0.08 - ETA: 1:30 - loss: 1.3837 - accuracy: 0.08 - ETA: 1:29 - loss: 1.3828 - accuracy: 0.08 - ETA: 1:28 - loss: 1.3836 - accuracy: 0.08 - ETA: 1:27 - loss: 1.3840 - accuracy: 0.08 - ETA: 1:26 - loss: 1.3834 - accuracy: 0.08 - ETA: 1:26 - loss: 1.3845 - accuracy: 0.08 - ETA: 1:25 - loss: 1.3848 - accuracy: 0.08 - ETA: 1:24 - loss: 1.3855 - accuracy: 0.08 - ETA: 1:23 - loss: 1.3852 - accuracy: 0.08 - ETA: 1:22 - loss: 1.3858 - accuracy: 0.08 - ETA: 1:21 - loss: 1.3856 - accuracy: 0.08 - ETA: 1:20 - loss: 1.3865 - accuracy: 0.08 - ETA: 1:19 - loss: 1.3865 - accuracy: 0.08 - ETA: 1:18 - loss: 1.3869 - accuracy: 0.08 - ETA: 1:18 - loss: 1.3863 - accuracy: 0.08 - ETA: 1:17 - loss: 1.3869 - accuracy: 0.08 - ETA: 1:16 - loss: 1.3860 - accuracy: 0.08 - ETA: 1:15 - loss: 1.3865 - accuracy: 0.08 - ETA: 1:14 - loss: 1.3864 - accuracy: 0.08 - ETA: 1:13 - loss: 1.3862 - accuracy: 0.08 - ETA: 1:12 - loss: 1.3855 - accuracy: 0.08 - ETA: 1:11 - loss: 1.3855 - accuracy: 0.08 - ETA: 1:10 - loss: 1.3850 - accuracy: 0.08 - ETA: 1:09 - loss: 1.3844 - accuracy: 0.08 - ETA: 1:09 - loss: 1.3853 - accuracy: 0.08 - ETA: 1:08 - loss: 1.3846 - accuracy: 0.08 - ETA: 1:07 - loss: 1.3847 - accuracy: 0.08 - ETA: 1:06 - loss: 1.3844 - accuracy: 0.08 - ETA: 1:05 - loss: 1.3852 - accuracy: 0.08 - ETA: 1:04 - loss: 1.3858 - accuracy: 0.08 - ETA: 1:03 - loss: 1.3855 - accuracy: 0.08 - ETA: 1:02 - loss: 1.3856 - accuracy: 0.08 - ETA: 1:01 - loss: 1.3851 - accuracy: 0.08 - ETA: 1:01 - loss: 1.3855 - accuracy: 0.08 - ETA: 1:00 - loss: 1.3858 - accuracy: 0.08 - ETA: 59s - loss: 1.3858 - accuracy: 0.0864 - ETA: 58s - loss: 1.3856 - accuracy: 0.086 - ETA: 57s - loss: 1.3854 - accuracy: 0.086 - ETA: 56s - loss: 1.3853 - accuracy: 0.086 - ETA: 55s - loss: 1.3853 - accuracy: 0.086 - ETA: 54s - loss: 1.3858 - accuracy: 0.086 - ETA: 53s - loss: 1.3862 - accuracy: 0.086 - ETA: 52s - loss: 1.3864 - accuracy: 0.086 - ETA: 52s - loss: 1.3861 - accuracy: 0.086 - ETA: 51s - loss: 1.3860 - accuracy: 0.086 - ETA: 50s - loss: 1.3860 - accuracy: 0.086 - ETA: 49s - loss: 1.3861 - accuracy: 0.086 - ETA: 48s - loss: 1.3869 - accuracy: 0.086 - ETA: 47s - loss: 1.3865 - accuracy: 0.086 - ETA: 46s - loss: 1.3873 - accuracy: 0.086 - ETA: 45s - loss: 1.3864 - accuracy: 0.086 - ETA: 44s - loss: 1.3875 - accuracy: 0.086 - ETA: 43s - loss: 1.3878 - accuracy: 0.086 - ETA: 43s - loss: 1.3886 - accuracy: 0.086 - ETA: 42s - loss: 1.3882 - accuracy: 0.086 - ETA: 41s - loss: 1.3890 - accuracy: 0.086 - ETA: 40s - loss: 1.3899 - accuracy: 0.086 - ETA: 39s - loss: 1.3898 - accuracy: 0.086 - ETA: 38s - loss: 1.3893 - accuracy: 0.086 - ETA: 37s - loss: 1.3895 - accuracy: 0.086 - ETA: 36s - loss: 1.3894 - accuracy: 0.086 - ETA: 35s - loss: 1.3897 - accuracy: 0.086 - ETA: 35s - loss: 1.3903 - accuracy: 0.086 - ETA: 34s - loss: 1.3906 - accuracy: 0.086 - ETA: 33s - loss: 1.3904 - accuracy: 0.086 - ETA: 32s - loss: 1.3904 - accuracy: 0.086 - ETA: 31s - loss: 1.3900 - accuracy: 0.086 - ETA: 30s - loss: 1.3901 - accuracy: 0.086 - ETA: 29s - loss: 1.3896 - accuracy: 0.086 - ETA: 28s - loss: 1.3903 - accuracy: 0.086 - ETA: 27s - loss: 1.3903 - accuracy: 0.086 - ETA: 26s - loss: 1.3904 - accuracy: 0.086 - ETA: 26s - loss: 1.3901 - accuracy: 0.086 - ETA: 25s - loss: 1.3900 - accuracy: 0.086 - ETA: 24s - loss: 1.3901 - accuracy: 0.086 - ETA: 23s - loss: 1.3902 - accuracy: 0.086 - ETA: 22s - loss: 1.3901 - accuracy: 0.086 - ETA: 21s - loss: 1.3902 - accuracy: 0.086 - ETA: 20s - loss: 1.3910 - accuracy: 0.086 - ETA: 19s - loss: 1.3910 - accuracy: 0.086 - ETA: 18s - loss: 1.3898 - accuracy: 0.086 - ETA: 17s - loss: 1.3907 - accuracy: 0.086 - ETA: 17s - loss: 1.3908 - accuracy: 0.086 - ETA: 16s - loss: 1.3906 - accuracy: 0.086 - ETA: 15s - loss: 1.3908 - accuracy: 0.086 - ETA: 14s - loss: 1.3909 - accuracy: 0.086 - ETA: 13s - loss: 1.3914 - accuracy: 0.086 - ETA: 12s - loss: 1.3924 - accuracy: 0.086 - ETA: 11s - loss: 1.3928 - accuracy: 0.086 - ETA: 10s - loss: 1.3926 - accuracy: 0.086 - ETA: 9s - loss: 1.3931 - accuracy: 0.086 - ETA: 8s - loss: 1.3928 - accuracy: 0.08 - ETA: 8s - loss: 1.3927 - accuracy: 0.08 - ETA: 7s - loss: 1.3921 - accuracy: 0.08 - ETA: 6s - loss: 1.3921 - accuracy: 0.08 - ETA: 5s - loss: 1.3921 - accuracy: 0.08 - ETA: 4s - loss: 1.3917 - accuracy: 0.08 - ETA: 3s - loss: 1.3915 - accuracy: 0.08 - ETA: 2s - loss: 1.3922 - accuracy: 0.08 - ETA: 1s - loss: 1.3930 - accuracy: 0.08 - ETA: 0s - loss: 1.3931 - accuracy: 0.08 - 310s 899ms/step - loss: 1.3931 - accuracy: 0.0868\n",
      "Epoch 6/20\n",
      "186/345 [===============>..............] - ETA: 5:39 - loss: 1.2128 - accuracy: 0.08 - ETA: 5:17 - loss: 1.2638 - accuracy: 0.08 - ETA: 5:16 - loss: 1.3008 - accuracy: 0.08 - ETA: 5:11 - loss: 1.3757 - accuracy: 0.08 - ETA: 5:07 - loss: 1.3767 - accuracy: 0.08 - ETA: 5:10 - loss: 1.3714 - accuracy: 0.08 - ETA: 5:09 - loss: 1.3699 - accuracy: 0.09 - ETA: 5:06 - loss: 1.3727 - accuracy: 0.09 - ETA: 5:04 - loss: 1.3531 - accuracy: 0.09 - ETA: 5:03 - loss: 1.3569 - accuracy: 0.09 - ETA: 5:03 - loss: 1.3463 - accuracy: 0.09 - ETA: 5:03 - loss: 1.3293 - accuracy: 0.09 - ETA: 5:02 - loss: 1.3347 - accuracy: 0.09 - ETA: 5:00 - loss: 1.3421 - accuracy: 0.09 - ETA: 4:59 - loss: 1.3236 - accuracy: 0.08 - ETA: 5:00 - loss: 1.3237 - accuracy: 0.08 - ETA: 4:58 - loss: 1.3222 - accuracy: 0.09 - ETA: 4:57 - loss: 1.3220 - accuracy: 0.09 - ETA: 4:55 - loss: 1.3321 - accuracy: 0.08 - ETA: 4:55 - loss: 1.3262 - accuracy: 0.08 - ETA: 4:53 - loss: 1.3239 - accuracy: 0.08 - ETA: 4:53 - loss: 1.3235 - accuracy: 0.09 - ETA: 4:52 - loss: 1.3332 - accuracy: 0.09 - ETA: 4:51 - loss: 1.3431 - accuracy: 0.09 - ETA: 4:50 - loss: 1.3413 - accuracy: 0.09 - ETA: 4:49 - loss: 1.3427 - accuracy: 0.09 - ETA: 4:49 - loss: 1.3333 - accuracy: 0.09 - ETA: 4:47 - loss: 1.3365 - accuracy: 0.09 - ETA: 4:46 - loss: 1.3356 - accuracy: 0.09 - ETA: 4:44 - loss: 1.3398 - accuracy: 0.09 - ETA: 4:44 - loss: 1.3395 - accuracy: 0.09 - ETA: 4:43 - loss: 1.3413 - accuracy: 0.09 - ETA: 4:42 - loss: 1.3426 - accuracy: 0.09 - ETA: 4:41 - loss: 1.3406 - accuracy: 0.09 - ETA: 4:40 - loss: 1.3428 - accuracy: 0.09 - ETA: 4:40 - loss: 1.3406 - accuracy: 0.09 - ETA: 4:39 - loss: 1.3434 - accuracy: 0.09 - ETA: 4:37 - loss: 1.3442 - accuracy: 0.09 - ETA: 4:37 - loss: 1.3475 - accuracy: 0.09 - ETA: 4:36 - loss: 1.3431 - accuracy: 0.09 - ETA: 4:35 - loss: 1.3385 - accuracy: 0.09 - ETA: 4:34 - loss: 1.3338 - accuracy: 0.09 - ETA: 4:33 - loss: 1.3348 - accuracy: 0.09 - ETA: 4:32 - loss: 1.3375 - accuracy: 0.09 - ETA: 4:31 - loss: 1.3370 - accuracy: 0.09 - ETA: 4:31 - loss: 1.3375 - accuracy: 0.09 - ETA: 4:30 - loss: 1.3355 - accuracy: 0.09 - ETA: 4:29 - loss: 1.3346 - accuracy: 0.09 - ETA: 4:28 - loss: 1.3346 - accuracy: 0.09 - ETA: 4:26 - loss: 1.3344 - accuracy: 0.09 - ETA: 4:26 - loss: 1.3407 - accuracy: 0.09 - ETA: 4:25 - loss: 1.3329 - accuracy: 0.09 - ETA: 4:24 - loss: 1.3334 - accuracy: 0.09 - ETA: 4:23 - loss: 1.3320 - accuracy: 0.09 - ETA: 4:22 - loss: 1.3330 - accuracy: 0.09 - ETA: 4:21 - loss: 1.3350 - accuracy: 0.09 - ETA: 4:20 - loss: 1.3392 - accuracy: 0.09 - ETA: 4:19 - loss: 1.3421 - accuracy: 0.09 - ETA: 4:18 - loss: 1.3442 - accuracy: 0.09 - ETA: 4:17 - loss: 1.3397 - accuracy: 0.09 - ETA: 4:17 - loss: 1.3374 - accuracy: 0.09 - ETA: 4:16 - loss: 1.3358 - accuracy: 0.09 - ETA: 4:15 - loss: 1.3331 - accuracy: 0.09 - ETA: 4:14 - loss: 1.3313 - accuracy: 0.09 - ETA: 4:13 - loss: 1.3345 - accuracy: 0.09 - ETA: 4:12 - loss: 1.3352 - accuracy: 0.09 - ETA: 4:11 - loss: 1.3353 - accuracy: 0.09 - ETA: 4:10 - loss: 1.3370 - accuracy: 0.09 - ETA: 4:09 - loss: 1.3362 - accuracy: 0.09 - ETA: 4:08 - loss: 1.3361 - accuracy: 0.09 - ETA: 4:08 - loss: 1.3358 - accuracy: 0.09 - ETA: 4:07 - loss: 1.3356 - accuracy: 0.09 - ETA: 4:06 - loss: 1.3376 - accuracy: 0.09 - ETA: 4:05 - loss: 1.3366 - accuracy: 0.09 - ETA: 4:04 - loss: 1.3366 - accuracy: 0.09 - ETA: 4:03 - loss: 1.3365 - accuracy: 0.09 - ETA: 4:02 - loss: 1.3350 - accuracy: 0.09 - ETA: 4:01 - loss: 1.3331 - accuracy: 0.09 - ETA: 4:00 - loss: 1.3332 - accuracy: 0.09 - ETA: 3:59 - loss: 1.3359 - accuracy: 0.09 - ETA: 3:59 - loss: 1.3380 - accuracy: 0.09 - ETA: 3:58 - loss: 1.3374 - accuracy: 0.09 - ETA: 3:57 - loss: 1.3377 - accuracy: 0.09 - ETA: 3:56 - loss: 1.3359 - accuracy: 0.09 - ETA: 3:55 - loss: 1.3343 - accuracy: 0.09 - ETA: 3:54 - loss: 1.3363 - accuracy: 0.09 - ETA: 3:53 - loss: 1.3374 - accuracy: 0.09 - ETA: 3:52 - loss: 1.3362 - accuracy: 0.09 - ETA: 3:51 - loss: 1.3364 - accuracy: 0.09 - ETA: 3:51 - loss: 1.3360 - accuracy: 0.09 - ETA: 3:50 - loss: 1.3378 - accuracy: 0.09 - ETA: 3:49 - loss: 1.3382 - accuracy: 0.09 - ETA: 3:48 - loss: 1.3396 - accuracy: 0.09 - ETA: 3:47 - loss: 1.3412 - accuracy: 0.09 - ETA: 3:46 - loss: 1.3422 - accuracy: 0.09 - ETA: 3:46 - loss: 1.3412 - accuracy: 0.09 - ETA: 3:45 - loss: 1.3434 - accuracy: 0.09 - ETA: 3:44 - loss: 1.3432 - accuracy: 0.09 - ETA: 3:43 - loss: 1.3426 - accuracy: 0.09 - ETA: 3:42 - loss: 1.3425 - accuracy: 0.09 - ETA: 3:41 - loss: 1.3417 - accuracy: 0.09 - ETA: 3:40 - loss: 1.3449 - accuracy: 0.09 - ETA: 3:39 - loss: 1.3452 - accuracy: 0.09 - ETA: 3:38 - loss: 1.3434 - accuracy: 0.09 - ETA: 3:37 - loss: 1.3408 - accuracy: 0.09 - ETA: 3:36 - loss: 1.3404 - accuracy: 0.09 - ETA: 3:36 - loss: 1.3398 - accuracy: 0.09 - ETA: 3:35 - loss: 1.3387 - accuracy: 0.09 - ETA: 3:34 - loss: 1.3393 - accuracy: 0.09 - ETA: 3:33 - loss: 1.3393 - accuracy: 0.09 - ETA: 3:32 - loss: 1.3391 - accuracy: 0.09 - ETA: 3:31 - loss: 1.3376 - accuracy: 0.09 - ETA: 3:30 - loss: 1.3354 - accuracy: 0.09 - ETA: 3:29 - loss: 1.3331 - accuracy: 0.09 - ETA: 3:28 - loss: 1.3333 - accuracy: 0.09 - ETA: 3:27 - loss: 1.3319 - accuracy: 0.09 - ETA: 3:26 - loss: 1.3322 - accuracy: 0.09 - ETA: 3:25 - loss: 1.3318 - accuracy: 0.09 - ETA: 3:24 - loss: 1.3317 - accuracy: 0.09 - ETA: 3:23 - loss: 1.3308 - accuracy: 0.09 - ETA: 3:22 - loss: 1.3319 - accuracy: 0.09 - ETA: 3:22 - loss: 1.3295 - accuracy: 0.09 - ETA: 3:21 - loss: 1.3312 - accuracy: 0.09 - ETA: 3:20 - loss: 1.3310 - accuracy: 0.09 - ETA: 3:19 - loss: 1.3324 - accuracy: 0.09 - ETA: 3:18 - loss: 1.3339 - accuracy: 0.09 - ETA: 3:17 - loss: 1.3322 - accuracy: 0.09 - ETA: 3:16 - loss: 1.3321 - accuracy: 0.09 - ETA: 3:15 - loss: 1.3320 - accuracy: 0.09 - ETA: 3:14 - loss: 1.3325 - accuracy: 0.09 - ETA: 3:13 - loss: 1.3337 - accuracy: 0.09 - ETA: 3:13 - loss: 1.3348 - accuracy: 0.09 - ETA: 3:12 - loss: 1.3368 - accuracy: 0.09 - ETA: 3:11 - loss: 1.3350 - accuracy: 0.09 - ETA: 3:10 - loss: 1.3333 - accuracy: 0.09 - ETA: 3:09 - loss: 1.3327 - accuracy: 0.09 - ETA: 3:08 - loss: 1.3346 - accuracy: 0.09 - ETA: 3:07 - loss: 1.3347 - accuracy: 0.09 - ETA: 3:06 - loss: 1.3351 - accuracy: 0.09 - ETA: 3:05 - loss: 1.3359 - accuracy: 0.09 - ETA: 3:04 - loss: 1.3354 - accuracy: 0.09 - ETA: 3:03 - loss: 1.3360 - accuracy: 0.09 - ETA: 3:03 - loss: 1.3369 - accuracy: 0.09 - ETA: 3:02 - loss: 1.3364 - accuracy: 0.09 - ETA: 3:01 - loss: 1.3371 - accuracy: 0.09 - ETA: 3:00 - loss: 1.3350 - accuracy: 0.09 - ETA: 2:59 - loss: 1.3362 - accuracy: 0.09 - ETA: 2:58 - loss: 1.3360 - accuracy: 0.09 - ETA: 2:57 - loss: 1.3357 - accuracy: 0.09 - ETA: 2:56 - loss: 1.3355 - accuracy: 0.09 - ETA: 2:55 - loss: 1.3359 - accuracy: 0.09 - ETA: 2:54 - loss: 1.3361 - accuracy: 0.09 - ETA: 2:53 - loss: 1.3372 - accuracy: 0.09 - ETA: 2:53 - loss: 1.3369 - accuracy: 0.09 - ETA: 2:52 - loss: 1.3372 - accuracy: 0.09 - ETA: 2:51 - loss: 1.3355 - accuracy: 0.09 - ETA: 2:50 - loss: 1.3344 - accuracy: 0.09 - ETA: 2:49 - loss: 1.3358 - accuracy: 0.09 - ETA: 2:48 - loss: 1.3362 - accuracy: 0.09 - ETA: 2:47 - loss: 1.3358 - accuracy: 0.09 - ETA: 2:46 - loss: 1.3367 - accuracy: 0.09 - ETA: 2:45 - loss: 1.3369 - accuracy: 0.09 - ETA: 2:44 - loss: 1.3362 - accuracy: 0.09 - ETA: 2:43 - loss: 1.3346 - accuracy: 0.09 - ETA: 2:43 - loss: 1.3351 - accuracy: 0.09 - ETA: 2:42 - loss: 1.3328 - accuracy: 0.09 - ETA: 2:41 - loss: 1.3325 - accuracy: 0.09 - ETA: 2:40 - loss: 1.3316 - accuracy: 0.09 - ETA: 2:39 - loss: 1.3309 - accuracy: 0.09 - ETA: 2:38 - loss: 1.3303 - accuracy: 0.09 - ETA: 2:37 - loss: 1.3310 - accuracy: 0.09 - ETA: 2:36 - loss: 1.3303 - accuracy: 0.09 - ETA: 2:35 - loss: 1.3296 - accuracy: 0.09 - ETA: 2:34 - loss: 1.3314 - accuracy: 0.09 - ETA: 2:33 - loss: 1.3316 - accuracy: 0.09 - ETA: 2:33 - loss: 1.3323 - accuracy: 0.09 - ETA: 2:32 - loss: 1.3323 - accuracy: 0.09 - ETA: 2:31 - loss: 1.3331 - accuracy: 0.09 - ETA: 2:30 - loss: 1.3341 - accuracy: 0.09 - ETA: 2:29 - loss: 1.3343 - accuracy: 0.09 - ETA: 2:28 - loss: 1.3339 - accuracy: 0.09 - ETA: 2:27 - loss: 1.3339 - accuracy: 0.09 - ETA: 2:26 - loss: 1.3334 - accuracy: 0.09 - ETA: 2:25 - loss: 1.3336 - accuracy: 0.09 - ETA: 2:24 - loss: 1.3334 - accuracy: 0.09 - ETA: 2:23 - loss: 1.3328 - accuracy: 0.0915345/345 [==============================] - ETA: 2:23 - loss: 1.3323 - accuracy: 0.09 - ETA: 2:22 - loss: 1.3329 - accuracy: 0.09 - ETA: 2:21 - loss: 1.3336 - accuracy: 0.09 - ETA: 2:20 - loss: 1.3336 - accuracy: 0.09 - ETA: 2:19 - loss: 1.3331 - accuracy: 0.09 - ETA: 2:18 - loss: 1.3330 - accuracy: 0.09 - ETA: 2:17 - loss: 1.3336 - accuracy: 0.09 - ETA: 2:16 - loss: 1.3333 - accuracy: 0.09 - ETA: 2:15 - loss: 1.3337 - accuracy: 0.09 - ETA: 2:14 - loss: 1.3335 - accuracy: 0.09 - ETA: 2:14 - loss: 1.3334 - accuracy: 0.09 - ETA: 2:13 - loss: 1.3333 - accuracy: 0.09 - ETA: 2:12 - loss: 1.3316 - accuracy: 0.09 - ETA: 2:11 - loss: 1.3325 - accuracy: 0.09 - ETA: 2:10 - loss: 1.3316 - accuracy: 0.09 - ETA: 2:09 - loss: 1.3319 - accuracy: 0.09 - ETA: 2:08 - loss: 1.3319 - accuracy: 0.09 - ETA: 2:07 - loss: 1.3320 - accuracy: 0.09 - ETA: 2:06 - loss: 1.3319 - accuracy: 0.09 - ETA: 2:05 - loss: 1.3332 - accuracy: 0.09 - ETA: 2:04 - loss: 1.3338 - accuracy: 0.09 - ETA: 2:04 - loss: 1.3328 - accuracy: 0.09 - ETA: 2:03 - loss: 1.3332 - accuracy: 0.09 - ETA: 2:02 - loss: 1.3329 - accuracy: 0.09 - ETA: 2:01 - loss: 1.3327 - accuracy: 0.09 - ETA: 2:00 - loss: 1.3328 - accuracy: 0.09 - ETA: 1:59 - loss: 1.3344 - accuracy: 0.09 - ETA: 1:58 - loss: 1.3341 - accuracy: 0.09 - ETA: 1:57 - loss: 1.3342 - accuracy: 0.09 - ETA: 1:56 - loss: 1.3339 - accuracy: 0.09 - ETA: 1:55 - loss: 1.3336 - accuracy: 0.09 - ETA: 1:54 - loss: 1.3341 - accuracy: 0.09 - ETA: 1:54 - loss: 1.3353 - accuracy: 0.09 - ETA: 1:53 - loss: 1.3352 - accuracy: 0.09 - ETA: 1:52 - loss: 1.3342 - accuracy: 0.09 - ETA: 1:51 - loss: 1.3342 - accuracy: 0.09 - ETA: 1:50 - loss: 1.3338 - accuracy: 0.09 - ETA: 1:49 - loss: 1.3331 - accuracy: 0.09 - ETA: 1:48 - loss: 1.3325 - accuracy: 0.09 - ETA: 1:47 - loss: 1.3329 - accuracy: 0.09 - ETA: 1:46 - loss: 1.3344 - accuracy: 0.09 - ETA: 1:45 - loss: 1.3344 - accuracy: 0.09 - ETA: 1:45 - loss: 1.3344 - accuracy: 0.09 - ETA: 1:44 - loss: 1.3346 - accuracy: 0.09 - ETA: 1:43 - loss: 1.3356 - accuracy: 0.09 - ETA: 1:42 - loss: 1.3348 - accuracy: 0.09 - ETA: 1:41 - loss: 1.3348 - accuracy: 0.09 - ETA: 1:40 - loss: 1.3359 - accuracy: 0.09 - ETA: 1:39 - loss: 1.3360 - accuracy: 0.09 - ETA: 1:38 - loss: 1.3361 - accuracy: 0.09 - ETA: 1:37 - loss: 1.3361 - accuracy: 0.09 - ETA: 1:36 - loss: 1.3364 - accuracy: 0.09 - ETA: 1:35 - loss: 1.3356 - accuracy: 0.09 - ETA: 1:35 - loss: 1.3347 - accuracy: 0.09 - ETA: 1:34 - loss: 1.3338 - accuracy: 0.09 - ETA: 1:33 - loss: 1.3339 - accuracy: 0.09 - ETA: 1:32 - loss: 1.3333 - accuracy: 0.09 - ETA: 1:31 - loss: 1.3336 - accuracy: 0.09 - ETA: 1:30 - loss: 1.3348 - accuracy: 0.09 - ETA: 1:29 - loss: 1.3343 - accuracy: 0.09 - ETA: 1:28 - loss: 1.3334 - accuracy: 0.09 - ETA: 1:27 - loss: 1.3332 - accuracy: 0.09 - ETA: 1:26 - loss: 1.3315 - accuracy: 0.09 - ETA: 1:25 - loss: 1.3313 - accuracy: 0.09 - ETA: 1:25 - loss: 1.3310 - accuracy: 0.09 - ETA: 1:24 - loss: 1.3314 - accuracy: 0.09 - ETA: 1:23 - loss: 1.3311 - accuracy: 0.09 - ETA: 1:22 - loss: 1.3308 - accuracy: 0.09 - ETA: 1:21 - loss: 1.3312 - accuracy: 0.09 - ETA: 1:20 - loss: 1.3307 - accuracy: 0.09 - ETA: 1:19 - loss: 1.3302 - accuracy: 0.09 - ETA: 1:18 - loss: 1.3305 - accuracy: 0.09 - ETA: 1:17 - loss: 1.3307 - accuracy: 0.09 - ETA: 1:16 - loss: 1.3306 - accuracy: 0.09 - ETA: 1:16 - loss: 1.3315 - accuracy: 0.09 - ETA: 1:15 - loss: 1.3315 - accuracy: 0.09 - ETA: 1:14 - loss: 1.3315 - accuracy: 0.09 - ETA: 1:13 - loss: 1.3326 - accuracy: 0.09 - ETA: 1:12 - loss: 1.3332 - accuracy: 0.09 - ETA: 1:11 - loss: 1.3333 - accuracy: 0.09 - ETA: 1:10 - loss: 1.3332 - accuracy: 0.09 - ETA: 1:09 - loss: 1.3335 - accuracy: 0.09 - ETA: 1:08 - loss: 1.3337 - accuracy: 0.09 - ETA: 1:07 - loss: 1.3336 - accuracy: 0.09 - ETA: 1:06 - loss: 1.3336 - accuracy: 0.09 - ETA: 1:06 - loss: 1.3332 - accuracy: 0.09 - ETA: 1:05 - loss: 1.3332 - accuracy: 0.09 - ETA: 1:04 - loss: 1.3335 - accuracy: 0.09 - ETA: 1:03 - loss: 1.3331 - accuracy: 0.09 - ETA: 1:02 - loss: 1.3340 - accuracy: 0.09 - ETA: 1:01 - loss: 1.3343 - accuracy: 0.09 - ETA: 1:00 - loss: 1.3342 - accuracy: 0.09 - ETA: 59s - loss: 1.3340 - accuracy: 0.0915 - ETA: 58s - loss: 1.3337 - accuracy: 0.091 - ETA: 57s - loss: 1.3326 - accuracy: 0.091 - ETA: 57s - loss: 1.3323 - accuracy: 0.091 - ETA: 56s - loss: 1.3320 - accuracy: 0.091 - ETA: 55s - loss: 1.3318 - accuracy: 0.091 - ETA: 54s - loss: 1.3320 - accuracy: 0.091 - ETA: 53s - loss: 1.3325 - accuracy: 0.091 - ETA: 52s - loss: 1.3324 - accuracy: 0.091 - ETA: 51s - loss: 1.3322 - accuracy: 0.091 - ETA: 50s - loss: 1.3325 - accuracy: 0.091 - ETA: 49s - loss: 1.3326 - accuracy: 0.091 - ETA: 48s - loss: 1.3320 - accuracy: 0.091 - ETA: 47s - loss: 1.3319 - accuracy: 0.091 - ETA: 47s - loss: 1.3320 - accuracy: 0.091 - ETA: 46s - loss: 1.3317 - accuracy: 0.091 - ETA: 45s - loss: 1.3319 - accuracy: 0.091 - ETA: 44s - loss: 1.3322 - accuracy: 0.091 - ETA: 43s - loss: 1.3319 - accuracy: 0.091 - ETA: 42s - loss: 1.3323 - accuracy: 0.091 - ETA: 41s - loss: 1.3321 - accuracy: 0.091 - ETA: 40s - loss: 1.3329 - accuracy: 0.091 - ETA: 39s - loss: 1.3338 - accuracy: 0.091 - ETA: 38s - loss: 1.3337 - accuracy: 0.091 - ETA: 38s - loss: 1.3337 - accuracy: 0.091 - ETA: 37s - loss: 1.3334 - accuracy: 0.091 - ETA: 36s - loss: 1.3340 - accuracy: 0.091 - ETA: 35s - loss: 1.3330 - accuracy: 0.091 - ETA: 34s - loss: 1.3330 - accuracy: 0.091 - ETA: 33s - loss: 1.3327 - accuracy: 0.091 - ETA: 32s - loss: 1.3326 - accuracy: 0.091 - ETA: 31s - loss: 1.3326 - accuracy: 0.091 - ETA: 30s - loss: 1.3324 - accuracy: 0.091 - ETA: 29s - loss: 1.3324 - accuracy: 0.091 - ETA: 28s - loss: 1.3339 - accuracy: 0.091 - ETA: 28s - loss: 1.3345 - accuracy: 0.091 - ETA: 27s - loss: 1.3340 - accuracy: 0.091 - ETA: 26s - loss: 1.3336 - accuracy: 0.091 - ETA: 25s - loss: 1.3345 - accuracy: 0.091 - ETA: 24s - loss: 1.3343 - accuracy: 0.091 - ETA: 23s - loss: 1.3343 - accuracy: 0.091 - ETA: 22s - loss: 1.3342 - accuracy: 0.091 - ETA: 21s - loss: 1.3336 - accuracy: 0.091 - ETA: 20s - loss: 1.3329 - accuracy: 0.091 - ETA: 19s - loss: 1.3322 - accuracy: 0.091 - ETA: 19s - loss: 1.3326 - accuracy: 0.091 - ETA: 18s - loss: 1.3332 - accuracy: 0.091 - ETA: 17s - loss: 1.3332 - accuracy: 0.091 - ETA: 16s - loss: 1.3328 - accuracy: 0.091 - ETA: 15s - loss: 1.3328 - accuracy: 0.091 - ETA: 14s - loss: 1.3331 - accuracy: 0.091 - ETA: 13s - loss: 1.3333 - accuracy: 0.091 - ETA: 12s - loss: 1.3339 - accuracy: 0.091 - ETA: 11s - loss: 1.3341 - accuracy: 0.091 - ETA: 10s - loss: 1.3342 - accuracy: 0.091 - ETA: 9s - loss: 1.3341 - accuracy: 0.091 - ETA: 9s - loss: 1.3343 - accuracy: 0.09 - ETA: 8s - loss: 1.3343 - accuracy: 0.09 - ETA: 7s - loss: 1.3341 - accuracy: 0.09 - ETA: 6s - loss: 1.3347 - accuracy: 0.09 - ETA: 5s - loss: 1.3346 - accuracy: 0.09 - ETA: 4s - loss: 1.3349 - accuracy: 0.09 - ETA: 3s - loss: 1.3357 - accuracy: 0.09 - ETA: 2s - loss: 1.3360 - accuracy: 0.09 - ETA: 1s - loss: 1.3357 - accuracy: 0.09 - ETA: 0s - loss: 1.3361 - accuracy: 0.09 - 312s 905ms/step - loss: 1.3361 - accuracy: 0.0916\n",
      "Epoch 7/20\n"
     ]
    },
    {
     "name": "stdout",
     "output_type": "stream",
     "text": [
      "186/345 [===============>..............] - ETA: 5:20 - loss: 1.1631 - accuracy: 0.09 - ETA: 5:14 - loss: 1.2498 - accuracy: 0.09 - ETA: 5:14 - loss: 1.2301 - accuracy: 0.09 - ETA: 5:16 - loss: 1.2321 - accuracy: 0.09 - ETA: 5:19 - loss: 1.2326 - accuracy: 0.09 - ETA: 5:19 - loss: 1.2348 - accuracy: 0.09 - ETA: 5:20 - loss: 1.2597 - accuracy: 0.09 - ETA: 5:17 - loss: 1.2803 - accuracy: 0.09 - ETA: 5:14 - loss: 1.2902 - accuracy: 0.09 - ETA: 5:13 - loss: 1.2901 - accuracy: 0.09 - ETA: 5:14 - loss: 1.2696 - accuracy: 0.09 - ETA: 5:12 - loss: 1.2662 - accuracy: 0.09 - ETA: 5:11 - loss: 1.2608 - accuracy: 0.09 - ETA: 5:09 - loss: 1.2519 - accuracy: 0.09 - ETA: 5:10 - loss: 1.2550 - accuracy: 0.09 - ETA: 5:09 - loss: 1.2621 - accuracy: 0.09 - ETA: 5:07 - loss: 1.2643 - accuracy: 0.09 - ETA: 5:06 - loss: 1.2701 - accuracy: 0.09 - ETA: 5:05 - loss: 1.2725 - accuracy: 0.09 - ETA: 5:06 - loss: 1.2715 - accuracy: 0.09 - ETA: 5:05 - loss: 1.2750 - accuracy: 0.09 - ETA: 5:03 - loss: 1.2746 - accuracy: 0.09 - ETA: 5:02 - loss: 1.2676 - accuracy: 0.09 - ETA: 5:00 - loss: 1.2590 - accuracy: 0.09 - ETA: 5:00 - loss: 1.2699 - accuracy: 0.09 - ETA: 4:58 - loss: 1.2743 - accuracy: 0.09 - ETA: 4:56 - loss: 1.2739 - accuracy: 0.09 - ETA: 4:55 - loss: 1.2690 - accuracy: 0.09 - ETA: 4:55 - loss: 1.2804 - accuracy: 0.09 - ETA: 4:53 - loss: 1.2870 - accuracy: 0.09 - ETA: 4:52 - loss: 1.2853 - accuracy: 0.09 - ETA: 4:51 - loss: 1.2819 - accuracy: 0.09 - ETA: 4:50 - loss: 1.2814 - accuracy: 0.09 - ETA: 4:49 - loss: 1.2799 - accuracy: 0.09 - ETA: 4:48 - loss: 1.2771 - accuracy: 0.09 - ETA: 4:47 - loss: 1.2780 - accuracy: 0.09 - ETA: 4:45 - loss: 1.2746 - accuracy: 0.09 - ETA: 4:45 - loss: 1.2773 - accuracy: 0.09 - ETA: 4:44 - loss: 1.2801 - accuracy: 0.09 - ETA: 4:42 - loss: 1.2787 - accuracy: 0.09 - ETA: 4:41 - loss: 1.2812 - accuracy: 0.09 - ETA: 4:40 - loss: 1.2783 - accuracy: 0.09 - ETA: 4:39 - loss: 1.2805 - accuracy: 0.09 - ETA: 4:38 - loss: 1.2804 - accuracy: 0.09 - ETA: 4:37 - loss: 1.2785 - accuracy: 0.09 - ETA: 4:36 - loss: 1.2773 - accuracy: 0.09 - ETA: 4:34 - loss: 1.2809 - accuracy: 0.09 - ETA: 4:34 - loss: 1.2857 - accuracy: 0.09 - ETA: 4:33 - loss: 1.2813 - accuracy: 0.09 - ETA: 4:32 - loss: 1.2792 - accuracy: 0.09 - ETA: 4:31 - loss: 1.2795 - accuracy: 0.09 - ETA: 4:30 - loss: 1.2783 - accuracy: 0.09 - ETA: 4:29 - loss: 1.2762 - accuracy: 0.09 - ETA: 4:28 - loss: 1.2753 - accuracy: 0.09 - ETA: 4:27 - loss: 1.2763 - accuracy: 0.09 - ETA: 4:26 - loss: 1.2701 - accuracy: 0.09 - ETA: 4:25 - loss: 1.2707 - accuracy: 0.09 - ETA: 4:24 - loss: 1.2720 - accuracy: 0.09 - ETA: 4:23 - loss: 1.2703 - accuracy: 0.09 - ETA: 4:22 - loss: 1.2710 - accuracy: 0.09 - ETA: 4:21 - loss: 1.2710 - accuracy: 0.09 - ETA: 4:20 - loss: 1.2704 - accuracy: 0.09 - ETA: 4:19 - loss: 1.2651 - accuracy: 0.09 - ETA: 4:18 - loss: 1.2665 - accuracy: 0.09 - ETA: 4:17 - loss: 1.2672 - accuracy: 0.09 - ETA: 4:16 - loss: 1.2667 - accuracy: 0.09 - ETA: 4:15 - loss: 1.2692 - accuracy: 0.09 - ETA: 4:14 - loss: 1.2699 - accuracy: 0.09 - ETA: 4:13 - loss: 1.2698 - accuracy: 0.09 - ETA: 4:12 - loss: 1.2711 - accuracy: 0.09 - ETA: 4:11 - loss: 1.2712 - accuracy: 0.09 - ETA: 4:10 - loss: 1.2691 - accuracy: 0.09 - ETA: 4:09 - loss: 1.2694 - accuracy: 0.09 - ETA: 4:08 - loss: 1.2684 - accuracy: 0.09 - ETA: 4:07 - loss: 1.2664 - accuracy: 0.09 - ETA: 4:06 - loss: 1.2653 - accuracy: 0.09 - ETA: 4:05 - loss: 1.2634 - accuracy: 0.09 - ETA: 4:05 - loss: 1.2639 - accuracy: 0.09 - ETA: 4:03 - loss: 1.2637 - accuracy: 0.09 - ETA: 4:03 - loss: 1.2632 - accuracy: 0.09 - ETA: 4:01 - loss: 1.2632 - accuracy: 0.09 - ETA: 4:01 - loss: 1.2655 - accuracy: 0.09 - ETA: 4:00 - loss: 1.2685 - accuracy: 0.09 - ETA: 3:59 - loss: 1.2687 - accuracy: 0.09 - ETA: 3:58 - loss: 1.2695 - accuracy: 0.09 - ETA: 3:57 - loss: 1.2683 - accuracy: 0.09 - ETA: 3:56 - loss: 1.2684 - accuracy: 0.09 - ETA: 3:55 - loss: 1.2687 - accuracy: 0.09 - ETA: 3:54 - loss: 1.2688 - accuracy: 0.09 - ETA: 3:53 - loss: 1.2687 - accuracy: 0.09 - ETA: 3:52 - loss: 1.2703 - accuracy: 0.09 - ETA: 3:51 - loss: 1.2722 - accuracy: 0.09 - ETA: 3:50 - loss: 1.2736 - accuracy: 0.09 - ETA: 3:49 - loss: 1.2741 - accuracy: 0.09 - ETA: 3:48 - loss: 1.2752 - accuracy: 0.09 - ETA: 3:47 - loss: 1.2753 - accuracy: 0.09 - ETA: 3:46 - loss: 1.2753 - accuracy: 0.09 - ETA: 3:45 - loss: 1.2767 - accuracy: 0.09 - ETA: 3:44 - loss: 1.2754 - accuracy: 0.09 - ETA: 3:43 - loss: 1.2762 - accuracy: 0.09 - ETA: 3:42 - loss: 1.2752 - accuracy: 0.09 - ETA: 3:42 - loss: 1.2768 - accuracy: 0.09 - ETA: 3:41 - loss: 1.2784 - accuracy: 0.09 - ETA: 3:40 - loss: 1.2784 - accuracy: 0.09 - ETA: 3:39 - loss: 1.2791 - accuracy: 0.09 - ETA: 3:38 - loss: 1.2793 - accuracy: 0.09 - ETA: 3:37 - loss: 1.2780 - accuracy: 0.09 - ETA: 3:36 - loss: 1.2767 - accuracy: 0.09 - ETA: 3:35 - loss: 1.2752 - accuracy: 0.09 - ETA: 3:34 - loss: 1.2754 - accuracy: 0.09 - ETA: 3:33 - loss: 1.2751 - accuracy: 0.09 - ETA: 3:32 - loss: 1.2767 - accuracy: 0.09 - ETA: 3:31 - loss: 1.2780 - accuracy: 0.09 - ETA: 3:30 - loss: 1.2768 - accuracy: 0.09 - ETA: 3:29 - loss: 1.2761 - accuracy: 0.09 - ETA: 3:29 - loss: 1.2776 - accuracy: 0.09 - ETA: 3:28 - loss: 1.2768 - accuracy: 0.09 - ETA: 3:27 - loss: 1.2789 - accuracy: 0.09 - ETA: 3:26 - loss: 1.2793 - accuracy: 0.09 - ETA: 3:25 - loss: 1.2807 - accuracy: 0.09 - ETA: 3:24 - loss: 1.2798 - accuracy: 0.09 - ETA: 3:23 - loss: 1.2802 - accuracy: 0.09 - ETA: 3:22 - loss: 1.2792 - accuracy: 0.09 - ETA: 3:21 - loss: 1.2781 - accuracy: 0.09 - ETA: 3:20 - loss: 1.2773 - accuracy: 0.09 - ETA: 3:19 - loss: 1.2786 - accuracy: 0.09 - ETA: 3:18 - loss: 1.2761 - accuracy: 0.09 - ETA: 3:17 - loss: 1.2765 - accuracy: 0.09 - ETA: 3:16 - loss: 1.2760 - accuracy: 0.09 - ETA: 3:16 - loss: 1.2757 - accuracy: 0.09 - ETA: 3:15 - loss: 1.2758 - accuracy: 0.09 - ETA: 3:14 - loss: 1.2752 - accuracy: 0.09 - ETA: 3:13 - loss: 1.2746 - accuracy: 0.09 - ETA: 3:12 - loss: 1.2754 - accuracy: 0.09 - ETA: 3:11 - loss: 1.2750 - accuracy: 0.09 - ETA: 3:10 - loss: 1.2750 - accuracy: 0.09 - ETA: 3:09 - loss: 1.2755 - accuracy: 0.09 - ETA: 3:08 - loss: 1.2758 - accuracy: 0.09 - ETA: 3:07 - loss: 1.2765 - accuracy: 0.09 - ETA: 3:06 - loss: 1.2791 - accuracy: 0.09 - ETA: 3:05 - loss: 1.2775 - accuracy: 0.09 - ETA: 3:04 - loss: 1.2776 - accuracy: 0.09 - ETA: 3:04 - loss: 1.2766 - accuracy: 0.09 - ETA: 3:03 - loss: 1.2758 - accuracy: 0.09 - ETA: 3:02 - loss: 1.2765 - accuracy: 0.09 - ETA: 3:01 - loss: 1.2758 - accuracy: 0.09 - ETA: 3:00 - loss: 1.2761 - accuracy: 0.09 - ETA: 2:59 - loss: 1.2761 - accuracy: 0.09 - ETA: 2:58 - loss: 1.2762 - accuracy: 0.09 - ETA: 2:57 - loss: 1.2747 - accuracy: 0.09 - ETA: 2:56 - loss: 1.2737 - accuracy: 0.09 - ETA: 2:55 - loss: 1.2746 - accuracy: 0.09 - ETA: 2:54 - loss: 1.2736 - accuracy: 0.09 - ETA: 2:53 - loss: 1.2709 - accuracy: 0.09 - ETA: 2:53 - loss: 1.2706 - accuracy: 0.09 - ETA: 2:52 - loss: 1.2707 - accuracy: 0.09 - ETA: 2:51 - loss: 1.2702 - accuracy: 0.09 - ETA: 2:50 - loss: 1.2702 - accuracy: 0.09 - ETA: 2:49 - loss: 1.2701 - accuracy: 0.09 - ETA: 2:48 - loss: 1.2699 - accuracy: 0.09 - ETA: 2:47 - loss: 1.2699 - accuracy: 0.09 - ETA: 2:46 - loss: 1.2702 - accuracy: 0.09 - ETA: 2:45 - loss: 1.2712 - accuracy: 0.09 - ETA: 2:44 - loss: 1.2710 - accuracy: 0.09 - ETA: 2:43 - loss: 1.2713 - accuracy: 0.09 - ETA: 2:42 - loss: 1.2714 - accuracy: 0.09 - ETA: 2:42 - loss: 1.2708 - accuracy: 0.09 - ETA: 2:41 - loss: 1.2696 - accuracy: 0.09 - ETA: 2:40 - loss: 1.2707 - accuracy: 0.09 - ETA: 2:39 - loss: 1.2704 - accuracy: 0.09 - ETA: 2:38 - loss: 1.2706 - accuracy: 0.09 - ETA: 2:37 - loss: 1.2706 - accuracy: 0.09 - ETA: 2:36 - loss: 1.2703 - accuracy: 0.09 - ETA: 2:35 - loss: 1.2705 - accuracy: 0.09 - ETA: 2:34 - loss: 1.2707 - accuracy: 0.09 - ETA: 2:33 - loss: 1.2711 - accuracy: 0.09 - ETA: 2:32 - loss: 1.2695 - accuracy: 0.09 - ETA: 2:31 - loss: 1.2690 - accuracy: 0.09 - ETA: 2:30 - loss: 1.2694 - accuracy: 0.09 - ETA: 2:30 - loss: 1.2689 - accuracy: 0.09 - ETA: 2:29 - loss: 1.2691 - accuracy: 0.09 - ETA: 2:28 - loss: 1.2697 - accuracy: 0.09 - ETA: 2:27 - loss: 1.2689 - accuracy: 0.09 - ETA: 2:26 - loss: 1.2697 - accuracy: 0.09 - ETA: 2:25 - loss: 1.2690 - accuracy: 0.09 - ETA: 2:24 - loss: 1.2679 - accuracy: 0.0969"
     ]
    },
    {
     "name": "stdout",
     "output_type": "stream",
     "text": [
      "345/345 [==============================] - ETA: 2:23 - loss: 1.2694 - accuracy: 0.09 - ETA: 2:22 - loss: 1.2698 - accuracy: 0.09 - ETA: 2:21 - loss: 1.2697 - accuracy: 0.09 - ETA: 2:21 - loss: 1.2689 - accuracy: 0.09 - ETA: 2:20 - loss: 1.2689 - accuracy: 0.09 - ETA: 2:19 - loss: 1.2687 - accuracy: 0.09 - ETA: 2:18 - loss: 1.2687 - accuracy: 0.09 - ETA: 2:17 - loss: 1.2682 - accuracy: 0.09 - ETA: 2:16 - loss: 1.2688 - accuracy: 0.09 - ETA: 2:15 - loss: 1.2684 - accuracy: 0.09 - ETA: 2:14 - loss: 1.2690 - accuracy: 0.09 - ETA: 2:13 - loss: 1.2685 - accuracy: 0.09 - ETA: 2:12 - loss: 1.2687 - accuracy: 0.09 - ETA: 2:11 - loss: 1.2697 - accuracy: 0.09 - ETA: 2:11 - loss: 1.2697 - accuracy: 0.09 - ETA: 2:10 - loss: 1.2694 - accuracy: 0.09 - ETA: 2:09 - loss: 1.2688 - accuracy: 0.09 - ETA: 2:08 - loss: 1.2679 - accuracy: 0.09 - ETA: 2:07 - loss: 1.2674 - accuracy: 0.09 - ETA: 2:06 - loss: 1.2675 - accuracy: 0.09 - ETA: 2:05 - loss: 1.2678 - accuracy: 0.09 - ETA: 2:04 - loss: 1.2677 - accuracy: 0.09 - ETA: 2:03 - loss: 1.2682 - accuracy: 0.09 - ETA: 2:02 - loss: 1.2692 - accuracy: 0.09 - ETA: 2:01 - loss: 1.2692 - accuracy: 0.09 - ETA: 2:00 - loss: 1.2689 - accuracy: 0.09 - ETA: 2:00 - loss: 1.2690 - accuracy: 0.09 - ETA: 1:59 - loss: 1.2689 - accuracy: 0.09 - ETA: 1:58 - loss: 1.2693 - accuracy: 0.09 - ETA: 1:57 - loss: 1.2690 - accuracy: 0.09 - ETA: 1:56 - loss: 1.2710 - accuracy: 0.09 - ETA: 1:55 - loss: 1.2711 - accuracy: 0.09 - ETA: 1:54 - loss: 1.2705 - accuracy: 0.09 - ETA: 1:53 - loss: 1.2711 - accuracy: 0.09 - ETA: 1:52 - loss: 1.2717 - accuracy: 0.09 - ETA: 1:51 - loss: 1.2710 - accuracy: 0.09 - ETA: 1:50 - loss: 1.2709 - accuracy: 0.09 - ETA: 1:49 - loss: 1.2710 - accuracy: 0.09 - ETA: 1:49 - loss: 1.2711 - accuracy: 0.09 - ETA: 1:48 - loss: 1.2709 - accuracy: 0.09 - ETA: 1:47 - loss: 1.2708 - accuracy: 0.09 - ETA: 1:46 - loss: 1.2708 - accuracy: 0.09 - ETA: 1:45 - loss: 1.2707 - accuracy: 0.09 - ETA: 1:44 - loss: 1.2711 - accuracy: 0.09 - ETA: 1:43 - loss: 1.2719 - accuracy: 0.09 - ETA: 1:42 - loss: 1.2719 - accuracy: 0.09 - ETA: 1:41 - loss: 1.2715 - accuracy: 0.09 - ETA: 1:40 - loss: 1.2723 - accuracy: 0.09 - ETA: 1:39 - loss: 1.2720 - accuracy: 0.09 - ETA: 1:39 - loss: 1.2717 - accuracy: 0.09 - ETA: 1:38 - loss: 1.2723 - accuracy: 0.09 - ETA: 1:37 - loss: 1.2738 - accuracy: 0.09 - ETA: 1:36 - loss: 1.2731 - accuracy: 0.09 - ETA: 1:35 - loss: 1.2724 - accuracy: 0.09 - ETA: 1:34 - loss: 1.2725 - accuracy: 0.09 - ETA: 1:33 - loss: 1.2733 - accuracy: 0.09 - ETA: 1:32 - loss: 1.2728 - accuracy: 0.09 - ETA: 1:31 - loss: 1.2729 - accuracy: 0.09 - ETA: 1:30 - loss: 1.2734 - accuracy: 0.09 - ETA: 1:29 - loss: 1.2735 - accuracy: 0.09 - ETA: 1:29 - loss: 1.2730 - accuracy: 0.09 - ETA: 1:28 - loss: 1.2736 - accuracy: 0.09 - ETA: 1:27 - loss: 1.2734 - accuracy: 0.09 - ETA: 1:26 - loss: 1.2727 - accuracy: 0.09 - ETA: 1:25 - loss: 1.2731 - accuracy: 0.09 - ETA: 1:24 - loss: 1.2737 - accuracy: 0.09 - ETA: 1:23 - loss: 1.2737 - accuracy: 0.09 - ETA: 1:22 - loss: 1.2737 - accuracy: 0.09 - ETA: 1:21 - loss: 1.2733 - accuracy: 0.09 - ETA: 1:20 - loss: 1.2736 - accuracy: 0.09 - ETA: 1:19 - loss: 1.2737 - accuracy: 0.09 - ETA: 1:18 - loss: 1.2735 - accuracy: 0.09 - ETA: 1:18 - loss: 1.2732 - accuracy: 0.09 - ETA: 1:17 - loss: 1.2735 - accuracy: 0.09 - ETA: 1:16 - loss: 1.2741 - accuracy: 0.09 - ETA: 1:15 - loss: 1.2739 - accuracy: 0.09 - ETA: 1:14 - loss: 1.2745 - accuracy: 0.09 - ETA: 1:13 - loss: 1.2748 - accuracy: 0.09 - ETA: 1:12 - loss: 1.2753 - accuracy: 0.09 - ETA: 1:11 - loss: 1.2749 - accuracy: 0.09 - ETA: 1:10 - loss: 1.2745 - accuracy: 0.09 - ETA: 1:09 - loss: 1.2744 - accuracy: 0.09 - ETA: 1:08 - loss: 1.2744 - accuracy: 0.09 - ETA: 1:08 - loss: 1.2748 - accuracy: 0.09 - ETA: 1:07 - loss: 1.2750 - accuracy: 0.09 - ETA: 1:06 - loss: 1.2747 - accuracy: 0.09 - ETA: 1:05 - loss: 1.2748 - accuracy: 0.09 - ETA: 1:04 - loss: 1.2743 - accuracy: 0.09 - ETA: 1:03 - loss: 1.2751 - accuracy: 0.09 - ETA: 1:02 - loss: 1.2748 - accuracy: 0.09 - ETA: 1:01 - loss: 1.2753 - accuracy: 0.09 - ETA: 1:00 - loss: 1.2750 - accuracy: 0.09 - ETA: 59s - loss: 1.2743 - accuracy: 0.0966 - ETA: 58s - loss: 1.2743 - accuracy: 0.096 - ETA: 58s - loss: 1.2744 - accuracy: 0.096 - ETA: 57s - loss: 1.2745 - accuracy: 0.096 - ETA: 56s - loss: 1.2740 - accuracy: 0.096 - ETA: 55s - loss: 1.2737 - accuracy: 0.096 - ETA: 54s - loss: 1.2730 - accuracy: 0.096 - ETA: 53s - loss: 1.2733 - accuracy: 0.096 - ETA: 52s - loss: 1.2734 - accuracy: 0.096 - ETA: 51s - loss: 1.2734 - accuracy: 0.096 - ETA: 50s - loss: 1.2739 - accuracy: 0.096 - ETA: 49s - loss: 1.2737 - accuracy: 0.096 - ETA: 49s - loss: 1.2737 - accuracy: 0.096 - ETA: 48s - loss: 1.2743 - accuracy: 0.096 - ETA: 47s - loss: 1.2747 - accuracy: 0.096 - ETA: 46s - loss: 1.2748 - accuracy: 0.096 - ETA: 45s - loss: 1.2749 - accuracy: 0.096 - ETA: 44s - loss: 1.2751 - accuracy: 0.096 - ETA: 43s - loss: 1.2751 - accuracy: 0.096 - ETA: 42s - loss: 1.2756 - accuracy: 0.096 - ETA: 41s - loss: 1.2766 - accuracy: 0.096 - ETA: 40s - loss: 1.2768 - accuracy: 0.096 - ETA: 39s - loss: 1.2761 - accuracy: 0.096 - ETA: 39s - loss: 1.2755 - accuracy: 0.096 - ETA: 38s - loss: 1.2752 - accuracy: 0.096 - ETA: 37s - loss: 1.2750 - accuracy: 0.096 - ETA: 36s - loss: 1.2750 - accuracy: 0.096 - ETA: 35s - loss: 1.2750 - accuracy: 0.096 - ETA: 34s - loss: 1.2749 - accuracy: 0.096 - ETA: 33s - loss: 1.2747 - accuracy: 0.096 - ETA: 32s - loss: 1.2752 - accuracy: 0.096 - ETA: 31s - loss: 1.2755 - accuracy: 0.096 - ETA: 30s - loss: 1.2757 - accuracy: 0.096 - ETA: 29s - loss: 1.2757 - accuracy: 0.096 - ETA: 29s - loss: 1.2762 - accuracy: 0.096 - ETA: 28s - loss: 1.2761 - accuracy: 0.096 - ETA: 27s - loss: 1.2759 - accuracy: 0.096 - ETA: 26s - loss: 1.2758 - accuracy: 0.096 - ETA: 25s - loss: 1.2754 - accuracy: 0.096 - ETA: 24s - loss: 1.2763 - accuracy: 0.096 - ETA: 23s - loss: 1.2762 - accuracy: 0.096 - ETA: 22s - loss: 1.2765 - accuracy: 0.096 - ETA: 21s - loss: 1.2769 - accuracy: 0.096 - ETA: 20s - loss: 1.2776 - accuracy: 0.096 - ETA: 19s - loss: 1.2772 - accuracy: 0.096 - ETA: 19s - loss: 1.2769 - accuracy: 0.096 - ETA: 18s - loss: 1.2766 - accuracy: 0.096 - ETA: 17s - loss: 1.2776 - accuracy: 0.096 - ETA: 16s - loss: 1.2780 - accuracy: 0.096 - ETA: 15s - loss: 1.2775 - accuracy: 0.096 - ETA: 14s - loss: 1.2778 - accuracy: 0.096 - ETA: 13s - loss: 1.2778 - accuracy: 0.096 - ETA: 12s - loss: 1.2781 - accuracy: 0.096 - ETA: 11s - loss: 1.2785 - accuracy: 0.096 - ETA: 10s - loss: 1.2787 - accuracy: 0.096 - ETA: 9s - loss: 1.2792 - accuracy: 0.096 - ETA: 9s - loss: 1.2798 - accuracy: 0.09 - ETA: 8s - loss: 1.2797 - accuracy: 0.09 - ETA: 7s - loss: 1.2801 - accuracy: 0.09 - ETA: 6s - loss: 1.2801 - accuracy: 0.09 - ETA: 5s - loss: 1.2807 - accuracy: 0.09 - ETA: 4s - loss: 1.2801 - accuracy: 0.09 - ETA: 3s - loss: 1.2805 - accuracy: 0.09 - ETA: 2s - loss: 1.2801 - accuracy: 0.09 - ETA: 1s - loss: 1.2801 - accuracy: 0.09 - ETA: 0s - loss: 1.2808 - accuracy: 0.09 - 313s 907ms/step - loss: 1.2808 - accuracy: 0.0964\n",
      "Epoch 8/20\n",
      "186/345 [===============>..............] - ETA: 5:38 - loss: 0.9709 - accuracy: 0.09 - ETA: 5:17 - loss: 0.9821 - accuracy: 0.09 - ETA: 5:11 - loss: 1.0193 - accuracy: 0.09 - ETA: 5:10 - loss: 1.0973 - accuracy: 0.10 - ETA: 5:14 - loss: 1.1184 - accuracy: 0.10 - ETA: 5:10 - loss: 1.1271 - accuracy: 0.10 - ETA: 5:07 - loss: 1.1218 - accuracy: 0.10 - ETA: 5:05 - loss: 1.1172 - accuracy: 0.10 - ETA: 5:05 - loss: 1.1331 - accuracy: 0.10 - ETA: 5:04 - loss: 1.1533 - accuracy: 0.10 - ETA: 5:03 - loss: 1.1671 - accuracy: 0.10 - ETA: 5:02 - loss: 1.1764 - accuracy: 0.10 - ETA: 5:00 - loss: 1.1825 - accuracy: 0.10 - ETA: 4:58 - loss: 1.1839 - accuracy: 0.10 - ETA: 4:58 - loss: 1.1843 - accuracy: 0.10 - ETA: 4:57 - loss: 1.1814 - accuracy: 0.10 - ETA: 4:56 - loss: 1.1863 - accuracy: 0.10 - ETA: 4:55 - loss: 1.1810 - accuracy: 0.10 - ETA: 4:54 - loss: 1.1818 - accuracy: 0.10 - ETA: 4:55 - loss: 1.1815 - accuracy: 0.10 - ETA: 4:53 - loss: 1.1807 - accuracy: 0.10 - ETA: 4:52 - loss: 1.1796 - accuracy: 0.10 - ETA: 4:51 - loss: 1.1821 - accuracy: 0.10 - ETA: 4:51 - loss: 1.1792 - accuracy: 0.10 - ETA: 4:50 - loss: 1.1801 - accuracy: 0.10 - ETA: 4:49 - loss: 1.1863 - accuracy: 0.10 - ETA: 4:47 - loss: 1.1846 - accuracy: 0.10 - ETA: 4:47 - loss: 1.1845 - accuracy: 0.10 - ETA: 4:46 - loss: 1.1864 - accuracy: 0.10 - ETA: 4:45 - loss: 1.1855 - accuracy: 0.10 - ETA: 4:44 - loss: 1.1858 - accuracy: 0.10 - ETA: 4:43 - loss: 1.1871 - accuracy: 0.10 - ETA: 4:42 - loss: 1.1896 - accuracy: 0.10 - ETA: 4:41 - loss: 1.1917 - accuracy: 0.10 - ETA: 4:40 - loss: 1.1922 - accuracy: 0.10 - ETA: 4:39 - loss: 1.1935 - accuracy: 0.10 - ETA: 4:38 - loss: 1.1905 - accuracy: 0.10 - ETA: 4:38 - loss: 1.1924 - accuracy: 0.10 - ETA: 4:37 - loss: 1.1924 - accuracy: 0.10 - ETA: 4:36 - loss: 1.1857 - accuracy: 0.10 - ETA: 4:35 - loss: 1.1876 - accuracy: 0.10 - ETA: 4:34 - loss: 1.1875 - accuracy: 0.10 - ETA: 4:33 - loss: 1.1882 - accuracy: 0.10 - ETA: 4:32 - loss: 1.1854 - accuracy: 0.10 - ETA: 4:31 - loss: 1.1893 - accuracy: 0.10 - ETA: 4:30 - loss: 1.1924 - accuracy: 0.10 - ETA: 4:29 - loss: 1.1944 - accuracy: 0.10 - ETA: 4:29 - loss: 1.1959 - accuracy: 0.10 - ETA: 4:28 - loss: 1.1981 - accuracy: 0.10 - ETA: 4:27 - loss: 1.2031 - accuracy: 0.10 - ETA: 4:26 - loss: 1.2032 - accuracy: 0.10 - ETA: 4:25 - loss: 1.2027 - accuracy: 0.10 - ETA: 4:24 - loss: 1.1998 - accuracy: 0.10 - ETA: 4:23 - loss: 1.2050 - accuracy: 0.10 - ETA: 4:22 - loss: 1.2052 - accuracy: 0.10 - ETA: 4:21 - loss: 1.2046 - accuracy: 0.10 - ETA: 4:20 - loss: 1.2055 - accuracy: 0.10 - ETA: 4:19 - loss: 1.2104 - accuracy: 0.10 - ETA: 4:19 - loss: 1.2075 - accuracy: 0.10 - ETA: 4:18 - loss: 1.2070 - accuracy: 0.10 - ETA: 4:17 - loss: 1.2083 - accuracy: 0.10 - ETA: 4:16 - loss: 1.2062 - accuracy: 0.10 - ETA: 4:15 - loss: 1.2057 - accuracy: 0.10 - ETA: 4:14 - loss: 1.2042 - accuracy: 0.10 - ETA: 4:13 - loss: 1.2051 - accuracy: 0.10 - ETA: 4:12 - loss: 1.2039 - accuracy: 0.10 - ETA: 4:11 - loss: 1.2005 - accuracy: 0.10 - ETA: 4:11 - loss: 1.2001 - accuracy: 0.10 - ETA: 4:10 - loss: 1.2014 - accuracy: 0.10 - ETA: 4:09 - loss: 1.1981 - accuracy: 0.10 - ETA: 4:08 - loss: 1.1979 - accuracy: 0.10 - ETA: 4:07 - loss: 1.1979 - accuracy: 0.10 - ETA: 4:06 - loss: 1.1977 - accuracy: 0.10 - ETA: 4:05 - loss: 1.1986 - accuracy: 0.10 - ETA: 4:04 - loss: 1.2012 - accuracy: 0.10 - ETA: 4:03 - loss: 1.2005 - accuracy: 0.10 - ETA: 4:02 - loss: 1.1983 - accuracy: 0.10 - ETA: 4:01 - loss: 1.1969 - accuracy: 0.10 - ETA: 4:01 - loss: 1.1961 - accuracy: 0.10 - ETA: 4:00 - loss: 1.1980 - accuracy: 0.10 - ETA: 3:59 - loss: 1.1959 - accuracy: 0.10 - ETA: 3:58 - loss: 1.1928 - accuracy: 0.10 - ETA: 3:57 - loss: 1.1952 - accuracy: 0.10 - ETA: 3:56 - loss: 1.1964 - accuracy: 0.10 - ETA: 3:55 - loss: 1.1970 - accuracy: 0.10 - ETA: 3:54 - loss: 1.1973 - accuracy: 0.10 - ETA: 3:53 - loss: 1.1996 - accuracy: 0.10 - ETA: 3:52 - loss: 1.1977 - accuracy: 0.10 - ETA: 3:51 - loss: 1.1994 - accuracy: 0.10 - ETA: 3:51 - loss: 1.2003 - accuracy: 0.10 - ETA: 3:50 - loss: 1.2016 - accuracy: 0.10 - ETA: 3:49 - loss: 1.1985 - accuracy: 0.10 - ETA: 3:48 - loss: 1.1972 - accuracy: 0.10 - ETA: 3:47 - loss: 1.1958 - accuracy: 0.10 - ETA: 3:46 - loss: 1.2000 - accuracy: 0.10 - ETA: 3:45 - loss: 1.1998 - accuracy: 0.10 - ETA: 3:44 - loss: 1.1998 - accuracy: 0.10 - ETA: 3:43 - loss: 1.1985 - accuracy: 0.10 - ETA: 3:42 - loss: 1.1979 - accuracy: 0.10 - ETA: 3:41 - loss: 1.1986 - accuracy: 0.10 - ETA: 3:40 - loss: 1.1968 - accuracy: 0.10 - ETA: 3:39 - loss: 1.1964 - accuracy: 0.10 - ETA: 3:39 - loss: 1.1957 - accuracy: 0.10 - ETA: 3:38 - loss: 1.1955 - accuracy: 0.10 - ETA: 3:37 - loss: 1.1969 - accuracy: 0.10 - ETA: 3:36 - loss: 1.1960 - accuracy: 0.10 - ETA: 3:35 - loss: 1.1962 - accuracy: 0.10 - ETA: 3:34 - loss: 1.1959 - accuracy: 0.10 - ETA: 3:33 - loss: 1.1966 - accuracy: 0.10 - ETA: 3:32 - loss: 1.1939 - accuracy: 0.10 - ETA: 3:31 - loss: 1.1930 - accuracy: 0.10 - ETA: 3:30 - loss: 1.1934 - accuracy: 0.10 - ETA: 3:30 - loss: 1.1916 - accuracy: 0.10 - ETA: 3:29 - loss: 1.1897 - accuracy: 0.10 - ETA: 3:28 - loss: 1.1904 - accuracy: 0.10 - ETA: 3:27 - loss: 1.1894 - accuracy: 0.10 - ETA: 3:26 - loss: 1.1902 - accuracy: 0.10 - ETA: 3:25 - loss: 1.1903 - accuracy: 0.10 - ETA: 3:24 - loss: 1.1898 - accuracy: 0.10 - ETA: 3:23 - loss: 1.1889 - accuracy: 0.10 - ETA: 3:22 - loss: 1.1892 - accuracy: 0.10 - ETA: 3:21 - loss: 1.1902 - accuracy: 0.10 - ETA: 3:21 - loss: 1.1890 - accuracy: 0.10 - ETA: 3:20 - loss: 1.1887 - accuracy: 0.10 - ETA: 3:19 - loss: 1.1897 - accuracy: 0.10 - ETA: 3:18 - loss: 1.1894 - accuracy: 0.10 - ETA: 3:17 - loss: 1.1901 - accuracy: 0.10 - ETA: 3:16 - loss: 1.1892 - accuracy: 0.10 - ETA: 3:15 - loss: 1.1908 - accuracy: 0.10 - ETA: 3:14 - loss: 1.1912 - accuracy: 0.10 - ETA: 3:13 - loss: 1.1919 - accuracy: 0.10 - ETA: 3:12 - loss: 1.1923 - accuracy: 0.10 - ETA: 3:11 - loss: 1.1941 - accuracy: 0.10 - ETA: 3:11 - loss: 1.1936 - accuracy: 0.10 - ETA: 3:10 - loss: 1.1944 - accuracy: 0.10 - ETA: 3:09 - loss: 1.1939 - accuracy: 0.10 - ETA: 3:08 - loss: 1.1922 - accuracy: 0.10 - ETA: 3:07 - loss: 1.1916 - accuracy: 0.10 - ETA: 3:06 - loss: 1.1906 - accuracy: 0.10 - ETA: 3:05 - loss: 1.1909 - accuracy: 0.10 - ETA: 3:04 - loss: 1.1906 - accuracy: 0.10 - ETA: 3:03 - loss: 1.1921 - accuracy: 0.10 - ETA: 3:02 - loss: 1.1920 - accuracy: 0.10 - ETA: 3:01 - loss: 1.1923 - accuracy: 0.10 - ETA: 3:00 - loss: 1.1925 - accuracy: 0.10 - ETA: 3:00 - loss: 1.1936 - accuracy: 0.10 - ETA: 2:59 - loss: 1.1950 - accuracy: 0.10 - ETA: 2:58 - loss: 1.1955 - accuracy: 0.10 - ETA: 2:57 - loss: 1.1951 - accuracy: 0.10 - ETA: 2:56 - loss: 1.1967 - accuracy: 0.10 - ETA: 2:55 - loss: 1.1970 - accuracy: 0.10 - ETA: 2:54 - loss: 1.1978 - accuracy: 0.10 - ETA: 2:53 - loss: 1.1965 - accuracy: 0.10 - ETA: 2:52 - loss: 1.1966 - accuracy: 0.10 - ETA: 2:51 - loss: 1.1958 - accuracy: 0.10 - ETA: 2:50 - loss: 1.1964 - accuracy: 0.10 - ETA: 2:50 - loss: 1.1977 - accuracy: 0.10 - ETA: 2:49 - loss: 1.1980 - accuracy: 0.10 - ETA: 2:48 - loss: 1.1984 - accuracy: 0.10 - ETA: 2:47 - loss: 1.1985 - accuracy: 0.10 - ETA: 2:46 - loss: 1.1989 - accuracy: 0.10 - ETA: 2:45 - loss: 1.1999 - accuracy: 0.10 - ETA: 2:44 - loss: 1.2005 - accuracy: 0.10 - ETA: 2:43 - loss: 1.2014 - accuracy: 0.10 - ETA: 2:42 - loss: 1.2008 - accuracy: 0.10 - ETA: 2:41 - loss: 1.2009 - accuracy: 0.10 - ETA: 2:41 - loss: 1.2008 - accuracy: 0.10 - ETA: 2:40 - loss: 1.2001 - accuracy: 0.10 - ETA: 2:39 - loss: 1.2004 - accuracy: 0.10 - ETA: 2:38 - loss: 1.1999 - accuracy: 0.10 - ETA: 2:37 - loss: 1.2001 - accuracy: 0.10 - ETA: 2:36 - loss: 1.2012 - accuracy: 0.10 - ETA: 2:35 - loss: 1.2012 - accuracy: 0.10 - ETA: 2:34 - loss: 1.2018 - accuracy: 0.10 - ETA: 2:33 - loss: 1.2030 - accuracy: 0.10 - ETA: 2:32 - loss: 1.2038 - accuracy: 0.10 - ETA: 2:31 - loss: 1.2033 - accuracy: 0.10 - ETA: 2:31 - loss: 1.2032 - accuracy: 0.10 - ETA: 2:30 - loss: 1.2024 - accuracy: 0.10 - ETA: 2:29 - loss: 1.2024 - accuracy: 0.10 - ETA: 2:28 - loss: 1.2028 - accuracy: 0.10 - ETA: 2:27 - loss: 1.2027 - accuracy: 0.10 - ETA: 2:26 - loss: 1.2042 - accuracy: 0.10 - ETA: 2:25 - loss: 1.2037 - accuracy: 0.10 - ETA: 2:24 - loss: 1.2046 - accuracy: 0.10 - ETA: 2:23 - loss: 1.2032 - accuracy: 0.1037254/345 [=====================>........] - ETA: 2:22 - loss: 1.2029 - accuracy: 0.10 - ETA: 2:22 - loss: 1.2029 - accuracy: 0.10 - ETA: 2:21 - loss: 1.2030 - accuracy: 0.10 - ETA: 2:20 - loss: 1.2027 - accuracy: 0.10 - ETA: 2:19 - loss: 1.2040 - accuracy: 0.10 - ETA: 2:18 - loss: 1.2050 - accuracy: 0.10 - ETA: 2:17 - loss: 1.2053 - accuracy: 0.10 - ETA: 2:16 - loss: 1.2054 - accuracy: 0.10 - ETA: 2:15 - loss: 1.2053 - accuracy: 0.10 - ETA: 2:14 - loss: 1.2045 - accuracy: 0.10 - ETA: 2:13 - loss: 1.2042 - accuracy: 0.10 - ETA: 2:12 - loss: 1.2044 - accuracy: 0.10 - ETA: 2:12 - loss: 1.2045 - accuracy: 0.10 - ETA: 2:11 - loss: 1.2033 - accuracy: 0.10 - ETA: 2:10 - loss: 1.2033 - accuracy: 0.10 - ETA: 2:09 - loss: 1.2042 - accuracy: 0.10 - ETA: 2:08 - loss: 1.2046 - accuracy: 0.10 - ETA: 2:07 - loss: 1.2043 - accuracy: 0.10 - ETA: 2:06 - loss: 1.2045 - accuracy: 0.10 - ETA: 2:05 - loss: 1.2043 - accuracy: 0.10 - ETA: 2:04 - loss: 1.2037 - accuracy: 0.10 - ETA: 2:04 - loss: 1.2052 - accuracy: 0.10 - ETA: 2:03 - loss: 1.2062 - accuracy: 0.10 - ETA: 2:02 - loss: 1.2072 - accuracy: 0.10 - ETA: 2:01 - loss: 1.2064 - accuracy: 0.10 - ETA: 2:00 - loss: 1.2058 - accuracy: 0.10 - ETA: 1:59 - loss: 1.2046 - accuracy: 0.10 - ETA: 1:59 - loss: 1.2048 - accuracy: 0.10 - ETA: 1:58 - loss: 1.2058 - accuracy: 0.10 - ETA: 1:57 - loss: 1.2071 - accuracy: 0.10 - ETA: 1:56 - loss: 1.2064 - accuracy: 0.10 - ETA: 1:55 - loss: 1.2072 - accuracy: 0.10 - ETA: 1:54 - loss: 1.2066 - accuracy: 0.10 - ETA: 1:53 - loss: 1.2068 - accuracy: 0.10 - ETA: 1:52 - loss: 1.2065 - accuracy: 0.10 - ETA: 1:52 - loss: 1.2065 - accuracy: 0.10 - ETA: 1:51 - loss: 1.2060 - accuracy: 0.10 - ETA: 1:50 - loss: 1.2071 - accuracy: 0.10 - ETA: 1:49 - loss: 1.2076 - accuracy: 0.10 - ETA: 1:48 - loss: 1.2073 - accuracy: 0.10 - ETA: 1:47 - loss: 1.2075 - accuracy: 0.10 - ETA: 1:46 - loss: 1.2074 - accuracy: 0.10 - ETA: 1:45 - loss: 1.2077 - accuracy: 0.10 - ETA: 1:44 - loss: 1.2083 - accuracy: 0.10 - ETA: 1:44 - loss: 1.2089 - accuracy: 0.10 - ETA: 1:43 - loss: 1.2091 - accuracy: 0.10 - ETA: 1:42 - loss: 1.2093 - accuracy: 0.10 - ETA: 1:41 - loss: 1.2095 - accuracy: 0.10 - ETA: 1:40 - loss: 1.2094 - accuracy: 0.10 - ETA: 1:39 - loss: 1.2104 - accuracy: 0.10 - ETA: 1:38 - loss: 1.2104 - accuracy: 0.10 - ETA: 1:37 - loss: 1.2102 - accuracy: 0.10 - ETA: 1:36 - loss: 1.2109 - accuracy: 0.10 - ETA: 1:36 - loss: 1.2109 - accuracy: 0.10 - ETA: 1:35 - loss: 1.2117 - accuracy: 0.10 - ETA: 1:34 - loss: 1.2120 - accuracy: 0.10 - ETA: 1:33 - loss: 1.2121 - accuracy: 0.10 - ETA: 1:32 - loss: 1.2122 - accuracy: 0.10 - ETA: 1:31 - loss: 1.2127 - accuracy: 0.10 - ETA: 1:30 - loss: 1.2137 - accuracy: 0.10 - ETA: 1:29 - loss: 1.2132 - accuracy: 0.10 - ETA: 1:28 - loss: 1.2134 - accuracy: 0.10 - ETA: 1:27 - loss: 1.2134 - accuracy: 0.10 - ETA: 1:26 - loss: 1.2131 - accuracy: 0.10 - ETA: 1:26 - loss: 1.2136 - accuracy: 0.10 - ETA: 1:25 - loss: 1.2136 - accuracy: 0.10 - ETA: 1:24 - loss: 1.2128 - accuracy: 0.10 - ETA: 1:23 - loss: 1.2134 - accuracy: 0.1031"
     ]
    }
   ],
   "source": [
    "EPOCHS = 20\n",
    "\n",
    "model.fit(dataset, epochs=EPOCHS)"
   ]
  },
  {
   "cell_type": "markdown",
   "metadata": {},
   "source": [
    "## Evaluate and predict\n",
    "\n",
    "The following steps are used for evaluation:\n",
    "\n",
    "* Apply the same preprocessing method we used to create our dataset for the input sentence.\n",
    "* Tokenize the input sentence and add `START_TOKEN` and `END_TOKEN`. \n",
    "* Calculate the padding masks and the look ahead masks.\n",
    "* The decoder then outputs the predictions by looking at the encoder output and its own output.\n",
    "* Select the last word and calculate the argmax of that.\n",
    "* Concatentate the predicted word to the decoder input as pass it to the decoder.\n",
    "* In this approach, the decoder predicts the next word based on the previous words it predicted.\n",
    "\n",
    "Note: The model used here has less capacity and trained on a subset of the full dataset, hence its performance can be further improved."
   ]
  },
  {
   "cell_type": "code",
   "execution_count": null,
   "metadata": {},
   "outputs": [],
   "source": [
    "def evaluate(sentence):\n",
    "  sentence = preprocess_sentence(sentence)\n",
    "\n",
    "  sentence = tf.expand_dims(\n",
    "      START_TOKEN + tokenizer.encode(sentence) + END_TOKEN, axis=0)\n",
    "\n",
    "  output = tf.expand_dims(START_TOKEN, 0)\n",
    "\n",
    "  for i in range(MAX_LENGTH):\n",
    "    predictions = model(inputs=[sentence, output], training=False)\n",
    "\n",
    "    # select the last word from the seq_len dimension\n",
    "    predictions = predictions[:, -1:, :]\n",
    "    predicted_id = tf.cast(tf.argmax(predictions, axis=-1), tf.int32)\n",
    "\n",
    "    # return the result if the predicted_id is equal to the end token\n",
    "    if tf.equal(predicted_id, END_TOKEN[0]):\n",
    "      break\n",
    "\n",
    "    # concatenated the predicted_id to the output which is given to the decoder\n",
    "    # as its input.\n",
    "    output = tf.concat([output, predicted_id], axis=-1)\n",
    "\n",
    "  return tf.squeeze(output, axis=0)\n",
    "\n",
    "\n",
    "def predict(sentence):\n",
    "  prediction = evaluate(sentence)\n",
    "\n",
    "  predicted_sentence = tokenizer.decode(\n",
    "      [i for i in prediction if i < tokenizer.vocab_size])\n",
    "\n",
    "  print('Input: {}'.format(sentence))\n",
    "  print('Output: {}'.format(predicted_sentence))\n",
    "\n",
    "  return predicted_sentence"
   ]
  },
  {
   "cell_type": "markdown",
   "metadata": {},
   "source": [
    "Let's test our model!"
   ]
  },
  {
   "cell_type": "code",
   "execution_count": null,
   "metadata": {},
   "outputs": [],
   "source": [
    "output = predict('Where have you been?')"
   ]
  },
  {
   "cell_type": "code",
   "execution_count": null,
   "metadata": {},
   "outputs": [],
   "source": [
    "output = predict(\"It's a trap\")"
   ]
  },
  {
   "cell_type": "code",
   "execution_count": null,
   "metadata": {},
   "outputs": [],
   "source": [
    "# feed the model with its previous output\n",
    "sentence = 'I am not crazy, my mother had me tested.'\n",
    "for _ in range(5):\n",
    "  sentence = predict(sentence)\n",
    "  print('')"
   ]
  },
  {
   "cell_type": "markdown",
   "metadata": {},
   "source": [
    "## Summary\n",
    "\n",
    "Here we are, we have implemented a Transformer in TensorFlow 2.0 in around 500 lines of code.\n",
    "\n",
    "In this tutorial, we focus on the two different approaches to implement complex models with Functional API and Model subclassing, and how to incorporate them.\n",
    "\n",
    "Try using a different dataset or hyper-parameters to train the Transformer! Thanks for reading.\n"
   ]
  },
  {
   "cell_type": "code",
   "execution_count": null,
   "metadata": {},
   "outputs": [],
   "source": []
  }
 ],
 "metadata": {
  "kernelspec": {
   "display_name": "Python 3",
   "language": "python",
   "name": "python3"
  },
  "language_info": {
   "codemirror_mode": {
    "name": "ipython",
    "version": 3
   },
   "file_extension": ".py",
   "mimetype": "text/x-python",
   "name": "python",
   "nbconvert_exporter": "python",
   "pygments_lexer": "ipython3",
   "version": "3.7.4"
  }
 },
 "nbformat": 4,
 "nbformat_minor": 2
}
